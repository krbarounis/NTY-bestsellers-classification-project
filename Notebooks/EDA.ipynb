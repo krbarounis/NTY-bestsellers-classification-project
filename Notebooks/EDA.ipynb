{
 "cells": [
  {
   "cell_type": "markdown",
   "metadata": {},
   "source": [
    "# Exploritory Data Analysis"
   ]
  },
  {
   "cell_type": "markdown",
   "metadata": {},
   "source": [
    "## Data cleaning"
   ]
  },
  {
   "cell_type": "code",
   "execution_count": 1,
   "metadata": {},
   "outputs": [],
   "source": [
    "import json\n",
    "import pandas as pd\n",
    "import re\n",
    "import numpy as np\n",
    "import seaborn as sns\n",
    "%matplotlib inline"
   ]
  },
  {
   "cell_type": "code",
   "execution_count": 2,
   "metadata": {},
   "outputs": [],
   "source": [
    "# import 2018 goodreads books\n",
    "with open(\"Goodreads_books_2018.json\") as datafile:\n",
    "    data_2018 = json.load(datafile)"
   ]
  },
  {
   "cell_type": "code",
   "execution_count": 3,
   "metadata": {},
   "outputs": [],
   "source": [
    "# import 2017 goodreads books\n",
    "with open(\"Goodreads_books_2017.json\") as datafile:\n",
    "    data_2017 = json.load(datafile)"
   ]
  },
  {
   "cell_type": "markdown",
   "metadata": {},
   "source": [
    "### Cleaing up Goodreads book data"
   ]
  },
  {
   "cell_type": "code",
   "execution_count": 4,
   "metadata": {},
   "outputs": [],
   "source": [
    "df_2018 = pd.DataFrame(data_2018)"
   ]
  },
  {
   "cell_type": "code",
   "execution_count": 5,
   "metadata": {},
   "outputs": [],
   "source": [
    "df_2017 = pd.DataFrame(data_2017)"
   ]
  },
  {
   "cell_type": "code",
   "execution_count": 6,
   "metadata": {},
   "outputs": [],
   "source": [
    "# join the dataframes\n",
    "df_goodreads = pd.concat([df_2017,df_2018])"
   ]
  },
  {
   "cell_type": "code",
   "execution_count": 7,
   "metadata": {},
   "outputs": [],
   "source": [
    "# reset the index\n",
    "df_goodreads.reset_index(drop=True,inplace=True)"
   ]
  },
  {
   "cell_type": "code",
   "execution_count": 8,
   "metadata": {},
   "outputs": [
    {
     "data": {
      "text/plain": [
       "(2803, 10)"
      ]
     },
     "execution_count": 8,
     "metadata": {},
     "output_type": "execute_result"
    }
   ],
   "source": [
    "df_goodreads.shape"
   ]
  },
  {
   "cell_type": "code",
   "execution_count": 9,
   "metadata": {},
   "outputs": [],
   "source": [
    "# change the order of the columns\n",
    "df_goodreads = df_goodreads[['ISBN','title','series','author','rating','genre','publish_date','publish_company','format','number_of_pages']]"
   ]
  },
  {
   "cell_type": "code",
   "execution_count": 10,
   "metadata": {},
   "outputs": [
    {
     "name": "stderr",
     "output_type": "stream",
     "text": [
      "/Users/Kristinabarounis/anaconda3/lib/python3.7/site-packages/ipykernel_launcher.py:4: UserWarning: This pattern has match groups. To actually get the groups, use str.extract.\n",
      "  after removing the cwd from sys.path.\n"
     ]
    }
   ],
   "source": [
    "# get rid of rows where ISBN data isn't in the 13-digit format using regex\n",
    "reg_ex = r'^(\\d{13})$'\n",
    "\n",
    "df_goodreads = df_goodreads[df_goodreads['ISBN'].str.contains(reg_ex)]"
   ]
  },
  {
   "cell_type": "code",
   "execution_count": 11,
   "metadata": {},
   "outputs": [],
   "source": [
    "# make series column binary (0 if not part of a series, 1 if it is)\n",
    "df_goodreads['series'].loc[(df_goodreads['series'] == \"Edit Details\")] = 0\n",
    "df_goodreads['series'].loc[(df_goodreads['series'] != 0)] = 1"
   ]
  },
  {
   "cell_type": "code",
   "execution_count": 12,
   "metadata": {},
   "outputs": [],
   "source": [
    "# convert rating column to numbers\n",
    "df_goodreads['rating'] = df_goodreads['rating'].astype(float)"
   ]
  },
  {
   "cell_type": "code",
   "execution_count": 13,
   "metadata": {},
   "outputs": [],
   "source": [
    "# split up the date into month and year\n",
    "df_goodreads['publish_month'] = df_goodreads['publish_date'].str.split(n=2,expand = True)[0]\n",
    "df_goodreads['publish_year'] = df_goodreads['publish_date'].str.split(n=2,expand = True)[2]"
   ]
  },
  {
   "cell_type": "code",
   "execution_count": 14,
   "metadata": {},
   "outputs": [
    {
     "data": {
      "text/plain": [
       "(1172, 12)"
      ]
     },
     "execution_count": 14,
     "metadata": {},
     "output_type": "execute_result"
    }
   ],
   "source": [
    "# 1172 books from goodreads between 2017 and 2018 bc we dropped the empty ISBNs\n",
    "df_goodreads.shape"
   ]
  },
  {
   "cell_type": "code",
   "execution_count": 15,
   "metadata": {},
   "outputs": [],
   "source": [
    "# reset the index again\n",
    "df_goodreads.reset_index(drop=True, inplace=True)"
   ]
  },
  {
   "cell_type": "code",
   "execution_count": 16,
   "metadata": {},
   "outputs": [
    {
     "data": {
      "text/html": [
       "<div>\n",
       "<style scoped>\n",
       "    .dataframe tbody tr th:only-of-type {\n",
       "        vertical-align: middle;\n",
       "    }\n",
       "\n",
       "    .dataframe tbody tr th {\n",
       "        vertical-align: top;\n",
       "    }\n",
       "\n",
       "    .dataframe thead th {\n",
       "        text-align: right;\n",
       "    }\n",
       "</style>\n",
       "<table border=\"1\" class=\"dataframe\">\n",
       "  <thead>\n",
       "    <tr style=\"text-align: right;\">\n",
       "      <th></th>\n",
       "      <th>ISBN</th>\n",
       "      <th>title</th>\n",
       "      <th>series</th>\n",
       "      <th>author</th>\n",
       "      <th>rating</th>\n",
       "      <th>genre</th>\n",
       "      <th>publish_date</th>\n",
       "      <th>publish_company</th>\n",
       "      <th>format</th>\n",
       "      <th>number_of_pages</th>\n",
       "      <th>publish_month</th>\n",
       "      <th>publish_year</th>\n",
       "    </tr>\n",
       "  </thead>\n",
       "  <tbody>\n",
       "    <tr>\n",
       "      <th>927</th>\n",
       "      <td>9780062676788</td>\n",
       "      <td>The Word Is Murder</td>\n",
       "      <td>1</td>\n",
       "      <td>Anthony Horowitz</td>\n",
       "      <td>3.92</td>\n",
       "      <td>mystery</td>\n",
       "      <td>June 5th 2018</td>\n",
       "      <td>Harper (first published August 24th 2017)</td>\n",
       "      <td>Hardcover</td>\n",
       "      <td>390</td>\n",
       "      <td>June</td>\n",
       "      <td>2018</td>\n",
       "    </tr>\n",
       "  </tbody>\n",
       "</table>\n",
       "</div>"
      ],
      "text/plain": [
       "              ISBN                 title  series            author  rating  \\\n",
       "927  9780062676788   The Word Is Murder        1  Anthony Horowitz    3.92   \n",
       "\n",
       "       genre   publish_date                            publish_company  \\\n",
       "927  mystery  June 5th 2018  Harper (first published August 24th 2017)   \n",
       "\n",
       "        format number_of_pages publish_month publish_year  \n",
       "927  Hardcover             390          June         2018  "
      ]
     },
     "execution_count": 16,
     "metadata": {},
     "output_type": "execute_result"
    }
   ],
   "source": [
    "# need to drop duplicate ISBNs - there is only 1\n",
    "df_goodreads[df_goodreads.duplicated(subset='ISBN') == True]"
   ]
  },
  {
   "cell_type": "code",
   "execution_count": 17,
   "metadata": {},
   "outputs": [
    {
     "data": {
      "text/html": [
       "<div>\n",
       "<style scoped>\n",
       "    .dataframe tbody tr th:only-of-type {\n",
       "        vertical-align: middle;\n",
       "    }\n",
       "\n",
       "    .dataframe tbody tr th {\n",
       "        vertical-align: top;\n",
       "    }\n",
       "\n",
       "    .dataframe thead th {\n",
       "        text-align: right;\n",
       "    }\n",
       "</style>\n",
       "<table border=\"1\" class=\"dataframe\">\n",
       "  <thead>\n",
       "    <tr style=\"text-align: right;\">\n",
       "      <th></th>\n",
       "      <th>ISBN</th>\n",
       "      <th>title</th>\n",
       "      <th>series</th>\n",
       "      <th>author</th>\n",
       "      <th>rating</th>\n",
       "      <th>genre</th>\n",
       "      <th>publish_date</th>\n",
       "      <th>publish_company</th>\n",
       "      <th>format</th>\n",
       "      <th>number_of_pages</th>\n",
       "      <th>publish_month</th>\n",
       "      <th>publish_year</th>\n",
       "    </tr>\n",
       "  </thead>\n",
       "  <tbody>\n",
       "    <tr>\n",
       "      <th>545</th>\n",
       "      <td>9780062676788</td>\n",
       "      <td>The Word Is Murder</td>\n",
       "      <td>1</td>\n",
       "      <td>Anthony Horowitz</td>\n",
       "      <td>3.92</td>\n",
       "      <td>mystery</td>\n",
       "      <td>June 5th 2018</td>\n",
       "      <td>Harper (first published August 24th 2017)</td>\n",
       "      <td>Hardcover</td>\n",
       "      <td>390</td>\n",
       "      <td>June</td>\n",
       "      <td>2018</td>\n",
       "    </tr>\n",
       "    <tr>\n",
       "      <th>927</th>\n",
       "      <td>9780062676788</td>\n",
       "      <td>The Word Is Murder</td>\n",
       "      <td>1</td>\n",
       "      <td>Anthony Horowitz</td>\n",
       "      <td>3.92</td>\n",
       "      <td>mystery</td>\n",
       "      <td>June 5th 2018</td>\n",
       "      <td>Harper (first published August 24th 2017)</td>\n",
       "      <td>Hardcover</td>\n",
       "      <td>390</td>\n",
       "      <td>June</td>\n",
       "      <td>2018</td>\n",
       "    </tr>\n",
       "  </tbody>\n",
       "</table>\n",
       "</div>"
      ],
      "text/plain": [
       "              ISBN                 title  series            author  rating  \\\n",
       "545  9780062676788   The Word Is Murder        1  Anthony Horowitz    3.92   \n",
       "927  9780062676788   The Word Is Murder        1  Anthony Horowitz    3.92   \n",
       "\n",
       "       genre   publish_date                            publish_company  \\\n",
       "545  mystery  June 5th 2018  Harper (first published August 24th 2017)   \n",
       "927  mystery  June 5th 2018  Harper (first published August 24th 2017)   \n",
       "\n",
       "        format number_of_pages publish_month publish_year  \n",
       "545  Hardcover             390          June         2018  \n",
       "927  Hardcover             390          June         2018  "
      ]
     },
     "execution_count": 17,
     "metadata": {},
     "output_type": "execute_result"
    }
   ],
   "source": [
    "df_goodreads[df_goodreads['ISBN'] == '9780062676788']"
   ]
  },
  {
   "cell_type": "code",
   "execution_count": 18,
   "metadata": {},
   "outputs": [],
   "source": [
    "# let's drop the second one\n",
    "df_goodreads = df_goodreads.drop(index = 545)"
   ]
  },
  {
   "cell_type": "code",
   "execution_count": 19,
   "metadata": {},
   "outputs": [
    {
     "data": {
      "text/html": [
       "<div>\n",
       "<style scoped>\n",
       "    .dataframe tbody tr th:only-of-type {\n",
       "        vertical-align: middle;\n",
       "    }\n",
       "\n",
       "    .dataframe tbody tr th {\n",
       "        vertical-align: top;\n",
       "    }\n",
       "\n",
       "    .dataframe thead th {\n",
       "        text-align: right;\n",
       "    }\n",
       "</style>\n",
       "<table border=\"1\" class=\"dataframe\">\n",
       "  <thead>\n",
       "    <tr style=\"text-align: right;\">\n",
       "      <th></th>\n",
       "      <th>ISBN</th>\n",
       "      <th>title</th>\n",
       "      <th>series</th>\n",
       "      <th>author</th>\n",
       "      <th>rating</th>\n",
       "      <th>genre</th>\n",
       "      <th>publish_date</th>\n",
       "      <th>publish_company</th>\n",
       "      <th>format</th>\n",
       "      <th>number_of_pages</th>\n",
       "      <th>publish_month</th>\n",
       "      <th>publish_year</th>\n",
       "    </tr>\n",
       "  </thead>\n",
       "  <tbody>\n",
       "    <tr>\n",
       "      <th>927</th>\n",
       "      <td>9780062676788</td>\n",
       "      <td>The Word Is Murder</td>\n",
       "      <td>1</td>\n",
       "      <td>Anthony Horowitz</td>\n",
       "      <td>3.92</td>\n",
       "      <td>mystery</td>\n",
       "      <td>June 5th 2018</td>\n",
       "      <td>Harper (first published August 24th 2017)</td>\n",
       "      <td>Hardcover</td>\n",
       "      <td>390</td>\n",
       "      <td>June</td>\n",
       "      <td>2018</td>\n",
       "    </tr>\n",
       "  </tbody>\n",
       "</table>\n",
       "</div>"
      ],
      "text/plain": [
       "              ISBN                 title  series            author  rating  \\\n",
       "927  9780062676788   The Word Is Murder        1  Anthony Horowitz    3.92   \n",
       "\n",
       "       genre   publish_date                            publish_company  \\\n",
       "927  mystery  June 5th 2018  Harper (first published August 24th 2017)   \n",
       "\n",
       "        format number_of_pages publish_month publish_year  \n",
       "927  Hardcover             390          June         2018  "
      ]
     },
     "execution_count": 19,
     "metadata": {},
     "output_type": "execute_result"
    }
   ],
   "source": [
    "# now there's only one!\n",
    "df_goodreads[df_goodreads['ISBN'] == '9780062676788']"
   ]
  },
  {
   "cell_type": "markdown",
   "metadata": {},
   "source": [
    "### Cleaning up NYT bestseller data"
   ]
  },
  {
   "cell_type": "code",
   "execution_count": 20,
   "metadata": {},
   "outputs": [],
   "source": [
    "# import the NYT bestsellers\n",
    "with open(\"list_of_NYT_books.json\") as datafile:\n",
    "    NYT_bestsellers = json.load(datafile)"
   ]
  },
  {
   "cell_type": "code",
   "execution_count": 21,
   "metadata": {},
   "outputs": [],
   "source": [
    "df_NYT = pd.DataFrame(NYT_bestsellers)"
   ]
  },
  {
   "cell_type": "code",
   "execution_count": 22,
   "metadata": {},
   "outputs": [],
   "source": [
    "# do everything to this dataframe that we did to the df above before merging"
   ]
  },
  {
   "cell_type": "code",
   "execution_count": 23,
   "metadata": {},
   "outputs": [],
   "source": [
    "df_NYT = df_NYT[['ISBN','title','series','author','rating','genre','publish_date','publish_company','format','number_of_pages']]"
   ]
  },
  {
   "cell_type": "code",
   "execution_count": 24,
   "metadata": {},
   "outputs": [],
   "source": [
    "# make series a binary value\n",
    "df_NYT['series'].loc[(df_NYT['series'] == \"Edit Details\")] = 0\n",
    "df_NYT['series'].loc[(df_NYT['series'] != 0)] = 1"
   ]
  },
  {
   "cell_type": "code",
   "execution_count": 25,
   "metadata": {},
   "outputs": [],
   "source": [
    "# split up the date into month and year\n",
    "df_NYT['publish_month'] = df_NYT['publish_date'].str.split(n=2,expand = True)[0]\n",
    "df_NYT['publish_year'] = df_NYT['publish_date'].str.split(n=2,expand = True)[2]"
   ]
  },
  {
   "cell_type": "code",
   "execution_count": 26,
   "metadata": {},
   "outputs": [],
   "source": [
    "# convert rating to a float\n",
    "df_NYT['rating'] = df_NYT['rating'].astype(float)"
   ]
  },
  {
   "cell_type": "code",
   "execution_count": 27,
   "metadata": {},
   "outputs": [],
   "source": [
    "# create a column of 1's to represent that these are all bestsellers \n",
    "df_NYT['NYT_bestseller'] = 1"
   ]
  },
  {
   "cell_type": "code",
   "execution_count": 28,
   "metadata": {},
   "outputs": [],
   "source": [
    "# drop duplicate books\n",
    "df_NYT = df_NYT.drop_duplicates()"
   ]
  },
  {
   "cell_type": "code",
   "execution_count": 29,
   "metadata": {},
   "outputs": [
    {
     "data": {
      "text/plain": [
       "558"
      ]
     },
     "execution_count": 29,
     "metadata": {},
     "output_type": "execute_result"
    }
   ],
   "source": [
    "len(df_NYT)"
   ]
  },
  {
   "cell_type": "markdown",
   "metadata": {},
   "source": [
    "### Merge the dataframes and continue cleaning"
   ]
  },
  {
   "cell_type": "code",
   "execution_count": 30,
   "metadata": {},
   "outputs": [],
   "source": [
    "full_df = pd.concat([df_NYT,df_goodreads], sort=False)"
   ]
  },
  {
   "cell_type": "code",
   "execution_count": 31,
   "metadata": {},
   "outputs": [
    {
     "data": {
      "text/plain": [
       "(1729, 13)"
      ]
     },
     "execution_count": 31,
     "metadata": {},
     "output_type": "execute_result"
    }
   ],
   "source": [
    "full_df.shape"
   ]
  },
  {
   "cell_type": "code",
   "execution_count": 32,
   "metadata": {},
   "outputs": [],
   "source": [
    "# let's reset the index\n",
    "full_df.reset_index(drop=True, inplace=True)"
   ]
  },
  {
   "cell_type": "code",
   "execution_count": 33,
   "metadata": {},
   "outputs": [
    {
     "data": {
      "text/plain": [
       "RangeIndex(start=0, stop=1729, step=1)"
      ]
     },
     "execution_count": 33,
     "metadata": {},
     "output_type": "execute_result"
    }
   ],
   "source": [
    "full_df.index"
   ]
  },
  {
   "cell_type": "code",
   "execution_count": 34,
   "metadata": {
    "scrolled": true
   },
   "outputs": [],
   "source": [
    "# fill in the non-bestsellers with 0 in that column\n",
    "full_df['NYT_bestseller'].fillna(value=0,inplace=True)"
   ]
  },
  {
   "cell_type": "markdown",
   "metadata": {},
   "source": [
    "#### Clean up date information"
   ]
  },
  {
   "cell_type": "code",
   "execution_count": 35,
   "metadata": {
    "scrolled": true
   },
   "outputs": [
    {
     "data": {
      "text/html": [
       "<div>\n",
       "<style scoped>\n",
       "    .dataframe tbody tr th:only-of-type {\n",
       "        vertical-align: middle;\n",
       "    }\n",
       "\n",
       "    .dataframe tbody tr th {\n",
       "        vertical-align: top;\n",
       "    }\n",
       "\n",
       "    .dataframe thead th {\n",
       "        text-align: right;\n",
       "    }\n",
       "</style>\n",
       "<table border=\"1\" class=\"dataframe\">\n",
       "  <thead>\n",
       "    <tr style=\"text-align: right;\">\n",
       "      <th></th>\n",
       "      <th>ISBN</th>\n",
       "      <th>title</th>\n",
       "      <th>series</th>\n",
       "      <th>author</th>\n",
       "      <th>rating</th>\n",
       "      <th>genre</th>\n",
       "      <th>publish_date</th>\n",
       "      <th>publish_company</th>\n",
       "      <th>format</th>\n",
       "      <th>number_of_pages</th>\n",
       "      <th>publish_month</th>\n",
       "      <th>publish_year</th>\n",
       "      <th>NYT_bestseller</th>\n",
       "    </tr>\n",
       "  </thead>\n",
       "  <tbody>\n",
       "    <tr>\n",
       "      <th>438</th>\n",
       "      <td>9780399592805</td>\n",
       "      <td>The Golden House</td>\n",
       "      <td>0</td>\n",
       "      <td>Salman Rushdie</td>\n",
       "      <td>3.66</td>\n",
       "      <td>fiction</td>\n",
       "      <td>2017</td>\n",
       "      <td>Random House</td>\n",
       "      <td>Hardcover</td>\n",
       "      <td>380</td>\n",
       "      <td>2017</td>\n",
       "      <td>None</td>\n",
       "      <td>1.0</td>\n",
       "    </tr>\n",
       "    <tr>\n",
       "      <th>1035</th>\n",
       "      <td>9781927990216</td>\n",
       "      <td>Prime Meridian</td>\n",
       "      <td>0</td>\n",
       "      <td>Silvia Moreno-Garcia</td>\n",
       "      <td>4.03</td>\n",
       "      <td>science-fiction</td>\n",
       "      <td></td>\n",
       "      <td>Innsmouth Free Press (first published December...</td>\n",
       "      <td>Paperback</td>\n",
       "      <td>122</td>\n",
       "      <td>None</td>\n",
       "      <td>None</td>\n",
       "      <td>0.0</td>\n",
       "    </tr>\n",
       "    <tr>\n",
       "      <th>1381</th>\n",
       "      <td>9789381841372</td>\n",
       "      <td>Wedding Pickle</td>\n",
       "      <td>0</td>\n",
       "      <td>Neha Sharma</td>\n",
       "      <td>4.03</td>\n",
       "      <td>asian-literature</td>\n",
       "      <td>2018</td>\n",
       "      <td>Grapevine India</td>\n",
       "      <td>Paperback</td>\n",
       "      <td>264</td>\n",
       "      <td>2018</td>\n",
       "      <td>None</td>\n",
       "      <td>0.0</td>\n",
       "    </tr>\n",
       "    <tr>\n",
       "      <th>1597</th>\n",
       "      <td>9780300219333</td>\n",
       "      <td>Packing My Library: An Elegy and Ten Digressi...</td>\n",
       "      <td>0</td>\n",
       "      <td>Alberto Manguel</td>\n",
       "      <td>3.88</td>\n",
       "      <td>writing</td>\n",
       "      <td>2018</td>\n",
       "      <td>Yale University Press</td>\n",
       "      <td>Hardcover</td>\n",
       "      <td>146</td>\n",
       "      <td>2018</td>\n",
       "      <td>None</td>\n",
       "      <td>0.0</td>\n",
       "    </tr>\n",
       "    <tr>\n",
       "      <th>1692</th>\n",
       "      <td>9780062468741</td>\n",
       "      <td>The Iron Season</td>\n",
       "      <td>1</td>\n",
       "      <td>Helene Wecker</td>\n",
       "      <td>4.03</td>\n",
       "      <td>fantasy</td>\n",
       "      <td>Expected publication: 2020</td>\n",
       "      <td>Harper</td>\n",
       "      <td>ebook</td>\n",
       "      <td>448</td>\n",
       "      <td>Expected</td>\n",
       "      <td>2020</td>\n",
       "      <td>0.0</td>\n",
       "    </tr>\n",
       "  </tbody>\n",
       "</table>\n",
       "</div>"
      ],
      "text/plain": [
       "               ISBN                                              title  \\\n",
       "438   9780399592805                                  The Golden House    \n",
       "1035  9781927990216                                    Prime Meridian    \n",
       "1381  9789381841372                                    Wedding Pickle    \n",
       "1597  9780300219333   Packing My Library: An Elegy and Ten Digressi...   \n",
       "1692  9780062468741                                   The Iron Season    \n",
       "\n",
       "      series                author  rating             genre  \\\n",
       "438        0        Salman Rushdie    3.66           fiction   \n",
       "1035       0  Silvia Moreno-Garcia    4.03   science-fiction   \n",
       "1381       0           Neha Sharma    4.03  asian-literature   \n",
       "1597       0       Alberto Manguel    3.88           writing   \n",
       "1692       1         Helene Wecker    4.03           fantasy   \n",
       "\n",
       "                     publish_date  \\\n",
       "438                          2017   \n",
       "1035                                \n",
       "1381                         2018   \n",
       "1597                         2018   \n",
       "1692   Expected publication: 2020   \n",
       "\n",
       "                                        publish_company     format  \\\n",
       "438                                        Random House  Hardcover   \n",
       "1035  Innsmouth Free Press (first published December...  Paperback   \n",
       "1381                                    Grapevine India  Paperback   \n",
       "1597                              Yale University Press  Hardcover   \n",
       "1692                                             Harper      ebook   \n",
       "\n",
       "     number_of_pages publish_month publish_year  NYT_bestseller  \n",
       "438              380          2017         None             1.0  \n",
       "1035             122          None         None             0.0  \n",
       "1381             264          2018         None             0.0  \n",
       "1597             146          2018         None             0.0  \n",
       "1692             448      Expected         2020             0.0  "
      ]
     },
     "execution_count": 35,
     "metadata": {},
     "output_type": "execute_result"
    }
   ],
   "source": [
    "# look at dates that weren't coded properly\n",
    "full_df[(full_df['publish_month'] != 'January') &\n",
    "        (full_df['publish_month'] != 'February') &\n",
    "        (full_df['publish_month'] != 'March') &\n",
    "        (full_df['publish_month'] != 'April') &\n",
    "        (full_df['publish_month'] != 'May') &\n",
    "        (full_df['publish_month'] != 'June') &\n",
    "        (full_df['publish_month'] != 'July') &\n",
    "        (full_df['publish_month'] != 'August') &\n",
    "        (full_df['publish_month'] != 'September') &\n",
    "        (full_df['publish_month'] != 'October') &\n",
    "        (full_df['publish_month'] != 'November') &\n",
    "        (full_df['publish_month'] != 'December')]\n"
   ]
  },
  {
   "cell_type": "code",
   "execution_count": 36,
   "metadata": {},
   "outputs": [
    {
     "name": "stderr",
     "output_type": "stream",
     "text": [
      "/Users/Kristinabarounis/anaconda3/lib/python3.7/site-packages/pandas/core/indexing.py:190: SettingWithCopyWarning: \n",
      "A value is trying to be set on a copy of a slice from a DataFrame\n",
      "\n",
      "See the caveats in the documentation: http://pandas.pydata.org/pandas-docs/stable/indexing.html#indexing-view-versus-copy\n",
      "  self._setitem_with_indexer(indexer, value)\n"
     ]
    }
   ],
   "source": [
    "# manually fix these, except the last one which hasn't been published yet - let's drop that one\n",
    "full_df['publish_month'].loc[full_df['ISBN'] == '9780399592805'] = 'September'\n",
    "full_df['publish_month'].loc[full_df['ISBN'] == '9781927990216'] = 'July'\n",
    "full_df['publish_month'].loc[full_df['ISBN'] == '9789381841372'] = 'January'\n",
    "full_df['publish_month'].loc[full_df['ISBN'] == '9780300219333'] = 'March'\n",
    "full_df = full_df.drop(index=1692)"
   ]
  },
  {
   "cell_type": "code",
   "execution_count": 37,
   "metadata": {
    "scrolled": true
   },
   "outputs": [],
   "source": [
    "# lets also fix the years\n",
    "full_df['publish_year'].loc[full_df['ISBN'] == '9780399592805'] = '2017'\n",
    "full_df['publish_year'].loc[full_df['ISBN'] == '9781927990216'] = '2018'\n",
    "full_df['publish_year'].loc[full_df['ISBN'] == '9789381841372'] = '2018'\n",
    "full_df['publish_year'].loc[full_df['ISBN'] == '9780300219333'] = '2018'"
   ]
  },
  {
   "cell_type": "code",
   "execution_count": 38,
   "metadata": {},
   "outputs": [
    {
     "name": "stderr",
     "output_type": "stream",
     "text": [
      "/Users/Kristinabarounis/anaconda3/lib/python3.7/site-packages/ipykernel_launcher.py:5: UserWarning: This pattern has match groups. To actually get the groups, use str.extract.\n",
      "  \"\"\"\n"
     ]
    },
    {
     "data": {
      "text/html": [
       "<div>\n",
       "<style scoped>\n",
       "    .dataframe tbody tr th:only-of-type {\n",
       "        vertical-align: middle;\n",
       "    }\n",
       "\n",
       "    .dataframe tbody tr th {\n",
       "        vertical-align: top;\n",
       "    }\n",
       "\n",
       "    .dataframe thead th {\n",
       "        text-align: right;\n",
       "    }\n",
       "</style>\n",
       "<table border=\"1\" class=\"dataframe\">\n",
       "  <thead>\n",
       "    <tr style=\"text-align: right;\">\n",
       "      <th></th>\n",
       "      <th>ISBN</th>\n",
       "      <th>title</th>\n",
       "      <th>series</th>\n",
       "      <th>author</th>\n",
       "      <th>rating</th>\n",
       "      <th>genre</th>\n",
       "      <th>publish_date</th>\n",
       "      <th>publish_company</th>\n",
       "      <th>format</th>\n",
       "      <th>number_of_pages</th>\n",
       "      <th>publish_month</th>\n",
       "      <th>publish_year</th>\n",
       "      <th>NYT_bestseller</th>\n",
       "    </tr>\n",
       "  </thead>\n",
       "  <tbody>\n",
       "    <tr>\n",
       "      <th>398</th>\n",
       "      <td>9780061122415</td>\n",
       "      <td>The Alchemist</td>\n",
       "      <td>0</td>\n",
       "      <td>Paulo Coelho</td>\n",
       "      <td>3.85</td>\n",
       "      <td>fiction</td>\n",
       "      <td>May 1st 1993</td>\n",
       "      <td>HarperCollins (first published 1988)</td>\n",
       "      <td>Paperback</td>\n",
       "      <td>197</td>\n",
       "      <td>May</td>\n",
       "      <td>1993</td>\n",
       "      <td>1.0</td>\n",
       "    </tr>\n",
       "    <tr>\n",
       "      <th>880</th>\n",
       "      <td>9781520356686</td>\n",
       "      <td>Fire in His Blood</td>\n",
       "      <td>1</td>\n",
       "      <td>Ruby Dixon</td>\n",
       "      <td>3.82</td>\n",
       "      <td>fantasy</td>\n",
       "      <td>January 11th 2017(first published January 9th ...</td>\n",
       "      <td></td>\n",
       "      <td>Paperback</td>\n",
       "      <td>331</td>\n",
       "      <td>January</td>\n",
       "      <td>2017(first published January 9th 2017)</td>\n",
       "      <td>0.0</td>\n",
       "    </tr>\n",
       "    <tr>\n",
       "      <th>1126</th>\n",
       "      <td>9781946836038</td>\n",
       "      <td>Amnesia</td>\n",
       "      <td>1</td>\n",
       "      <td>Cambria Hebert</td>\n",
       "      <td>3.99</td>\n",
       "      <td>romance</td>\n",
       "      <td>June 13th 2017(first published June 10th 2017)</td>\n",
       "      <td></td>\n",
       "      <td>Paperback</td>\n",
       "      <td>408</td>\n",
       "      <td>June</td>\n",
       "      <td>2017(first published June 10th 2017)</td>\n",
       "      <td>0.0</td>\n",
       "    </tr>\n",
       "  </tbody>\n",
       "</table>\n",
       "</div>"
      ],
      "text/plain": [
       "               ISBN                title  series          author  rating  \\\n",
       "398   9780061122415       The Alchemist        0    Paulo Coelho    3.85   \n",
       "880   9781520356686   Fire in His Blood        1      Ruby Dixon    3.82   \n",
       "1126  9781946836038             Amnesia        1  Cambria Hebert    3.99   \n",
       "\n",
       "        genre                                       publish_date  \\\n",
       "398   fiction                                       May 1st 1993   \n",
       "880   fantasy  January 11th 2017(first published January 9th ...   \n",
       "1126  romance     June 13th 2017(first published June 10th 2017)   \n",
       "\n",
       "                           publish_company     format number_of_pages  \\\n",
       "398   HarperCollins (first published 1988)  Paperback             197   \n",
       "880                                         Paperback             331   \n",
       "1126                                        Paperback             408   \n",
       "\n",
       "     publish_month                            publish_year  NYT_bestseller  \n",
       "398            May                                    1993             1.0  \n",
       "880        January  2017(first published January 9th 2017)             0.0  \n",
       "1126          June    2017(first published June 10th 2017)             0.0  "
      ]
     },
     "execution_count": 38,
     "metadata": {},
     "output_type": "execute_result"
    }
   ],
   "source": [
    "# lets do the same thing to check that the year was coded correctly but use regex since \n",
    "# so we don't have to manually write out all the years\n",
    "reg_ex_year = r'^(\\s*2[0-9]{3}\\s*)$' \n",
    "\n",
    "full_df[full_df['publish_year'].str.contains(reg_ex_year) == False]"
   ]
  },
  {
   "cell_type": "code",
   "execution_count": 39,
   "metadata": {},
   "outputs": [],
   "source": [
    "# manually change the last two (the first one is correct just written a long time ago!)\n",
    "full_df['publish_year'].loc[full_df['ISBN'] == '9781520356686'] = '2017'\n",
    "full_df['publish_year'].loc[full_df['ISBN'] == '9781946836038'] = '2017'"
   ]
  },
  {
   "cell_type": "code",
   "execution_count": 40,
   "metadata": {},
   "outputs": [
    {
     "name": "stderr",
     "output_type": "stream",
     "text": [
      "/Users/Kristinabarounis/anaconda3/lib/python3.7/site-packages/ipykernel_launcher.py:3: UserWarning: This pattern has match groups. To actually get the groups, use str.extract.\n",
      "  This is separate from the ipykernel package so we can avoid doing imports until\n"
     ]
    },
    {
     "data": {
      "text/html": [
       "<div>\n",
       "<style scoped>\n",
       "    .dataframe tbody tr th:only-of-type {\n",
       "        vertical-align: middle;\n",
       "    }\n",
       "\n",
       "    .dataframe tbody tr th {\n",
       "        vertical-align: top;\n",
       "    }\n",
       "\n",
       "    .dataframe thead th {\n",
       "        text-align: right;\n",
       "    }\n",
       "</style>\n",
       "<table border=\"1\" class=\"dataframe\">\n",
       "  <thead>\n",
       "    <tr style=\"text-align: right;\">\n",
       "      <th></th>\n",
       "      <th>ISBN</th>\n",
       "      <th>title</th>\n",
       "      <th>series</th>\n",
       "      <th>author</th>\n",
       "      <th>rating</th>\n",
       "      <th>genre</th>\n",
       "      <th>publish_date</th>\n",
       "      <th>publish_company</th>\n",
       "      <th>format</th>\n",
       "      <th>number_of_pages</th>\n",
       "      <th>publish_month</th>\n",
       "      <th>publish_year</th>\n",
       "      <th>NYT_bestseller</th>\n",
       "    </tr>\n",
       "  </thead>\n",
       "  <tbody>\n",
       "    <tr>\n",
       "      <th>398</th>\n",
       "      <td>9780061122415</td>\n",
       "      <td>The Alchemist</td>\n",
       "      <td>0</td>\n",
       "      <td>Paulo Coelho</td>\n",
       "      <td>3.85</td>\n",
       "      <td>fiction</td>\n",
       "      <td>May 1st 1993</td>\n",
       "      <td>HarperCollins (first published 1988)</td>\n",
       "      <td>Paperback</td>\n",
       "      <td>197</td>\n",
       "      <td>May</td>\n",
       "      <td>1993</td>\n",
       "      <td>1.0</td>\n",
       "    </tr>\n",
       "  </tbody>\n",
       "</table>\n",
       "</div>"
      ],
      "text/plain": [
       "              ISBN            title  series        author  rating    genre  \\\n",
       "398  9780061122415   The Alchemist        0  Paulo Coelho    3.85  fiction   \n",
       "\n",
       "     publish_date                       publish_company     format  \\\n",
       "398  May 1st 1993  HarperCollins (first published 1988)  Paperback   \n",
       "\n",
       "    number_of_pages publish_month publish_year  NYT_bestseller  \n",
       "398             197           May         1993             1.0  "
      ]
     },
     "execution_count": 40,
     "metadata": {},
     "output_type": "execute_result"
    }
   ],
   "source": [
    "# all fixed!\n",
    "\n",
    "full_df[full_df['publish_year'].str.contains(reg_ex_year) == False]"
   ]
  },
  {
   "cell_type": "markdown",
   "metadata": {},
   "source": [
    "##### Get rid of duplicates"
   ]
  },
  {
   "cell_type": "code",
   "execution_count": 41,
   "metadata": {
    "scrolled": true
   },
   "outputs": [
    {
     "data": {
      "text/plain": [
       "58"
      ]
     },
     "execution_count": 41,
     "metadata": {},
     "output_type": "execute_result"
    }
   ],
   "source": [
    "# there are cases where some books are duplicated (58)- the one's shown below are from goodreads\n",
    "# and are encoded as not best sellers (0 in the NYT column), even though they really are since they also appear\n",
    "# in the NYT dataframe and came from the NYT API\n",
    "len(full_df[full_df.duplicated(subset='ISBN') == True])"
   ]
  },
  {
   "cell_type": "code",
   "execution_count": 42,
   "metadata": {},
   "outputs": [],
   "source": [
    "# make the duplicates a 1 in the NYT best seller column so they are TRULY the same exact rows\n",
    "# that way we can use duplicated to drop them and the result will be one copy\n",
    "full_df['NYT_bestseller'].loc[full_df.duplicated(subset='ISBN')==True] = 1"
   ]
  },
  {
   "cell_type": "code",
   "execution_count": 43,
   "metadata": {},
   "outputs": [],
   "source": [
    "full_df=full_df.drop_duplicates()"
   ]
  },
  {
   "cell_type": "code",
   "execution_count": 44,
   "metadata": {},
   "outputs": [
    {
     "data": {
      "text/plain": [
       "(1671, 13)"
      ]
     },
     "execution_count": 44,
     "metadata": {},
     "output_type": "execute_result"
    }
   ],
   "source": [
    "full_df.shape"
   ]
  },
  {
   "cell_type": "code",
   "execution_count": 45,
   "metadata": {},
   "outputs": [],
   "source": [
    "full_df.reset_index(drop=True, inplace=True)"
   ]
  },
  {
   "cell_type": "code",
   "execution_count": 46,
   "metadata": {},
   "outputs": [
    {
     "data": {
      "text/plain": [
       "RangeIndex(start=0, stop=1671, step=1)"
      ]
     },
     "execution_count": 46,
     "metadata": {},
     "output_type": "execute_result"
    }
   ],
   "source": [
    "full_df.index"
   ]
  },
  {
   "cell_type": "markdown",
   "metadata": {},
   "source": [
    "#### Deal with missing values"
   ]
  },
  {
   "cell_type": "code",
   "execution_count": 47,
   "metadata": {},
   "outputs": [
    {
     "data": {
      "text/plain": [
       "(array([  60,  120,  133,  133,  292,  340,  440,  530,  546,  557,  585,\n",
       "         632,  845,  860,  906,  909,  915,  932,  967,  969,  996, 1010,\n",
       "        1010, 1010, 1024, 1040, 1063, 1076, 1077, 1083, 1095, 1303, 1366,\n",
       "        1366, 1489, 1503, 1545, 1586, 1612, 1627]),\n",
       " array([9, 9, 5, 9, 9, 9, 8, 9, 9, 9, 7, 7, 7, 9, 9, 5, 5, 5, 7, 9, 6, 5,\n",
       "        7, 9, 7, 9, 7, 7, 9, 9, 7, 7, 7, 9, 5, 9, 9, 9, 9, 5]))"
      ]
     },
     "execution_count": 47,
     "metadata": {},
     "output_type": "execute_result"
    }
   ],
   "source": [
    "# because of how we scraped, there are null values in the df currently coded as strings\n",
    "import numpy as np\n",
    "np.where(full_df.applymap(lambda x: x == ''))"
   ]
  },
  {
   "cell_type": "code",
   "execution_count": 48,
   "metadata": {},
   "outputs": [],
   "source": [
    "# let's replace them with nan values \n",
    "full_df.replace(r'^\\s*$', np.nan, regex=True, inplace = True)"
   ]
  },
  {
   "cell_type": "code",
   "execution_count": 49,
   "metadata": {},
   "outputs": [
    {
     "data": {
      "text/plain": [
       "(array([], dtype=int64), array([], dtype=int64))"
      ]
     },
     "execution_count": 49,
     "metadata": {},
     "output_type": "execute_result"
    }
   ],
   "source": [
    "# now they aren't coded as strings\n",
    "np.where(full_df.applymap(lambda x: x == ''))"
   ]
  },
  {
   "cell_type": "code",
   "execution_count": 50,
   "metadata": {},
   "outputs": [
    {
     "data": {
      "text/plain": [
       "ISBN                0\n",
       "title               0\n",
       "series              0\n",
       "author              0\n",
       "rating              0\n",
       "genre               7\n",
       "publish_date        1\n",
       "publish_company    11\n",
       "format              1\n",
       "number_of_pages    20\n",
       "publish_month       0\n",
       "publish_year        5\n",
       "NYT_bestseller      0\n",
       "dtype: int64"
      ]
     },
     "execution_count": 50,
     "metadata": {},
     "output_type": "execute_result"
    }
   ],
   "source": [
    "# let's see the empty values now\n",
    "full_df.isna().sum()"
   ]
  },
  {
   "cell_type": "code",
   "execution_count": 51,
   "metadata": {},
   "outputs": [],
   "source": [
    "# deal with empty values\n",
    "# just drop the ones with no page numbers\n",
    "full_df[full_df['number_of_pages'].isna()] \n",
    "full_df.dropna(subset=['number_of_pages'], inplace=True)"
   ]
  },
  {
   "cell_type": "code",
   "execution_count": 52,
   "metadata": {},
   "outputs": [
    {
     "data": {
      "text/html": [
       "<div>\n",
       "<style scoped>\n",
       "    .dataframe tbody tr th:only-of-type {\n",
       "        vertical-align: middle;\n",
       "    }\n",
       "\n",
       "    .dataframe tbody tr th {\n",
       "        vertical-align: top;\n",
       "    }\n",
       "\n",
       "    .dataframe thead th {\n",
       "        text-align: right;\n",
       "    }\n",
       "</style>\n",
       "<table border=\"1\" class=\"dataframe\">\n",
       "  <thead>\n",
       "    <tr style=\"text-align: right;\">\n",
       "      <th></th>\n",
       "      <th>ISBN</th>\n",
       "      <th>title</th>\n",
       "      <th>series</th>\n",
       "      <th>author</th>\n",
       "      <th>rating</th>\n",
       "      <th>genre</th>\n",
       "      <th>publish_date</th>\n",
       "      <th>publish_company</th>\n",
       "      <th>format</th>\n",
       "      <th>number_of_pages</th>\n",
       "      <th>publish_month</th>\n",
       "      <th>publish_year</th>\n",
       "      <th>NYT_bestseller</th>\n",
       "    </tr>\n",
       "  </thead>\n",
       "  <tbody>\n",
       "    <tr>\n",
       "      <th>996</th>\n",
       "      <td>9781927990216</td>\n",
       "      <td>Prime Meridian</td>\n",
       "      <td>0</td>\n",
       "      <td>Silvia Moreno-Garcia</td>\n",
       "      <td>4.03</td>\n",
       "      <td>science-fiction</td>\n",
       "      <td>NaN</td>\n",
       "      <td>Innsmouth Free Press (first published December...</td>\n",
       "      <td>Paperback</td>\n",
       "      <td>122</td>\n",
       "      <td>July</td>\n",
       "      <td>2018</td>\n",
       "      <td>0.0</td>\n",
       "    </tr>\n",
       "  </tbody>\n",
       "</table>\n",
       "</div>"
      ],
      "text/plain": [
       "              ISBN             title  series                author  rating  \\\n",
       "996  9781927990216   Prime Meridian        0  Silvia Moreno-Garcia    4.03   \n",
       "\n",
       "               genre publish_date  \\\n",
       "996  science-fiction          NaN   \n",
       "\n",
       "                                       publish_company     format  \\\n",
       "996  Innsmouth Free Press (first published December...  Paperback   \n",
       "\n",
       "    number_of_pages publish_month publish_year  NYT_bestseller  \n",
       "996             122          July         2018             0.0  "
      ]
     },
     "execution_count": 52,
     "metadata": {},
     "output_type": "execute_result"
    }
   ],
   "source": [
    "full_df[full_df['publish_date'].isna()]\n",
    "# this is fine we manually fixed the month and year columns already"
   ]
  },
  {
   "cell_type": "code",
   "execution_count": 53,
   "metadata": {},
   "outputs": [
    {
     "data": {
      "text/html": [
       "<div>\n",
       "<style scoped>\n",
       "    .dataframe tbody tr th:only-of-type {\n",
       "        vertical-align: middle;\n",
       "    }\n",
       "\n",
       "    .dataframe tbody tr th {\n",
       "        vertical-align: top;\n",
       "    }\n",
       "\n",
       "    .dataframe thead th {\n",
       "        text-align: right;\n",
       "    }\n",
       "</style>\n",
       "<table border=\"1\" class=\"dataframe\">\n",
       "  <thead>\n",
       "    <tr style=\"text-align: right;\">\n",
       "      <th></th>\n",
       "      <th>ISBN</th>\n",
       "      <th>title</th>\n",
       "      <th>series</th>\n",
       "      <th>author</th>\n",
       "      <th>rating</th>\n",
       "      <th>genre</th>\n",
       "      <th>publish_date</th>\n",
       "      <th>publish_company</th>\n",
       "      <th>format</th>\n",
       "      <th>number_of_pages</th>\n",
       "      <th>publish_month</th>\n",
       "      <th>publish_year</th>\n",
       "      <th>NYT_bestseller</th>\n",
       "    </tr>\n",
       "  </thead>\n",
       "  <tbody>\n",
       "    <tr>\n",
       "      <th>26</th>\n",
       "      <td>9780061792663</td>\n",
       "      <td>American Gods</td>\n",
       "      <td>1</td>\n",
       "      <td>Neil Gaiman</td>\n",
       "      <td>4.11</td>\n",
       "      <td>fantasy</td>\n",
       "      <td>June 2001</td>\n",
       "      <td>HarperCollins e-books</td>\n",
       "      <td>ebook</td>\n",
       "      <td>541</td>\n",
       "      <td>June</td>\n",
       "      <td>None</td>\n",
       "      <td>1.0</td>\n",
       "    </tr>\n",
       "    <tr>\n",
       "      <th>436</th>\n",
       "      <td>9781594633669</td>\n",
       "      <td>The Girl on the Train</td>\n",
       "      <td>0</td>\n",
       "      <td>Paula Hawkins</td>\n",
       "      <td>3.91</td>\n",
       "      <td>fiction</td>\n",
       "      <td>April 2019</td>\n",
       "      <td>Riverhead Books (first published January 13th ...</td>\n",
       "      <td>Hardcover</td>\n",
       "      <td>336</td>\n",
       "      <td>April</td>\n",
       "      <td>None</td>\n",
       "      <td>1.0</td>\n",
       "    </tr>\n",
       "    <tr>\n",
       "      <th>690</th>\n",
       "      <td>9781760293512</td>\n",
       "      <td>Frogkisser!</td>\n",
       "      <td>0</td>\n",
       "      <td>Garth Nix</td>\n",
       "      <td>3.77</td>\n",
       "      <td>fantasy</td>\n",
       "      <td>March 2017</td>\n",
       "      <td>Allen &amp; Unwin (first published February 28th 2...</td>\n",
       "      <td>Paperback</td>\n",
       "      <td>336</td>\n",
       "      <td>March</td>\n",
       "      <td>None</td>\n",
       "      <td>0.0</td>\n",
       "    </tr>\n",
       "    <tr>\n",
       "      <th>1002</th>\n",
       "      <td>9781612196015</td>\n",
       "      <td>Why I Am Not a Feminist: A Feminist Manifesto</td>\n",
       "      <td>0</td>\n",
       "      <td>Jessa Crispin</td>\n",
       "      <td>3.54</td>\n",
       "      <td>feminism</td>\n",
       "      <td>February 2017</td>\n",
       "      <td>Melville House</td>\n",
       "      <td>Paperback</td>\n",
       "      <td>151</td>\n",
       "      <td>February</td>\n",
       "      <td>None</td>\n",
       "      <td>0.0</td>\n",
       "    </tr>\n",
       "    <tr>\n",
       "      <th>1102</th>\n",
       "      <td>9781335014900</td>\n",
       "      <td>As I Am</td>\n",
       "      <td>1</td>\n",
       "      <td>A.M. Arthur</td>\n",
       "      <td>4.03</td>\n",
       "      <td>romance</td>\n",
       "      <td>March 2017</td>\n",
       "      <td>Carina Press (first published February 13th 2017)</td>\n",
       "      <td>Paperback</td>\n",
       "      <td>368</td>\n",
       "      <td>March</td>\n",
       "      <td>None</td>\n",
       "      <td>0.0</td>\n",
       "    </tr>\n",
       "  </tbody>\n",
       "</table>\n",
       "</div>"
      ],
      "text/plain": [
       "               ISBN                                            title  series  \\\n",
       "26    9780061792663                                   American Gods        1   \n",
       "436   9781594633669                           The Girl on the Train        0   \n",
       "690   9781760293512                                     Frogkisser!        0   \n",
       "1002  9781612196015   Why I Am Not a Feminist: A Feminist Manifesto        0   \n",
       "1102  9781335014900                                         As I Am        1   \n",
       "\n",
       "             author  rating     genre   publish_date  \\\n",
       "26      Neil Gaiman    4.11   fantasy      June 2001   \n",
       "436   Paula Hawkins    3.91   fiction     April 2019   \n",
       "690       Garth Nix    3.77   fantasy     March 2017   \n",
       "1002  Jessa Crispin    3.54  feminism  February 2017   \n",
       "1102    A.M. Arthur    4.03   romance     March 2017   \n",
       "\n",
       "                                        publish_company     format  \\\n",
       "26                                HarperCollins e-books      ebook   \n",
       "436   Riverhead Books (first published January 13th ...  Hardcover   \n",
       "690   Allen & Unwin (first published February 28th 2...  Paperback   \n",
       "1002                                     Melville House  Paperback   \n",
       "1102  Carina Press (first published February 13th 2017)  Paperback   \n",
       "\n",
       "     number_of_pages publish_month publish_year  NYT_bestseller  \n",
       "26               541          June         None             1.0  \n",
       "436              336         April         None             1.0  \n",
       "690              336         March         None             0.0  \n",
       "1002             151      February         None             0.0  \n",
       "1102             368         March         None             0.0  "
      ]
     },
     "execution_count": 53,
     "metadata": {},
     "output_type": "execute_result"
    }
   ],
   "source": [
    "full_df[full_df['publish_year'].isna()]"
   ]
  },
  {
   "cell_type": "code",
   "execution_count": 54,
   "metadata": {
    "scrolled": true
   },
   "outputs": [],
   "source": [
    "# manually fix these\n",
    "\n",
    "full_df['publish_year'].loc[full_df['ISBN'] == '9780061792663'] = '2001'\n",
    "full_df['publish_year'].loc[full_df['ISBN'] == '9781594633669'] = '2019'\n",
    "full_df['publish_year'].loc[full_df['ISBN'] == '9781760293512'] = '2017'\n",
    "full_df['publish_year'].loc[full_df['ISBN'] == '9781612196015'] = '2017'\n",
    "full_df['publish_year'].loc[full_df['ISBN'] == '9781335014900'] = '2017'"
   ]
  },
  {
   "cell_type": "code",
   "execution_count": 55,
   "metadata": {},
   "outputs": [
    {
     "data": {
      "text/html": [
       "<div>\n",
       "<style scoped>\n",
       "    .dataframe tbody tr th:only-of-type {\n",
       "        vertical-align: middle;\n",
       "    }\n",
       "\n",
       "    .dataframe tbody tr th {\n",
       "        vertical-align: top;\n",
       "    }\n",
       "\n",
       "    .dataframe thead th {\n",
       "        text-align: right;\n",
       "    }\n",
       "</style>\n",
       "<table border=\"1\" class=\"dataframe\">\n",
       "  <thead>\n",
       "    <tr style=\"text-align: right;\">\n",
       "      <th></th>\n",
       "      <th>ISBN</th>\n",
       "      <th>title</th>\n",
       "      <th>series</th>\n",
       "      <th>author</th>\n",
       "      <th>rating</th>\n",
       "      <th>genre</th>\n",
       "      <th>publish_date</th>\n",
       "      <th>publish_company</th>\n",
       "      <th>format</th>\n",
       "      <th>number_of_pages</th>\n",
       "      <th>publish_month</th>\n",
       "      <th>publish_year</th>\n",
       "      <th>NYT_bestseller</th>\n",
       "    </tr>\n",
       "  </thead>\n",
       "  <tbody>\n",
       "    <tr>\n",
       "      <th>909</th>\n",
       "      <td>9781912551118</td>\n",
       "      <td>Walk Quiet Run Quick</td>\n",
       "      <td>0</td>\n",
       "      <td>Jacqueline   Francis</td>\n",
       "      <td>2.50</td>\n",
       "      <td>NaN</td>\n",
       "      <td>March 3rd 2018</td>\n",
       "      <td>Conscious Dreams Publishing (first published 2...</td>\n",
       "      <td>Paperback</td>\n",
       "      <td>164</td>\n",
       "      <td>March</td>\n",
       "      <td>2018</td>\n",
       "      <td>0.0</td>\n",
       "    </tr>\n",
       "    <tr>\n",
       "      <th>915</th>\n",
       "      <td>9781522072942</td>\n",
       "      <td>The Hackers Code: The Great Prison Escape Pro...</td>\n",
       "      <td>0</td>\n",
       "      <td>A.K. Mars</td>\n",
       "      <td>4.67</td>\n",
       "      <td>NaN</td>\n",
       "      <td>August 13th 2017</td>\n",
       "      <td>A. K. MARS</td>\n",
       "      <td>Paperback</td>\n",
       "      <td>288</td>\n",
       "      <td>August</td>\n",
       "      <td>2017</td>\n",
       "      <td>0.0</td>\n",
       "    </tr>\n",
       "    <tr>\n",
       "      <th>932</th>\n",
       "      <td>9781978493162</td>\n",
       "      <td>New Trump Order: Get In, Fit in or Step Aside</td>\n",
       "      <td>0</td>\n",
       "      <td>America Speaks</td>\n",
       "      <td>5.00</td>\n",
       "      <td>NaN</td>\n",
       "      <td>October 19th 2017</td>\n",
       "      <td>Createspace</td>\n",
       "      <td>Paperback</td>\n",
       "      <td>266</td>\n",
       "      <td>October</td>\n",
       "      <td>2017</td>\n",
       "      <td>0.0</td>\n",
       "    </tr>\n",
       "    <tr>\n",
       "      <th>1489</th>\n",
       "      <td>9782021377613</td>\n",
       "      <td>Les vacances du petit Renard</td>\n",
       "      <td>0</td>\n",
       "      <td>Arthur Cahn</td>\n",
       "      <td>3.29</td>\n",
       "      <td>NaN</td>\n",
       "      <td>January 4th 2018</td>\n",
       "      <td>Le Seuil</td>\n",
       "      <td>Kindle Edition</td>\n",
       "      <td>192</td>\n",
       "      <td>January</td>\n",
       "      <td>2018</td>\n",
       "      <td>0.0</td>\n",
       "    </tr>\n",
       "    <tr>\n",
       "      <th>1627</th>\n",
       "      <td>9781725040304</td>\n",
       "      <td>Knitting in the City Coloring Book</td>\n",
       "      <td>1</td>\n",
       "      <td>Penny Reid</td>\n",
       "      <td>4.82</td>\n",
       "      <td>NaN</td>\n",
       "      <td>September 17th 2018</td>\n",
       "      <td>CreateSpace (first published September 11th 2018)</td>\n",
       "      <td>Paperback</td>\n",
       "      <td>66</td>\n",
       "      <td>September</td>\n",
       "      <td>2018</td>\n",
       "      <td>0.0</td>\n",
       "    </tr>\n",
       "  </tbody>\n",
       "</table>\n",
       "</div>"
      ],
      "text/plain": [
       "               ISBN                                              title  \\\n",
       "909   9781912551118                              Walk Quiet Run Quick    \n",
       "915   9781522072942   The Hackers Code: The Great Prison Escape Pro...   \n",
       "932   9781978493162     New Trump Order: Get In, Fit in or Step Aside    \n",
       "1489  9782021377613                      Les vacances du petit Renard    \n",
       "1627  9781725040304                Knitting in the City Coloring Book    \n",
       "\n",
       "      series                author  rating genre         publish_date  \\\n",
       "909        0  Jacqueline   Francis    2.50   NaN       March 3rd 2018   \n",
       "915        0             A.K. Mars    4.67   NaN     August 13th 2017   \n",
       "932        0        America Speaks    5.00   NaN    October 19th 2017   \n",
       "1489       0           Arthur Cahn    3.29   NaN     January 4th 2018   \n",
       "1627       1            Penny Reid    4.82   NaN  September 17th 2018   \n",
       "\n",
       "                                        publish_company          format  \\\n",
       "909   Conscious Dreams Publishing (first published 2...       Paperback   \n",
       "915                                          A. K. MARS       Paperback   \n",
       "932                                         Createspace       Paperback   \n",
       "1489                                           Le Seuil  Kindle Edition   \n",
       "1627  CreateSpace (first published September 11th 2018)       Paperback   \n",
       "\n",
       "     number_of_pages publish_month publish_year  NYT_bestseller  \n",
       "909              164         March         2018             0.0  \n",
       "915              288        August         2017             0.0  \n",
       "932              266       October         2017             0.0  \n",
       "1489             192       January         2018             0.0  \n",
       "1627              66     September         2018             0.0  "
      ]
     },
     "execution_count": 55,
     "metadata": {},
     "output_type": "execute_result"
    }
   ],
   "source": [
    "# let's drop these since genre is missing and the genre reflected in the rest of the datafarme\n",
    "# was taken from goodreads and based on peoples votes - genre is subjective (for our data at lest) so we don't\n",
    "# want to input genre in a different way and mess with the data\n",
    "full_df[full_df['genre'].isna()]"
   ]
  },
  {
   "cell_type": "code",
   "execution_count": 56,
   "metadata": {},
   "outputs": [],
   "source": [
    "full_df.dropna(subset=['genre'], inplace=True)"
   ]
  },
  {
   "cell_type": "code",
   "execution_count": 57,
   "metadata": {},
   "outputs": [
    {
     "data": {
      "text/html": [
       "<div>\n",
       "<style scoped>\n",
       "    .dataframe tbody tr th:only-of-type {\n",
       "        vertical-align: middle;\n",
       "    }\n",
       "\n",
       "    .dataframe tbody tr th {\n",
       "        vertical-align: top;\n",
       "    }\n",
       "\n",
       "    .dataframe thead th {\n",
       "        text-align: right;\n",
       "    }\n",
       "</style>\n",
       "<table border=\"1\" class=\"dataframe\">\n",
       "  <thead>\n",
       "    <tr style=\"text-align: right;\">\n",
       "      <th></th>\n",
       "      <th>ISBN</th>\n",
       "      <th>title</th>\n",
       "      <th>series</th>\n",
       "      <th>author</th>\n",
       "      <th>rating</th>\n",
       "      <th>genre</th>\n",
       "      <th>publish_date</th>\n",
       "      <th>publish_company</th>\n",
       "      <th>format</th>\n",
       "      <th>number_of_pages</th>\n",
       "      <th>publish_month</th>\n",
       "      <th>publish_year</th>\n",
       "      <th>NYT_bestseller</th>\n",
       "    </tr>\n",
       "  </thead>\n",
       "  <tbody>\n",
       "  </tbody>\n",
       "</table>\n",
       "</div>"
      ],
      "text/plain": [
       "Empty DataFrame\n",
       "Columns: [ISBN, title, series, author, rating, genre, publish_date, publish_company, format, number_of_pages, publish_month, publish_year, NYT_bestseller]\n",
       "Index: []"
      ]
     },
     "execution_count": 57,
     "metadata": {},
     "output_type": "execute_result"
    }
   ],
   "source": [
    "# they're gone!\n",
    "full_df[full_df['genre'].isna()]"
   ]
  },
  {
   "cell_type": "markdown",
   "metadata": {},
   "source": [
    "#### Clean up genre data"
   ]
  },
  {
   "cell_type": "code",
   "execution_count": 58,
   "metadata": {
    "scrolled": true
   },
   "outputs": [
    {
     "data": {
      "text/plain": [
       "non-fiction            232\n",
       "fiction                231\n",
       "fantasy                203\n",
       "mystery                191\n",
       "romance                161\n",
       "young-adult            103\n",
       "historical              97\n",
       "sequential-art          57\n",
       "science-fiction         41\n",
       "history                 40\n",
       "thriller                35\n",
       "childrens               32\n",
       "politics                23\n",
       "short-stories           19\n",
       "poetry                  16\n",
       "horror                  15\n",
       "biography               15\n",
       "contemporary            14\n",
       "media-tie-in            12\n",
       "food-and-drink          11\n",
       "sports-and-games        10\n",
       "autobiography           10\n",
       "christian-fiction        7\n",
       "science                  7\n",
       "health                   6\n",
       "colouring-books          5\n",
       "womens-fiction           5\n",
       "business                 4\n",
       "religion                 3\n",
       "crime                    3\n",
       "lgbt                     3\n",
       "leadership               2\n",
       "music                    2\n",
       "feminism                 2\n",
       "humor                    2\n",
       "erotica                  2\n",
       "language                 2\n",
       "european-literature      2\n",
       "self-help                2\n",
       "adventure                2\n",
       "writing                  2\n",
       "couture                  1\n",
       "westerns                 1\n",
       "philosophy               1\n",
       "travel                   1\n",
       "spirituality             1\n",
       "realistic-fiction        1\n",
       "holiday                  1\n",
       "dark                     1\n",
       "art                      1\n",
       "sports                   1\n",
       "suspense                 1\n",
       "psychology               1\n",
       "asian-literature         1\n",
       "glbt                     1\n",
       "economics                1\n",
       "Name: genre, dtype: int64"
      ]
     },
     "execution_count": 58,
     "metadata": {},
     "output_type": "execute_result"
    }
   ],
   "source": [
    "# these look fine - just going to add sports to \"sports and games\" so they aren't separate buckets\n",
    "full_df['genre'].value_counts()"
   ]
  },
  {
   "cell_type": "code",
   "execution_count": 59,
   "metadata": {},
   "outputs": [],
   "source": [
    "full_df['genre'].loc[full_df['genre'] =='sports'] = 'sports-and-games'"
   ]
  },
  {
   "cell_type": "markdown",
   "metadata": {},
   "source": [
    "#### Clean up publishing company data"
   ]
  },
  {
   "cell_type": "code",
   "execution_count": 60,
   "metadata": {},
   "outputs": [],
   "source": [
    "# some of the rows have publish date information - let's get rid of it!\n",
    "full_df['publish_company'] = full_df['publish_company'].apply(lambda x: str(x).split('(')[0])"
   ]
  },
  {
   "cell_type": "code",
   "execution_count": 61,
   "metadata": {
    "scrolled": true
   },
   "outputs": [
    {
     "data": {
      "text/plain": [
       "St. Martin's Press                            43\n",
       "William Morrow                                30\n",
       "Little, Brown and Company                     27\n",
       "G.P. Putnam's Sons                            22\n",
       "Ballantine Books                              21\n",
       "Gallery Books                                 21\n",
       "Viking                                        21\n",
       "Atria Books                                   21\n",
       "Delacorte Press                               20\n",
       "Flatiron Books                                20\n",
       "Harper                                        20\n",
       "Grand Central Publishing                      19\n",
       "Little, Brown Books for Young Readers         18\n",
       "HarperTeen                                    18\n",
       "Avon                                          18\n",
       "Random House                                  18\n",
       "Knopf Publishing Group                        16\n",
       "Houghton Mifflin Harcourt                     15\n",
       "Scribner                                      14\n",
       "Berkley                                       14\n",
       "Simon & Schuster                              14\n",
       "Minotaur Books                                14\n",
       "Berkley Books                                 13\n",
       "Balzer + Bray                                 13\n",
       "HarperCollins                                 12\n",
       "SimonSchuster                                 12\n",
       "Katherine Tegen Books                         11\n",
       "William Morrow                                10\n",
       "Tor Books                                     10\n",
       "William Morrow Paperbacks                     10\n",
       "                                              ..\n",
       "Jimmy Patterson                                1\n",
       "Clarkson Potter Publishers                     1\n",
       "Top Shelf Productions                          1\n",
       "Ten Speed Press                                1\n",
       "Windblown Media                                1\n",
       "HarperOne                                      1\n",
       "Delacorte Press                                1\n",
       "Simon Schuster                                 1\n",
       "Rodale Books                                   1\n",
       "Little, Brown Book Group                       1\n",
       "VIZ Media                                      1\n",
       "MH Publishing                                  1\n",
       "Penguin Publishing Group                       1\n",
       "G.P. Putnam’s Sons Books for Young Readers     1\n",
       "Bonnier Publishing Australia                   1\n",
       "Random House Children's Books                  1\n",
       "Pinnacle Books                                 1\n",
       "Liveright                                      1\n",
       "Speak                                          1\n",
       "Jeff Gordon Inc.                               1\n",
       "Jimmy Patterson Books                          1\n",
       "Graywolf Press                                 1\n",
       "Threshold Editions                             1\n",
       "Ballantine                                     1\n",
       "McClelland & Stewart                           1\n",
       "Recorded Books, Inc.                           1\n",
       "HarperBusiness                                 1\n",
       "Simon & Schuster                               1\n",
       "Bloomsbury                                     1\n",
       "Potter Style                                   1\n",
       "Name: publish_company, Length: 609, dtype: int64"
      ]
     },
     "execution_count": 61,
     "metadata": {},
     "output_type": "execute_result"
    }
   ],
   "source": [
    "# for the major 5 publishing houses, we want to collapse the subsidiares into one group to later create\n",
    "# dummy variables (don't care about remaining publishing houses)\n",
    "# ex. all penguin random house companies \n",
    "full_df['publish_company'].value_counts()"
   ]
  },
  {
   "cell_type": "code",
   "execution_count": 62,
   "metadata": {},
   "outputs": [],
   "source": [
    "# Penguin Random House\n",
    "penguin_companies = ['Crown','Knopf','Random House','Penguin', 'Berkley','New American',\"G.P. Putnam's\",\n",
    "                     'Ballantine', 'Viking','Delacorte Press', 'Doubleday']\n",
    "full_df['publish_company'] = full_df['publish_company'].apply(lambda x:'Penguin Random House' \n",
    "                                                              if any(y in x for y in penguin_companies) else x)"
   ]
  },
  {
   "cell_type": "code",
   "execution_count": 63,
   "metadata": {},
   "outputs": [],
   "source": [
    "# Harper Collins\n",
    "harper_companies = ['Harper','Collins','William Morrow','Thomas Nelson','Harlequin','Avon',\n",
    "                    'Balzer','Katherine Tegen','Ecco', 'Dey Street']\n",
    "full_df['publish_company'] = full_df['publish_company'].apply(lambda x:'Harper Collins' \n",
    "                                                              if any(y in x for y in harper_companies) else x)"
   ]
  },
  {
   "cell_type": "code",
   "execution_count": 64,
   "metadata": {},
   "outputs": [],
   "source": [
    "# SimonSchuster\n",
    "ss_companies = ['Simon', 'Schuster', 'Gallery Books','Atria Books','Scribner']\n",
    "full_df['publish_company'] = full_df['publish_company'].apply(lambda x:'Simon & Schuster' \n",
    "                                                              if any(y in x for y in ss_companies) else x)"
   ]
  },
  {
   "cell_type": "code",
   "execution_count": 65,
   "metadata": {},
   "outputs": [],
   "source": [
    "# Macmillan\n",
    "\n",
    "macmillan_companies = [\"St. Martin's Press\",\"Minotaur\",\"Tor Books\",'Farrar, Straus and Giroux',\n",
    "                       'Macmillan', 'Flatiron Books', 'Feiwel']\n",
    "full_df['publish_company'] = full_df['publish_company'].apply(lambda x:\"Macmillan\" \n",
    "                                                              if any(y in x for y in macmillan_companies) else x)\n"
   ]
  },
  {
   "cell_type": "code",
   "execution_count": 66,
   "metadata": {},
   "outputs": [],
   "source": [
    "# Hachette Livre\n",
    "hachette_companies = ['Grand Central','Hachette','FaithWords'\n",
    "                      'Little Brown', 'Little, Brown', 'Orbit','Disney-Hyperion']\n",
    "full_df['publish_company'] = full_df['publish_company'].apply(lambda x:\"Hachette\"\n",
    "                                                              if any(y in x for y in hachette_companies) else x)"
   ]
  },
  {
   "cell_type": "code",
   "execution_count": 67,
   "metadata": {},
   "outputs": [],
   "source": [
    "# create a column to reflect if a book was published by a top 5 company or not\n",
    "# fill in with nans first\n",
    "full_df['top5'] = np.nan"
   ]
  },
  {
   "cell_type": "code",
   "execution_count": 68,
   "metadata": {},
   "outputs": [],
   "source": [
    "# now fill with 0's and 1's\n",
    "top5 = ['Hachette','Macmillan','Harper Collins','Simon & Schuster','Penguin Random House']\n",
    "full_df['top5'] =full_df['publish_company'].apply(lambda x: 1 if any(y in x for y in top5) else 0)"
   ]
  },
  {
   "cell_type": "markdown",
   "metadata": {},
   "source": [
    "#### Change types so only categorical variables are made into dummies"
   ]
  },
  {
   "cell_type": "code",
   "execution_count": 69,
   "metadata": {},
   "outputs": [
    {
     "name": "stdout",
     "output_type": "stream",
     "text": [
      "<class 'pandas.core.frame.DataFrame'>\n",
      "Int64Index: 1646 entries, 0 to 1670\n",
      "Data columns (total 14 columns):\n",
      "ISBN               1646 non-null object\n",
      "title              1646 non-null object\n",
      "series             1646 non-null int64\n",
      "author             1646 non-null object\n",
      "rating             1646 non-null float64\n",
      "genre              1646 non-null object\n",
      "publish_date       1645 non-null object\n",
      "publish_company    1646 non-null object\n",
      "format             1645 non-null object\n",
      "number_of_pages    1646 non-null object\n",
      "publish_month      1646 non-null object\n",
      "publish_year       1646 non-null object\n",
      "NYT_bestseller     1646 non-null float64\n",
      "top5               1646 non-null int64\n",
      "dtypes: float64(2), int64(2), object(10)\n",
      "memory usage: 192.9+ KB\n"
     ]
    }
   ],
   "source": [
    "full_df.info()"
   ]
  },
  {
   "cell_type": "code",
   "execution_count": 70,
   "metadata": {},
   "outputs": [],
   "source": [
    "full_df['rating'] = full_df['rating'].astype(float)"
   ]
  },
  {
   "cell_type": "code",
   "execution_count": 71,
   "metadata": {},
   "outputs": [],
   "source": [
    "full_df['number_of_pages'] = full_df['number_of_pages'].astype(int)"
   ]
  },
  {
   "cell_type": "markdown",
   "metadata": {},
   "source": [
    "## Data exploration"
   ]
  },
  {
   "cell_type": "code",
   "execution_count": 72,
   "metadata": {},
   "outputs": [],
   "source": [
    "import matplotlib.pyplot as plt\n",
    "%matplotlib inline\n",
    "import seaborn as sns"
   ]
  },
  {
   "cell_type": "markdown",
   "metadata": {},
   "source": [
    "### Feature engineering"
   ]
  },
  {
   "cell_type": "markdown",
   "metadata": {},
   "source": [
    "#### Titles"
   ]
  },
  {
   "cell_type": "code",
   "execution_count": 73,
   "metadata": {},
   "outputs": [],
   "source": [
    "# the titles have extra spaces - let's get rid of them!\n",
    "full_df['title'] = [x.strip() for x in full_df['title']]"
   ]
  },
  {
   "cell_type": "code",
   "execution_count": 74,
   "metadata": {},
   "outputs": [],
   "source": [
    "# create new feature for number of characters in a title\n",
    "full_df['length_of_title'] = [len(x) for x in full_df['title']]"
   ]
  },
  {
   "cell_type": "markdown",
   "metadata": {},
   "source": [
    "#### Authors"
   ]
  },
  {
   "cell_type": "code",
   "execution_count": 75,
   "metadata": {},
   "outputs": [],
   "source": [
    "# new feature for top authors - based on forbes from 2017 and 2018"
   ]
  },
  {
   "cell_type": "code",
   "execution_count": 76,
   "metadata": {},
   "outputs": [],
   "source": [
    "top_10_2017 = ['J. K. Rowling', 'James Patterson', 'Jeff Kinney', 'Dan Brown','Stephen King',\n",
    "'Nora Roberts','John Grisham','Paula Hawkins', 'E.L. James ','Danielle Steel', 'Rick Riordan']"
   ]
  },
  {
   "cell_type": "code",
   "execution_count": 77,
   "metadata": {},
   "outputs": [],
   "source": [
    "top_10_2018 = ['E.L. James', 'Rick Riordan', 'Nora Roberts','Danielle Steel', 'Michael Wolff',\n",
    "               'Dan Brown', 'Jeff Kinney','John Grisham','Stephen King','J.K. Rowling','James Patterson']"
   ]
  },
  {
   "cell_type": "code",
   "execution_count": 78,
   "metadata": {},
   "outputs": [],
   "source": [
    "top_authors = top_10_2017+top_10_2018"
   ]
  },
  {
   "cell_type": "code",
   "execution_count": 79,
   "metadata": {},
   "outputs": [],
   "source": [
    "# create nans in the column\n",
    "full_df['top_authors'] = np.nan"
   ]
  },
  {
   "cell_type": "code",
   "execution_count": 80,
   "metadata": {},
   "outputs": [],
   "source": [
    "# fill in with 1's and 0's depending on author\n",
    "full_df['top_authors'] = full_df['author'].apply(lambda x: 1 if any(y in x for y in top_authors) else 0)"
   ]
  },
  {
   "cell_type": "code",
   "execution_count": 81,
   "metadata": {},
   "outputs": [],
   "source": [
    "# save final df\n",
    "full_df.to_csv('final_dataframe.csv')"
   ]
  },
  {
   "cell_type": "code",
   "execution_count": 82,
   "metadata": {},
   "outputs": [
    {
     "data": {
      "text/plain": [
       "0.0    1074\n",
       "1.0     522\n",
       "Name: NYT_bestseller, dtype: int64"
      ]
     },
     "execution_count": 82,
     "metadata": {},
     "output_type": "execute_result"
    }
   ],
   "source": [
    "full_df['NYT_bestseller'][full_df['top_authors']==0].value_counts()"
   ]
  },
  {
   "cell_type": "code",
   "execution_count": 83,
   "metadata": {},
   "outputs": [
    {
     "data": {
      "text/plain": [
       "0.32706766917293234"
      ]
     },
     "execution_count": 83,
     "metadata": {},
     "output_type": "execute_result"
    }
   ],
   "source": [
    "522/1596"
   ]
  },
  {
   "cell_type": "markdown",
   "metadata": {},
   "source": [
    "###  Plots/Visuals"
   ]
  },
  {
   "cell_type": "code",
   "execution_count": 84,
   "metadata": {},
   "outputs": [
    {
     "data": {
      "image/png": "[encoded data removed]",
      "text/plain": [
       "<Figure size 504x360 with 1 Axes>"
      ]
     },
     "metadata": {
      "needs_background": "light"
     },
     "output_type": "display_data"
    }
   ],
   "source": [
    "fig, ax = plt.subplots(figsize=(7,5))\n",
    "sns.set(style=\"white\", palette=\"muted\", color_codes=True)\n",
    "sns.countplot(x='top5',hue='NYT_bestseller',data=full_df,color='r')\n",
    "plt.title('Distribution of Books by Publishing Company')\n",
    "fig.savefig('top5')\n",
    "\n",
    "# ax.legend('Top 5 Publishing Companies','Everyone else')"
   ]
  },
  {
   "cell_type": "code",
   "execution_count": 85,
   "metadata": {},
   "outputs": [
    {
     "data": {
      "image/png": "[encoded data removed]",
      "text/plain": [
       "<Figure size 864x432 with 2 Axes>"
      ]
     },
     "metadata": {},
     "output_type": "display_data"
    }
   ],
   "source": [
    "# fig, ax = plt.subplots(figsize=(7,5))\n",
    "fig = sns.catplot(x=\"NYT_bestseller\", col=\"top_authors\",data=full_df, kind=\"count\",height=6, aspect=1,palette=\"magma\");\n",
    "fig.savefig('top_authors')"
   ]
  },
  {
   "cell_type": "code",
   "execution_count": 86,
   "metadata": {},
   "outputs": [
    {
     "data": {
      "image/png": "[encoded data removed]",
      "text/plain": [
       "<Figure size 1086.17x504 with 1 Axes>"
      ]
     },
     "metadata": {},
     "output_type": "display_data"
    }
   ],
   "source": [
    "# fig, ax = plt.subplots(figsize=(5,8))\n",
    "fig = sns.catplot(x=\"publish_month\", y=\"rating\", hue=\"NYT_bestseller\", kind=\"swarm\", \n",
    "                  data=full_df,height=7, aspect=2, palette='cubehelix',order=['January','February',\n",
    "                 'March','April','May','June','July','August','September','October','November','December'])\n",
    "plt.show(fig)\n",
    "fig.savefig('month')"
   ]
  },
  {
   "cell_type": "code",
   "execution_count": 87,
   "metadata": {},
   "outputs": [
    {
     "data": {
      "image/png": "[encoded data removed]",
      "text/plain": [
       "<Figure size 360x576 with 1 Axes>"
      ]
     },
     "metadata": {},
     "output_type": "display_data"
    }
   ],
   "source": [
    "fig, ax = plt.subplots(figsize=(5,8))\n",
    "sns.boxplot(x='NYT_bestseller',y='rating',data=full_df, palette=\"Blues\")\n",
    "\n",
    "fig.savefig('rating')"
   ]
  },
  {
   "cell_type": "code",
   "execution_count": 88,
   "metadata": {},
   "outputs": [
    {
     "data": {
      "image/png": "[encoded data removed]",
      "text/plain": [
       "<Figure size 1080x720 with 1 Axes>"
      ]
     },
     "metadata": {},
     "output_type": "display_data"
    }
   ],
   "source": [
    "fig = plt.subplots(figsize=(15,10)) \n",
    "fig = sns.scatterplot(x='rating',y='publish_month', hue='NYT_bestseller', style='NYT_bestseller',data=full_df)\n",
    "plt.show(fig)"
   ]
  },
  {
   "cell_type": "code",
   "execution_count": 89,
   "metadata": {},
   "outputs": [
    {
     "data": {
      "image/png": "[encoded data removed]",
      "text/plain": [
       "<Figure size 2160x720 with 1 Axes>"
      ]
     },
     "metadata": {},
     "output_type": "display_data"
    }
   ],
   "source": [
    "fig = plt.subplots(figsize=(30,10)) \n",
    "counts = sns.countplot(x=\"genre\", data=full_df,palette=\"Greens_d\")\n",
    "plt.show(counts)"
   ]
  },
  {
   "cell_type": "code",
   "execution_count": 90,
   "metadata": {},
   "outputs": [],
   "source": [
    "ratings_0 = full_df[full_df['NYT_bestseller']==0]\n",
    "ratings_1 = full_df[full_df['NYT_bestseller']==1]"
   ]
  },
  {
   "cell_type": "code",
   "execution_count": 91,
   "metadata": {},
   "outputs": [
    {
     "data": {
      "text/plain": [
       "<matplotlib.axes._subplots.AxesSubplot at 0x1a21626550>"
      ]
     },
     "execution_count": 91,
     "metadata": {},
     "output_type": "execute_result"
    },
    {
     "data": {
      "image/png": "[encoded data removed]",
      "text/plain": [
       "<Figure size 432x288 with 1 Axes>"
      ]
     },
     "metadata": {},
     "output_type": "display_data"
    }
   ],
   "source": [
    "# plot of goodreads ratings broken out by bestseller or not!\n",
    "\n",
    "sns.distplot(ratings_0.rating, kde=True,color='b')\n",
    "sns.distplot(ratings_1.rating, kde=True,color='g')"
   ]
  },
  {
   "cell_type": "code",
   "execution_count": 92,
   "metadata": {},
   "outputs": [
    {
     "data": {
      "text/plain": [
       "<matplotlib.axes._subplots.AxesSubplot at 0x1a2060af28>"
      ]
     },
     "execution_count": 92,
     "metadata": {},
     "output_type": "execute_result"
    },
    {
     "data": {
      "image/png": "[encoded data removed]",
      "text/plain": [
       "<Figure size 432x288 with 2 Axes>"
      ]
     },
     "metadata": {},
     "output_type": "display_data"
    }
   ],
   "source": [
    "corr = full_df[['series','rating','number_of_pages','length_of_title','top_authors']].corr()\n",
    " \n",
    "# Heatmap\n",
    "sns.heatmap(corr)"
   ]
  },
  {
   "cell_type": "code",
   "execution_count": 93,
   "metadata": {
    "scrolled": true
   },
   "outputs": [
    {
     "data": {
      "text/html": [
       "<div>\n",
       "<style scoped>\n",
       "    .dataframe tbody tr th:only-of-type {\n",
       "        vertical-align: middle;\n",
       "    }\n",
       "\n",
       "    .dataframe tbody tr th {\n",
       "        vertical-align: top;\n",
       "    }\n",
       "\n",
       "    .dataframe thead th {\n",
       "        text-align: right;\n",
       "    }\n",
       "</style>\n",
       "<table border=\"1\" class=\"dataframe\">\n",
       "  <thead>\n",
       "    <tr style=\"text-align: right;\">\n",
       "      <th>NYT_bestseller</th>\n",
       "      <th>0.0</th>\n",
       "      <th>1.0</th>\n",
       "    </tr>\n",
       "    <tr>\n",
       "      <th>genre</th>\n",
       "      <th></th>\n",
       "      <th></th>\n",
       "    </tr>\n",
       "  </thead>\n",
       "  <tbody>\n",
       "    <tr>\n",
       "      <th>adventure</th>\n",
       "      <td>0</td>\n",
       "      <td>2</td>\n",
       "    </tr>\n",
       "    <tr>\n",
       "      <th>art</th>\n",
       "      <td>0</td>\n",
       "      <td>1</td>\n",
       "    </tr>\n",
       "    <tr>\n",
       "      <th>asian-literature</th>\n",
       "      <td>1</td>\n",
       "      <td>0</td>\n",
       "    </tr>\n",
       "    <tr>\n",
       "      <th>autobiography</th>\n",
       "      <td>5</td>\n",
       "      <td>5</td>\n",
       "    </tr>\n",
       "    <tr>\n",
       "      <th>biography</th>\n",
       "      <td>3</td>\n",
       "      <td>12</td>\n",
       "    </tr>\n",
       "    <tr>\n",
       "      <th>business</th>\n",
       "      <td>0</td>\n",
       "      <td>4</td>\n",
       "    </tr>\n",
       "    <tr>\n",
       "      <th>childrens</th>\n",
       "      <td>12</td>\n",
       "      <td>20</td>\n",
       "    </tr>\n",
       "    <tr>\n",
       "      <th>christian-fiction</th>\n",
       "      <td>6</td>\n",
       "      <td>1</td>\n",
       "    </tr>\n",
       "    <tr>\n",
       "      <th>colouring-books</th>\n",
       "      <td>0</td>\n",
       "      <td>5</td>\n",
       "    </tr>\n",
       "    <tr>\n",
       "      <th>contemporary</th>\n",
       "      <td>14</td>\n",
       "      <td>0</td>\n",
       "    </tr>\n",
       "    <tr>\n",
       "      <th>couture</th>\n",
       "      <td>0</td>\n",
       "      <td>1</td>\n",
       "    </tr>\n",
       "    <tr>\n",
       "      <th>crime</th>\n",
       "      <td>2</td>\n",
       "      <td>1</td>\n",
       "    </tr>\n",
       "    <tr>\n",
       "      <th>dark</th>\n",
       "      <td>1</td>\n",
       "      <td>0</td>\n",
       "    </tr>\n",
       "    <tr>\n",
       "      <th>economics</th>\n",
       "      <td>0</td>\n",
       "      <td>1</td>\n",
       "    </tr>\n",
       "    <tr>\n",
       "      <th>erotica</th>\n",
       "      <td>1</td>\n",
       "      <td>1</td>\n",
       "    </tr>\n",
       "    <tr>\n",
       "      <th>european-literature</th>\n",
       "      <td>2</td>\n",
       "      <td>0</td>\n",
       "    </tr>\n",
       "    <tr>\n",
       "      <th>fantasy</th>\n",
       "      <td>166</td>\n",
       "      <td>37</td>\n",
       "    </tr>\n",
       "    <tr>\n",
       "      <th>feminism</th>\n",
       "      <td>2</td>\n",
       "      <td>0</td>\n",
       "    </tr>\n",
       "    <tr>\n",
       "      <th>fiction</th>\n",
       "      <td>186</td>\n",
       "      <td>45</td>\n",
       "    </tr>\n",
       "    <tr>\n",
       "      <th>food-and-drink</th>\n",
       "      <td>0</td>\n",
       "      <td>11</td>\n",
       "    </tr>\n",
       "    <tr>\n",
       "      <th>glbt</th>\n",
       "      <td>1</td>\n",
       "      <td>0</td>\n",
       "    </tr>\n",
       "    <tr>\n",
       "      <th>health</th>\n",
       "      <td>0</td>\n",
       "      <td>6</td>\n",
       "    </tr>\n",
       "    <tr>\n",
       "      <th>historical</th>\n",
       "      <td>80</td>\n",
       "      <td>17</td>\n",
       "    </tr>\n",
       "    <tr>\n",
       "      <th>history</th>\n",
       "      <td>18</td>\n",
       "      <td>22</td>\n",
       "    </tr>\n",
       "    <tr>\n",
       "      <th>holiday</th>\n",
       "      <td>0</td>\n",
       "      <td>1</td>\n",
       "    </tr>\n",
       "    <tr>\n",
       "      <th>horror</th>\n",
       "      <td>14</td>\n",
       "      <td>1</td>\n",
       "    </tr>\n",
       "    <tr>\n",
       "      <th>humor</th>\n",
       "      <td>0</td>\n",
       "      <td>2</td>\n",
       "    </tr>\n",
       "    <tr>\n",
       "      <th>language</th>\n",
       "      <td>1</td>\n",
       "      <td>1</td>\n",
       "    </tr>\n",
       "    <tr>\n",
       "      <th>leadership</th>\n",
       "      <td>0</td>\n",
       "      <td>2</td>\n",
       "    </tr>\n",
       "    <tr>\n",
       "      <th>lgbt</th>\n",
       "      <td>3</td>\n",
       "      <td>0</td>\n",
       "    </tr>\n",
       "    <tr>\n",
       "      <th>media-tie-in</th>\n",
       "      <td>8</td>\n",
       "      <td>4</td>\n",
       "    </tr>\n",
       "    <tr>\n",
       "      <th>music</th>\n",
       "      <td>0</td>\n",
       "      <td>2</td>\n",
       "    </tr>\n",
       "    <tr>\n",
       "      <th>mystery</th>\n",
       "      <td>117</td>\n",
       "      <td>74</td>\n",
       "    </tr>\n",
       "    <tr>\n",
       "      <th>non-fiction</th>\n",
       "      <td>120</td>\n",
       "      <td>112</td>\n",
       "    </tr>\n",
       "    <tr>\n",
       "      <th>philosophy</th>\n",
       "      <td>0</td>\n",
       "      <td>1</td>\n",
       "    </tr>\n",
       "    <tr>\n",
       "      <th>poetry</th>\n",
       "      <td>10</td>\n",
       "      <td>6</td>\n",
       "    </tr>\n",
       "    <tr>\n",
       "      <th>politics</th>\n",
       "      <td>6</td>\n",
       "      <td>17</td>\n",
       "    </tr>\n",
       "    <tr>\n",
       "      <th>psychology</th>\n",
       "      <td>0</td>\n",
       "      <td>1</td>\n",
       "    </tr>\n",
       "    <tr>\n",
       "      <th>realistic-fiction</th>\n",
       "      <td>0</td>\n",
       "      <td>1</td>\n",
       "    </tr>\n",
       "    <tr>\n",
       "      <th>religion</th>\n",
       "      <td>1</td>\n",
       "      <td>2</td>\n",
       "    </tr>\n",
       "    <tr>\n",
       "      <th>romance</th>\n",
       "      <td>121</td>\n",
       "      <td>40</td>\n",
       "    </tr>\n",
       "    <tr>\n",
       "      <th>science</th>\n",
       "      <td>2</td>\n",
       "      <td>5</td>\n",
       "    </tr>\n",
       "    <tr>\n",
       "      <th>science-fiction</th>\n",
       "      <td>37</td>\n",
       "      <td>4</td>\n",
       "    </tr>\n",
       "    <tr>\n",
       "      <th>self-help</th>\n",
       "      <td>0</td>\n",
       "      <td>2</td>\n",
       "    </tr>\n",
       "    <tr>\n",
       "      <th>sequential-art</th>\n",
       "      <td>27</td>\n",
       "      <td>30</td>\n",
       "    </tr>\n",
       "    <tr>\n",
       "      <th>short-stories</th>\n",
       "      <td>18</td>\n",
       "      <td>1</td>\n",
       "    </tr>\n",
       "    <tr>\n",
       "      <th>spirituality</th>\n",
       "      <td>1</td>\n",
       "      <td>0</td>\n",
       "    </tr>\n",
       "    <tr>\n",
       "      <th>sports-and-games</th>\n",
       "      <td>1</td>\n",
       "      <td>10</td>\n",
       "    </tr>\n",
       "    <tr>\n",
       "      <th>suspense</th>\n",
       "      <td>1</td>\n",
       "      <td>0</td>\n",
       "    </tr>\n",
       "    <tr>\n",
       "      <th>thriller</th>\n",
       "      <td>22</td>\n",
       "      <td>13</td>\n",
       "    </tr>\n",
       "    <tr>\n",
       "      <th>travel</th>\n",
       "      <td>0</td>\n",
       "      <td>1</td>\n",
       "    </tr>\n",
       "    <tr>\n",
       "      <th>westerns</th>\n",
       "      <td>0</td>\n",
       "      <td>1</td>\n",
       "    </tr>\n",
       "    <tr>\n",
       "      <th>womens-fiction</th>\n",
       "      <td>4</td>\n",
       "      <td>1</td>\n",
       "    </tr>\n",
       "    <tr>\n",
       "      <th>writing</th>\n",
       "      <td>2</td>\n",
       "      <td>0</td>\n",
       "    </tr>\n",
       "    <tr>\n",
       "      <th>young-adult</th>\n",
       "      <td>79</td>\n",
       "      <td>24</td>\n",
       "    </tr>\n",
       "  </tbody>\n",
       "</table>\n",
       "</div>"
      ],
      "text/plain": [
       "NYT_bestseller       0.0  1.0\n",
       "genre                        \n",
       "adventure              0    2\n",
       "art                    0    1\n",
       "asian-literature       1    0\n",
       "autobiography          5    5\n",
       "biography              3   12\n",
       "business               0    4\n",
       "childrens             12   20\n",
       "christian-fiction      6    1\n",
       "colouring-books        0    5\n",
       "contemporary          14    0\n",
       "couture                0    1\n",
       "crime                  2    1\n",
       "dark                   1    0\n",
       "economics              0    1\n",
       "erotica                1    1\n",
       "european-literature    2    0\n",
       "fantasy              166   37\n",
       "feminism               2    0\n",
       "fiction              186   45\n",
       "food-and-drink         0   11\n",
       "glbt                   1    0\n",
       "health                 0    6\n",
       "historical            80   17\n",
       "history               18   22\n",
       "holiday                0    1\n",
       "horror                14    1\n",
       "humor                  0    2\n",
       "language               1    1\n",
       "leadership             0    2\n",
       "lgbt                   3    0\n",
       "media-tie-in           8    4\n",
       "music                  0    2\n",
       "mystery              117   74\n",
       "non-fiction          120  112\n",
       "philosophy             0    1\n",
       "poetry                10    6\n",
       "politics               6   17\n",
       "psychology             0    1\n",
       "realistic-fiction      0    1\n",
       "religion               1    2\n",
       "romance              121   40\n",
       "science                2    5\n",
       "science-fiction       37    4\n",
       "self-help              0    2\n",
       "sequential-art        27   30\n",
       "short-stories         18    1\n",
       "spirituality           1    0\n",
       "sports-and-games       1   10\n",
       "suspense               1    0\n",
       "thriller              22   13\n",
       "travel                 0    1\n",
       "westerns               0    1\n",
       "womens-fiction         4    1\n",
       "writing                2    0\n",
       "young-adult           79   24"
      ]
     },
     "execution_count": 93,
     "metadata": {},
     "output_type": "execute_result"
    }
   ],
   "source": [
    "pd.crosstab(full_df.genre, full_df.NYT_bestseller)"
   ]
  }
 ],
 "metadata": {
  "kernelspec": {
   "display_name": "Python 3",
   "language": "python",
   "name": "python3"
  },
  "language_info": {
   "codemirror_mode": {
    "name": "ipython",
    "version": 3
   },
   "file_extension": ".py",
   "mimetype": "text/x-python",
   "name": "python",
   "nbconvert_exporter": "python",
   "pygments_lexer": "ipython3",
   "version": "3.7.3"
  }
 },
 "nbformat": 4,
 "nbformat_minor": 2
}

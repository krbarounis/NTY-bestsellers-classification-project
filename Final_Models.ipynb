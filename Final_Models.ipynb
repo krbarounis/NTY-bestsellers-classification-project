{
 "cells": [
  {
   "cell_type": "code",
   "execution_count": 1,
   "metadata": {},
   "outputs": [],
   "source": [
    "import pandas as pd\n",
    "from sklearn.model_selection import train_test_split\n",
    "from sklearn.dummy import DummyClassifier\n",
    "from sklearn.linear_model import LogisticRegression\n",
    "import numpy as np\n",
    "from sklearn.metrics import precision_score, recall_score, accuracy_score, f1_score\n",
    "import matplotlib.pyplot as plt\n",
    "import seaborn as sns\n",
    "%matplotlib inline\n",
    "from sklearn.metrics import roc_curve, auc\n",
    "from sklearn.metrics import confusion_matrix\n",
    "from sklearn.model_selection import GridSearchCV\n",
    "import itertools"
   ]
  },
  {
   "cell_type": "code",
   "execution_count": 2,
   "metadata": {},
   "outputs": [],
   "source": [
    "df = pd.read_csv('final_dataframe.csv',index_col=0)"
   ]
  },
  {
   "cell_type": "markdown",
   "metadata": {},
   "source": [
    "# Baseline: Dummy Classifier"
   ]
  },
  {
   "cell_type": "code",
   "execution_count": 3,
   "metadata": {},
   "outputs": [],
   "source": [
    "feats = ['series','rating','publish_month','publish_company','genre','top_authors']\n",
    "\n",
    "X = pd.get_dummies(df[feats], drop_first=True)\n",
    "\n",
    "Y = df['NYT_bestseller']"
   ]
  },
  {
   "cell_type": "code",
   "execution_count": 4,
   "metadata": {},
   "outputs": [
    {
     "data": {
      "text/plain": [
       "Index(['series', 'rating', 'top_authors', 'publish_month_August',\n",
       "       'publish_month_December', 'publish_month_February',\n",
       "       'publish_month_January', 'publish_month_July', 'publish_month_June',\n",
       "       'publish_month_March',\n",
       "       ...\n",
       "       'genre_short-stories', 'genre_spirituality', 'genre_sports-and-games',\n",
       "       'genre_suspense', 'genre_thriller', 'genre_travel', 'genre_westerns',\n",
       "       'genre_womens-fiction', 'genre_writing', 'genre_young-adult'],\n",
       "      dtype='object', length=529)"
      ]
     },
     "execution_count": 4,
     "metadata": {},
     "output_type": "execute_result"
    }
   ],
   "source": [
    "X.columns"
   ]
  },
  {
   "cell_type": "code",
   "execution_count": 5,
   "metadata": {},
   "outputs": [],
   "source": [
    "X.drop([col for col, val in X.sum().iteritems() if val < 15], axis=1, inplace=True)"
   ]
  },
  {
   "cell_type": "code",
   "execution_count": 7,
   "metadata": {},
   "outputs": [
    {
     "data": {
      "text/html": [
       "<div>\n",
       "<style scoped>\n",
       "    .dataframe tbody tr th:only-of-type {\n",
       "        vertical-align: middle;\n",
       "    }\n",
       "\n",
       "    .dataframe tbody tr th {\n",
       "        vertical-align: top;\n",
       "    }\n",
       "\n",
       "    .dataframe thead th {\n",
       "        text-align: right;\n",
       "    }\n",
       "</style>\n",
       "<table border=\"1\" class=\"dataframe\">\n",
       "  <thead>\n",
       "    <tr style=\"text-align: right;\">\n",
       "      <th></th>\n",
       "      <th>series</th>\n",
       "      <th>rating</th>\n",
       "      <th>top_authors</th>\n",
       "      <th>publish_month_August</th>\n",
       "      <th>publish_month_December</th>\n",
       "      <th>publish_month_February</th>\n",
       "      <th>publish_month_January</th>\n",
       "      <th>publish_month_July</th>\n",
       "      <th>publish_month_June</th>\n",
       "      <th>publish_month_March</th>\n",
       "      <th>...</th>\n",
       "      <th>genre_mystery</th>\n",
       "      <th>genre_non-fiction</th>\n",
       "      <th>genre_poetry</th>\n",
       "      <th>genre_politics</th>\n",
       "      <th>genre_romance</th>\n",
       "      <th>genre_science-fiction</th>\n",
       "      <th>genre_sequential-art</th>\n",
       "      <th>genre_short-stories</th>\n",
       "      <th>genre_thriller</th>\n",
       "      <th>genre_young-adult</th>\n",
       "    </tr>\n",
       "  </thead>\n",
       "  <tbody>\n",
       "    <tr>\n",
       "      <th>0</th>\n",
       "      <td>0.0</td>\n",
       "      <td>0.624434</td>\n",
       "      <td>0.0</td>\n",
       "      <td>0.0</td>\n",
       "      <td>0.0</td>\n",
       "      <td>0.0</td>\n",
       "      <td>0.0</td>\n",
       "      <td>0.0</td>\n",
       "      <td>0.0</td>\n",
       "      <td>0.0</td>\n",
       "      <td>...</td>\n",
       "      <td>0.0</td>\n",
       "      <td>0.0</td>\n",
       "      <td>0.0</td>\n",
       "      <td>0.0</td>\n",
       "      <td>0.0</td>\n",
       "      <td>0.0</td>\n",
       "      <td>0.0</td>\n",
       "      <td>0.0</td>\n",
       "      <td>0.0</td>\n",
       "      <td>0.0</td>\n",
       "    </tr>\n",
       "    <tr>\n",
       "      <th>1</th>\n",
       "      <td>0.0</td>\n",
       "      <td>0.597285</td>\n",
       "      <td>0.0</td>\n",
       "      <td>0.0</td>\n",
       "      <td>0.0</td>\n",
       "      <td>1.0</td>\n",
       "      <td>0.0</td>\n",
       "      <td>0.0</td>\n",
       "      <td>0.0</td>\n",
       "      <td>0.0</td>\n",
       "      <td>...</td>\n",
       "      <td>0.0</td>\n",
       "      <td>0.0</td>\n",
       "      <td>0.0</td>\n",
       "      <td>0.0</td>\n",
       "      <td>0.0</td>\n",
       "      <td>0.0</td>\n",
       "      <td>0.0</td>\n",
       "      <td>0.0</td>\n",
       "      <td>0.0</td>\n",
       "      <td>0.0</td>\n",
       "    </tr>\n",
       "    <tr>\n",
       "      <th>2</th>\n",
       "      <td>1.0</td>\n",
       "      <td>0.588235</td>\n",
       "      <td>1.0</td>\n",
       "      <td>0.0</td>\n",
       "      <td>0.0</td>\n",
       "      <td>0.0</td>\n",
       "      <td>0.0</td>\n",
       "      <td>0.0</td>\n",
       "      <td>0.0</td>\n",
       "      <td>0.0</td>\n",
       "      <td>...</td>\n",
       "      <td>1.0</td>\n",
       "      <td>0.0</td>\n",
       "      <td>0.0</td>\n",
       "      <td>0.0</td>\n",
       "      <td>0.0</td>\n",
       "      <td>0.0</td>\n",
       "      <td>0.0</td>\n",
       "      <td>0.0</td>\n",
       "      <td>0.0</td>\n",
       "      <td>0.0</td>\n",
       "    </tr>\n",
       "    <tr>\n",
       "      <th>3</th>\n",
       "      <td>0.0</td>\n",
       "      <td>0.619910</td>\n",
       "      <td>0.0</td>\n",
       "      <td>0.0</td>\n",
       "      <td>0.0</td>\n",
       "      <td>0.0</td>\n",
       "      <td>0.0</td>\n",
       "      <td>0.0</td>\n",
       "      <td>0.0</td>\n",
       "      <td>0.0</td>\n",
       "      <td>...</td>\n",
       "      <td>0.0</td>\n",
       "      <td>0.0</td>\n",
       "      <td>0.0</td>\n",
       "      <td>0.0</td>\n",
       "      <td>0.0</td>\n",
       "      <td>0.0</td>\n",
       "      <td>0.0</td>\n",
       "      <td>0.0</td>\n",
       "      <td>0.0</td>\n",
       "      <td>0.0</td>\n",
       "    </tr>\n",
       "    <tr>\n",
       "      <th>4</th>\n",
       "      <td>0.0</td>\n",
       "      <td>0.583710</td>\n",
       "      <td>0.0</td>\n",
       "      <td>0.0</td>\n",
       "      <td>0.0</td>\n",
       "      <td>0.0</td>\n",
       "      <td>0.0</td>\n",
       "      <td>0.0</td>\n",
       "      <td>0.0</td>\n",
       "      <td>0.0</td>\n",
       "      <td>...</td>\n",
       "      <td>0.0</td>\n",
       "      <td>1.0</td>\n",
       "      <td>0.0</td>\n",
       "      <td>0.0</td>\n",
       "      <td>0.0</td>\n",
       "      <td>0.0</td>\n",
       "      <td>0.0</td>\n",
       "      <td>0.0</td>\n",
       "      <td>0.0</td>\n",
       "      <td>0.0</td>\n",
       "    </tr>\n",
       "  </tbody>\n",
       "</table>\n",
       "<p>5 rows × 37 columns</p>\n",
       "</div>"
      ],
      "text/plain": [
       "   series    rating  top_authors  publish_month_August  \\\n",
       "0     0.0  0.624434          0.0                   0.0   \n",
       "1     0.0  0.597285          0.0                   0.0   \n",
       "2     1.0  0.588235          1.0                   0.0   \n",
       "3     0.0  0.619910          0.0                   0.0   \n",
       "4     0.0  0.583710          0.0                   0.0   \n",
       "\n",
       "   publish_month_December  publish_month_February  publish_month_January  \\\n",
       "0                     0.0                     0.0                    0.0   \n",
       "1                     0.0                     1.0                    0.0   \n",
       "2                     0.0                     0.0                    0.0   \n",
       "3                     0.0                     0.0                    0.0   \n",
       "4                     0.0                     0.0                    0.0   \n",
       "\n",
       "   publish_month_July  publish_month_June  publish_month_March  ...  \\\n",
       "0                 0.0                 0.0                  0.0  ...   \n",
       "1                 0.0                 0.0                  0.0  ...   \n",
       "2                 0.0                 0.0                  0.0  ...   \n",
       "3                 0.0                 0.0                  0.0  ...   \n",
       "4                 0.0                 0.0                  0.0  ...   \n",
       "\n",
       "   genre_mystery  genre_non-fiction  genre_poetry  genre_politics  \\\n",
       "0            0.0                0.0           0.0             0.0   \n",
       "1            0.0                0.0           0.0             0.0   \n",
       "2            1.0                0.0           0.0             0.0   \n",
       "3            0.0                0.0           0.0             0.0   \n",
       "4            0.0                1.0           0.0             0.0   \n",
       "\n",
       "   genre_romance  genre_science-fiction  genre_sequential-art  \\\n",
       "0            0.0                    0.0                   0.0   \n",
       "1            0.0                    0.0                   0.0   \n",
       "2            0.0                    0.0                   0.0   \n",
       "3            0.0                    0.0                   0.0   \n",
       "4            0.0                    0.0                   0.0   \n",
       "\n",
       "   genre_short-stories  genre_thriller  genre_young-adult  \n",
       "0                  0.0             0.0                0.0  \n",
       "1                  0.0             0.0                0.0  \n",
       "2                  0.0             0.0                0.0  \n",
       "3                  0.0             0.0                0.0  \n",
       "4                  0.0             0.0                0.0  \n",
       "\n",
       "[5 rows x 37 columns]"
      ]
     },
     "execution_count": 7,
     "metadata": {},
     "output_type": "execute_result"
    }
   ],
   "source": [
    "# normalize the features\n",
    "\n",
    "for col in X.columns:\n",
    "    X[col] = (X[col]-min(X[col]))/ (max(X[col]) - min(X[col])) \n",
    "\n",
    "#We subtract the minimum and divide by the range forcing a scale of 0 to 1 for each feature\n",
    "\n",
    "X.head()"
   ]
  },
  {
   "cell_type": "code",
   "execution_count": 8,
   "metadata": {},
   "outputs": [],
   "source": [
    "X_train, X_test, y_train, y_test = train_test_split(X, Y, test_size = 0.2)"
   ]
  },
  {
   "cell_type": "code",
   "execution_count": 9,
   "metadata": {},
   "outputs": [],
   "source": [
    "dum_clf = DummyClassifier(strategy='most_frequent')\n",
    "dum_model = dum_clf.fit(X_train,y_train)\n",
    "y_hat_train = dum_clf.predict(X_train)\n",
    "y_hat_test = dum_model.predict(X_test)"
   ]
  },
  {
   "cell_type": "code",
   "execution_count": 10,
   "metadata": {},
   "outputs": [],
   "source": [
    "def print_metrics(labels, preds):\n",
    "    print(\"Precision Score: {}\".format(precision_score(labels, preds)))\n",
    "    print(\"Recall Score: {}\".format(recall_score(labels, preds)))\n",
    "    print(\"Accuracy Score: {}\".format(accuracy_score(labels, preds)))\n",
    "    print(\"F1 Score: {}\".format(f1_score(labels, preds)))"
   ]
  },
  {
   "cell_type": "code",
   "execution_count": 11,
   "metadata": {},
   "outputs": [
    {
     "name": "stdout",
     "output_type": "stream",
     "text": [
      "Precision Score: 0.0\n",
      "Recall Score: 0.0\n",
      "Accuracy Score: 0.6848484848484848\n",
      "F1 Score: 0.0\n"
     ]
    },
    {
     "name": "stderr",
     "output_type": "stream",
     "text": [
      "/Users/Kristinabarounis/anaconda3/lib/python3.7/site-packages/sklearn/metrics/classification.py:1145: UndefinedMetricWarning: Recall is ill-defined and being set to 0.0 due to no true samples.\n",
      "  'recall', 'true', average, warn_for)\n",
      "/Users/Kristinabarounis/anaconda3/lib/python3.7/site-packages/sklearn/metrics/classification.py:1145: UndefinedMetricWarning: F-score is ill-defined and being set to 0.0 due to no true samples.\n",
      "  'recall', 'true', average, warn_for)\n"
     ]
    }
   ],
   "source": [
    "print_metrics(y_hat_test,y_test)"
   ]
  },
  {
   "cell_type": "code",
   "execution_count": 14,
   "metadata": {},
   "outputs": [
    {
     "name": "stdout",
     "output_type": "stream",
     "text": [
      "Confusion matrix, without normalization\n",
      "[[226   0]\n",
      " [104   0]]\n"
     ]
    },
    {
     "data": {
      "text/plain": [
       "<Figure size 432x288 with 0 Axes>"
      ]
     },
     "metadata": {},
     "output_type": "display_data"
    },
    {
     "data": {
      "image/png": "[encoded data removed]",
      "text/plain": [
       "<Figure size 504x360 with 2 Axes>"
      ]
     },
     "metadata": {
      "needs_background": "light"
     },
     "output_type": "display_data"
    }
   ],
   "source": [
    "cnf_matrix = confusion_matrix(y_test, y_hat_test)\n",
    "\n",
    "plt.figure()\n",
    "plt.figure(figsize=(7,5))\n",
    "\n",
    "plot_confusion_matrix(cnf_matrix, classes=[0,1],normalize=False,\n",
    "                      title='Confusion matrix')\n",
    "plt.show()"
   ]
  },
  {
   "cell_type": "markdown",
   "metadata": {},
   "source": [
    "# Final: Logistic Regression"
   ]
  },
  {
   "cell_type": "code",
   "execution_count": 15,
   "metadata": {},
   "outputs": [
    {
     "data": {
      "text/plain": [
       "LogisticRegression(C=1.0, class_weight=None, dual=False, fit_intercept=True,\n",
       "          intercept_scaling=1, max_iter=100, multi_class='warn',\n",
       "          n_jobs=None, penalty='l2', random_state=None, solver='liblinear',\n",
       "          tol=0.0001, verbose=0, warm_start=False)"
      ]
     },
     "execution_count": 15,
     "metadata": {},
     "output_type": "execute_result"
    }
   ],
   "source": [
    "logreg = LogisticRegression(solver='liblinear')\n",
    "model_log = logreg.fit(X_train, y_train)\n",
    "model_log"
   ]
  },
  {
   "cell_type": "code",
   "execution_count": 16,
   "metadata": {},
   "outputs": [],
   "source": [
    "# y_hat predicted values\n",
    "y_hat_test_log = logreg.predict(X_test)\n",
    "y_hat_train_log = logreg.predict(X_train)"
   ]
  },
  {
   "cell_type": "code",
   "execution_count": 17,
   "metadata": {},
   "outputs": [
    {
     "name": "stdout",
     "output_type": "stream",
     "text": [
      "Precision Score: 0.4004474272930649\n",
      "Recall Score: 0.6654275092936803\n",
      "Accuracy Score: 0.7279635258358662\n",
      "F1 Score: 0.5\n",
      "----------\n",
      "Precision Score: 0.41346153846153844\n",
      "Recall Score: 0.671875\n",
      "Accuracy Score: 0.7515151515151515\n",
      "F1 Score: 0.511904761904762\n"
     ]
    }
   ],
   "source": [
    "# metrics\n",
    "print_metrics(y_hat_train_log, y_train)\n",
    "print('----------')\n",
    "print_metrics(y_hat_test_log,y_test)"
   ]
  },
  {
   "cell_type": "code",
   "execution_count": 18,
   "metadata": {},
   "outputs": [
    {
     "name": "stdout",
     "output_type": "stream",
     "text": [
      "[[205  21]\n",
      " [ 61  43]]\n",
      "Normalized confusion matrix\n",
      "[[0.90707965 0.09292035]\n",
      " [0.58653846 0.41346154]]\n"
     ]
    },
    {
     "data": {
      "image/png": "[encoded data removed]",
      "text/plain": [
       "<Figure size 432x288 with 2 Axes>"
      ]
     },
     "metadata": {
      "needs_background": "light"
     },
     "output_type": "display_data"
    }
   ],
   "source": [
    "# confusion matrix\n",
    "cnf_matrix = confusion_matrix(y_test, y_hat_test_log)\n",
    "print(cnf_matrix)\n",
    "plt.figure()\n",
    "plot_confusion_matrix(cnf_matrix, normalize=True,classes=[0,1],\n",
    "                      title='Normalized confusion matrix')\n",
    "plt.show()\n"
   ]
  },
  {
   "cell_type": "code",
   "execution_count": 19,
   "metadata": {},
   "outputs": [],
   "source": [
    "coef_dict = {}\n",
    "for coef, feat in zip(model_log.coef_[0,:],X.columns):\n",
    "    coef_dict[feat] = coef"
   ]
  },
  {
   "cell_type": "code",
   "execution_count": 20,
   "metadata": {},
   "outputs": [
    {
     "data": {
      "text/plain": [
       "{'series': 0.2939737755039147,\n",
       " 'rating': 0.3751449085575224,\n",
       " 'top_authors': 1.134423314186235,\n",
       " 'publish_month_August': 0.3854916079894638,\n",
       " 'publish_month_December': 0.873210487857992,\n",
       " 'publish_month_February': -0.46948879893487916,\n",
       " 'publish_month_January': -0.461355372314164,\n",
       " 'publish_month_July': -0.44287988667104977,\n",
       " 'publish_month_June': -0.2323091112629918,\n",
       " 'publish_month_March': -0.1279945097017843,\n",
       " 'publish_month_May': -0.41332856391015843,\n",
       " 'publish_month_November': 0.8114484900391555,\n",
       " 'publish_month_October': 0.2411543795711555,\n",
       " 'publish_month_September': 0.40082456295400387,\n",
       " 'publish_company_Hachette': 0.63030025116537,\n",
       " 'publish_company_Harper Collins': 0.3296666966795924,\n",
       " 'publish_company_Houghton Mifflin Harcourt': -0.04491670754100509,\n",
       " 'publish_company_Macmillan': -0.05451576845082816,\n",
       " 'publish_company_Penguin Random House': 0.6384502710470911,\n",
       " 'publish_company_Simon & Schuster': -0.3164066791335785,\n",
       " 'genre_biography': 0.8229101579515187,\n",
       " 'genre_childrens': 0.21624923787782876,\n",
       " 'genre_fantasy': -1.6310110820100625,\n",
       " 'genre_fiction': -1.3153493059920809,\n",
       " 'genre_historical': -1.480656962352404,\n",
       " 'genre_history': 0.2228372132266399,\n",
       " 'genre_horror': -1.8673625715863365,\n",
       " 'genre_mystery': -0.7695251168871549,\n",
       " 'genre_non-fiction': -0.13446173023620323,\n",
       " 'genre_poetry': -0.5279749692143845,\n",
       " 'genre_politics': 0.9346479864550004,\n",
       " 'genre_romance': -1.1322781108609705,\n",
       " 'genre_science-fiction': -1.673532036456631,\n",
       " 'genre_sequential-art': -0.05652035114952549,\n",
       " 'genre_short-stories': -1.32445590237061,\n",
       " 'genre_thriller': -0.3115539342697388,\n",
       " 'genre_young-adult': -1.2224964991575376}"
      ]
     },
     "execution_count": 20,
     "metadata": {},
     "output_type": "execute_result"
    }
   ],
   "source": [
    "coef_dict"
   ]
  },
  {
   "cell_type": "code",
   "execution_count": 21,
   "metadata": {},
   "outputs": [
    {
     "data": {
      "text/plain": [
       "[('genre_horror', -1.8673625715863365),\n",
       " ('genre_science-fiction', -1.673532036456631),\n",
       " ('genre_fantasy', -1.6310110820100625),\n",
       " ('genre_historical', -1.480656962352404),\n",
       " ('genre_short-stories', -1.32445590237061),\n",
       " ('genre_fiction', -1.3153493059920809),\n",
       " ('genre_young-adult', -1.2224964991575376),\n",
       " ('genre_romance', -1.1322781108609705),\n",
       " ('genre_mystery', -0.7695251168871549),\n",
       " ('genre_poetry', -0.5279749692143845),\n",
       " ('publish_month_February', -0.46948879893487916),\n",
       " ('publish_month_January', -0.461355372314164),\n",
       " ('publish_month_July', -0.44287988667104977),\n",
       " ('publish_month_May', -0.41332856391015843),\n",
       " ('publish_company_Simon & Schuster', -0.3164066791335785),\n",
       " ('genre_thriller', -0.3115539342697388),\n",
       " ('publish_month_June', -0.2323091112629918),\n",
       " ('genre_non-fiction', -0.13446173023620323),\n",
       " ('publish_month_March', -0.1279945097017843),\n",
       " ('genre_sequential-art', -0.05652035114952549),\n",
       " ('publish_company_Macmillan', -0.05451576845082816),\n",
       " ('publish_company_Houghton Mifflin Harcourt', -0.04491670754100509),\n",
       " ('genre_childrens', 0.21624923787782876),\n",
       " ('genre_history', 0.2228372132266399),\n",
       " ('publish_month_October', 0.2411543795711555),\n",
       " ('series', 0.2939737755039147),\n",
       " ('publish_company_Harper Collins', 0.3296666966795924),\n",
       " ('rating', 0.3751449085575224),\n",
       " ('publish_month_August', 0.3854916079894638),\n",
       " ('publish_month_September', 0.40082456295400387),\n",
       " ('publish_company_Hachette', 0.63030025116537),\n",
       " ('publish_company_Penguin Random House', 0.6384502710470911),\n",
       " ('publish_month_November', 0.8114484900391555),\n",
       " ('genre_biography', 0.8229101579515187),\n",
       " ('publish_month_December', 0.873210487857992),\n",
       " ('genre_politics', 0.9346479864550004),\n",
       " ('top_authors', 1.134423314186235)]"
      ]
     },
     "execution_count": 21,
     "metadata": {},
     "output_type": "execute_result"
    }
   ],
   "source": [
    "sorted(coef_dict.items(), key=lambda x: x[1])"
   ]
  },
  {
   "cell_type": "code",
   "execution_count": 22,
   "metadata": {},
   "outputs": [
    {
     "data": {
      "text/plain": [
       "array([-0.43964852])"
      ]
     },
     "execution_count": 22,
     "metadata": {},
     "output_type": "execute_result"
    }
   ],
   "source": [
    "model_log.intercept_"
   ]
  },
  {
   "cell_type": "code",
   "execution_count": null,
   "metadata": {},
   "outputs": [],
   "source": [
    "# Create regularization penalty space\n",
    "penalty = ['l1', 'l2']\n",
    "\n",
    "# Create regularization hyperparameter space\n",
    "C = np.logspace(0, 4, 10)\n",
    "\n",
    "# Create hyperparameter options\n",
    "hyperparameters = dict(C=C, penalty=penalty)\n",
    "\n",
    "clf_2 = GridSearchCV(LogisticRegression(solver='liblinear'), hyperparameters, cv=5, verbose=0,scoring='accuracy')"
   ]
  },
  {
   "cell_type": "code",
   "execution_count": null,
   "metadata": {},
   "outputs": [],
   "source": [
    "best_model = clf_2.fit(X_train, y_train)"
   ]
  },
  {
   "cell_type": "code",
   "execution_count": null,
   "metadata": {},
   "outputs": [],
   "source": [
    "best_model.best_estimator_"
   ]
  },
  {
   "cell_type": "code",
   "execution_count": null,
   "metadata": {},
   "outputs": [],
   "source": [
    "print('Best Penalty:', best_model.best_estimator_.get_params()['penalty'])\n",
    "print('Best C:', best_model.best_estimator_.get_params()['C'])"
   ]
  },
  {
   "cell_type": "code",
   "execution_count": null,
   "metadata": {},
   "outputs": [],
   "source": [
    "logreg_2 = best_model.best_estimator_"
   ]
  },
  {
   "cell_type": "code",
   "execution_count": null,
   "metadata": {},
   "outputs": [],
   "source": [
    "logreg_2.fit(X_train, y_train)"
   ]
  },
  {
   "cell_type": "code",
   "execution_count": null,
   "metadata": {},
   "outputs": [],
   "source": [
    "y_hat2 = logreg_2.predict(X_test)"
   ]
  },
  {
   "cell_type": "code",
   "execution_count": null,
   "metadata": {},
   "outputs": [],
   "source": [
    "print_metrics(y_hat2,y_test)"
   ]
  },
  {
   "cell_type": "code",
   "execution_count": null,
   "metadata": {},
   "outputs": [],
   "source": [
    "coef_dict2 = {}\n",
    "for coef, feat in zip(logreg_2.coef_[0,:],X.columns):\n",
    "    coef_dict2[feat] = coef"
   ]
  },
  {
   "cell_type": "code",
   "execution_count": null,
   "metadata": {},
   "outputs": [],
   "source": [
    "sorted(coef_dict2.items(), key=lambda x: x[1])"
   ]
  },
  {
   "cell_type": "code",
   "execution_count": null,
   "metadata": {},
   "outputs": [],
   "source": [
    "cnf_matrix = confusion_matrix(y_test, y_hat2)\n",
    "print(cnf_matrix)\n",
    "plt.figure()\n",
    "plot_confusion_matrix(cnf_matrix, normalize=True,classes=[0,1],\n",
    "                      title='Normalized confusion matrix')\n",
    "plt.show()\n"
   ]
  },
  {
   "cell_type": "code",
   "execution_count": null,
   "metadata": {},
   "outputs": [],
   "source": [
    "y_test_score = model_log_2.decision_function(X_test)\n",
    "\n",
    "fpr, tpr, thresholds = roc_curve(y_test, y_test_score)\n",
    "\n",
    "y_train_score = model_log.decision_function(X_train)\n",
    "\n",
    "train_fpr, train_tpr, thresholds = roc_curve(y_train, y_train_score)"
   ]
  },
  {
   "cell_type": "code",
   "execution_count": null,
   "metadata": {},
   "outputs": [],
   "source": [
    "plot_AUC_ROC(y_test_score,fpr,tpr)"
   ]
  },
  {
   "cell_type": "markdown",
   "metadata": {},
   "source": [
    "## Test new data"
   ]
  },
  {
   "cell_type": "code",
   "execution_count": 30,
   "metadata": {},
   "outputs": [
    {
     "data": {
      "text/plain": [
       "Index(['series', 'rating', 'top_authors', 'publish_month_August',\n",
       "       'publish_month_December', 'publish_month_February',\n",
       "       'publish_month_January', 'publish_month_July', 'publish_month_June',\n",
       "       'publish_month_March', 'publish_month_May', 'publish_month_November',\n",
       "       'publish_month_October', 'publish_month_September',\n",
       "       'publish_company_Hachette', 'publish_company_Harper Collins',\n",
       "       'publish_company_Houghton Mifflin Harcourt',\n",
       "       'publish_company_Macmillan', 'publish_company_Penguin Random House',\n",
       "       'publish_company_Simon & Schuster', 'genre_biography',\n",
       "       'genre_childrens', 'genre_fantasy', 'genre_fiction', 'genre_historical',\n",
       "       'genre_history', 'genre_horror', 'genre_mystery', 'genre_non-fiction',\n",
       "       'genre_poetry', 'genre_politics', 'genre_romance',\n",
       "       'genre_science-fiction', 'genre_sequential-art', 'genre_short-stories',\n",
       "       'genre_thriller', 'genre_young-adult'],\n",
       "      dtype='object')"
      ]
     },
     "execution_count": 30,
     "metadata": {},
     "output_type": "execute_result"
    }
   ],
   "source": [
    "X.columns"
   ]
  },
  {
   "cell_type": "code",
   "execution_count": 33,
   "metadata": {},
   "outputs": [],
   "source": [
    "new_book_bestseller = [0,4.36,1,0,0,0,0,0,0,0,0,0,0,1,0,0,0,0,0,0,0,0,0,0,0,0,1,0,0,0,0,0,0,0,0,0,0]\n",
    "# new_book_not = []"
   ]
  },
  {
   "cell_type": "code",
   "execution_count": 35,
   "metadata": {},
   "outputs": [],
   "source": [
    "new_book = pd.DataFrame(new_book_bestseller)"
   ]
  },
  {
   "cell_type": "code",
   "execution_count": 39,
   "metadata": {},
   "outputs": [
    {
     "data": {
      "text/html": [
       "<div>\n",
       "<style scoped>\n",
       "    .dataframe tbody tr th:only-of-type {\n",
       "        vertical-align: middle;\n",
       "    }\n",
       "\n",
       "    .dataframe tbody tr th {\n",
       "        vertical-align: top;\n",
       "    }\n",
       "\n",
       "    .dataframe thead th {\n",
       "        text-align: right;\n",
       "    }\n",
       "</style>\n",
       "<table border=\"1\" class=\"dataframe\">\n",
       "  <thead>\n",
       "    <tr style=\"text-align: right;\">\n",
       "      <th></th>\n",
       "      <th>0</th>\n",
       "      <th>1</th>\n",
       "      <th>2</th>\n",
       "      <th>3</th>\n",
       "      <th>4</th>\n",
       "      <th>5</th>\n",
       "      <th>6</th>\n",
       "      <th>7</th>\n",
       "      <th>8</th>\n",
       "      <th>9</th>\n",
       "      <th>...</th>\n",
       "      <th>27</th>\n",
       "      <th>28</th>\n",
       "      <th>29</th>\n",
       "      <th>30</th>\n",
       "      <th>31</th>\n",
       "      <th>32</th>\n",
       "      <th>33</th>\n",
       "      <th>34</th>\n",
       "      <th>35</th>\n",
       "      <th>36</th>\n",
       "    </tr>\n",
       "  </thead>\n",
       "  <tbody>\n",
       "    <tr>\n",
       "      <th>0</th>\n",
       "      <td>0.0</td>\n",
       "      <td>4.36</td>\n",
       "      <td>1.0</td>\n",
       "      <td>0.0</td>\n",
       "      <td>0.0</td>\n",
       "      <td>0.0</td>\n",
       "      <td>0.0</td>\n",
       "      <td>0.0</td>\n",
       "      <td>0.0</td>\n",
       "      <td>0.0</td>\n",
       "      <td>...</td>\n",
       "      <td>0.0</td>\n",
       "      <td>0.0</td>\n",
       "      <td>0.0</td>\n",
       "      <td>0.0</td>\n",
       "      <td>0.0</td>\n",
       "      <td>0.0</td>\n",
       "      <td>0.0</td>\n",
       "      <td>0.0</td>\n",
       "      <td>0.0</td>\n",
       "      <td>0.0</td>\n",
       "    </tr>\n",
       "  </tbody>\n",
       "</table>\n",
       "<p>1 rows × 37 columns</p>\n",
       "</div>"
      ],
      "text/plain": [
       "    0     1    2    3    4    5    6    7    8    9   ...   27   28   29   30  \\\n",
       "0  0.0  4.36  1.0  0.0  0.0  0.0  0.0  0.0  0.0  0.0  ...  0.0  0.0  0.0  0.0   \n",
       "\n",
       "    31   32   33   34   35   36  \n",
       "0  0.0  0.0  0.0  0.0  0.0  0.0  \n",
       "\n",
       "[1 rows x 37 columns]"
      ]
     },
     "execution_count": 39,
     "metadata": {},
     "output_type": "execute_result"
    }
   ],
   "source": [
    "new_book.transpose()"
   ]
  },
  {
   "cell_type": "code",
   "execution_count": 44,
   "metadata": {},
   "outputs": [],
   "source": [
    "new_book_not_bestseller = [1,3.87,0,0,0,0,0,0,0,0,0,1,0,0,0,0,0,0,1,0,0,0,0,0,0,0,0,0,0,0,1,0,0,0,0,0,0]"
   ]
  },
  {
   "cell_type": "code",
   "execution_count": 45,
   "metadata": {},
   "outputs": [
    {
     "data": {
      "text/plain": [
       "37"
      ]
     },
     "execution_count": 45,
     "metadata": {},
     "output_type": "execute_result"
    }
   ],
   "source": [
    "len(new_book_not_bestseller)"
   ]
  },
  {
   "cell_type": "code",
   "execution_count": 47,
   "metadata": {},
   "outputs": [],
   "source": [
    "new_book2 = pd.DataFrame(new_book_not_bestseller)"
   ]
  },
  {
   "cell_type": "code",
   "execution_count": 48,
   "metadata": {},
   "outputs": [
    {
     "data": {
      "text/plain": [
       "array([1.])"
      ]
     },
     "execution_count": 48,
     "metadata": {},
     "output_type": "execute_result"
    }
   ],
   "source": [
    "model_log.predict(new_book2.transpose())"
   ]
  },
  {
   "cell_type": "code",
   "execution_count": null,
   "metadata": {},
   "outputs": [],
   "source": []
  },
  {
   "cell_type": "markdown",
   "metadata": {},
   "source": [
    "## Helpers"
   ]
  },
  {
   "cell_type": "code",
   "execution_count": 13,
   "metadata": {},
   "outputs": [],
   "source": [
    "def plot_confusion_matrix(cm, classes,\n",
    "                          normalize=False,\n",
    "                          title='Confusion matrix',\n",
    "                          cmap=plt.cm.Blues):\n",
    "    #Add Normalization Option\n",
    "    if normalize:\n",
    "        cm = cm.astype('float') / cm.sum(axis=1)[:, np.newaxis]\n",
    "        print(\"Normalized confusion matrix\")\n",
    "    else:\n",
    "        print('Confusion matrix, without normalization')\n",
    "\n",
    "    print(cm)\n",
    "\n",
    "    plt.imshow(cm, interpolation='nearest', cmap=cmap)\n",
    "    plt.title(title)\n",
    "    plt.colorbar()\n",
    "    tick_marks = np.arange(len(classes))\n",
    "    plt.xticks(tick_marks, classes)\n",
    "    plt.yticks(tick_marks, classes)\n",
    "    \n",
    "    fmt = '.2f'\n",
    "    thresh = cm.max() / 2.\n",
    "    for i, j in itertools.product(range(cm.shape[0]), range(cm.shape[1])):\n",
    "        plt.text(j, i, format(cm[i, j], fmt),\n",
    "                 horizontalalignment=\"center\",\n",
    "                 color=\"white\" if cm[i, j] > thresh else \"black\")\n",
    "    \n",
    "    plt.tight_layout()\n",
    "    plt.ylabel('True label')\n",
    "    plt.xlabel('Predicted label')\n",
    "    plt.savefig('confusion')"
   ]
  },
  {
   "cell_type": "code",
   "execution_count": null,
   "metadata": {},
   "outputs": [],
   "source": [
    "def print_metrics(labels, preds):\n",
    "    print(\"Precision Score: {}\".format(precision_score(labels, preds)))\n",
    "    print(\"Recall Score: {}\".format(recall_score(labels, preds)))\n",
    "    print(\"Accuracy Score: {}\".format(accuracy_score(labels, preds)))\n",
    "    print(\"F1 Score: {}\".format(f1_score(labels, preds)))"
   ]
  },
  {
   "cell_type": "code",
   "execution_count": null,
   "metadata": {},
   "outputs": [],
   "source": [
    "def plot_AUC_ROC(y_score,fpr,tpr):\n",
    "    sns.set_style(\"darkgrid\", {\"axes.facecolor\": \".9\"})\n",
    "    print('AUC: {}'.format(auc(fpr, tpr)))\n",
    "    plt.figure(figsize=(10,8))\n",
    "    lw = 2\n",
    "    plt.plot(fpr, tpr, color='darkorange',\n",
    "         lw=lw, label='ROC curve')\n",
    "    plt.plot([0, 1], [0, 1], color='navy', lw=lw, linestyle='--')\n",
    "    plt.xlim([0.0, 1.0])\n",
    "    plt.ylim([0.0, 1.05])\n",
    "    plt.yticks([i/20.0 for i in range(21)])\n",
    "    plt.xticks([i/20.0 for i in range(21)])\n",
    "    plt.xlabel('False Positive Rate')\n",
    "    plt.ylabel('True Positive Rate')\n",
    "    plt.title('Receiver operating characteristic (ROC) Curve')\n",
    "    plt.legend(loc=\"lower right\")\n",
    "    plt.show()"
   ]
  },
  {
   "cell_type": "code",
   "execution_count": null,
   "metadata": {},
   "outputs": [],
   "source": []
  }
 ],
 "metadata": {
  "kernelspec": {
   "display_name": "Python 3",
   "language": "python",
   "name": "python3"
  },
  "language_info": {
   "codemirror_mode": {
    "name": "ipython",
    "version": 3
   },
   "file_extension": ".py",
   "mimetype": "text/x-python",
   "name": "python",
   "nbconvert_exporter": "python",
   "pygments_lexer": "ipython3",
   "version": "3.7.3"
  }
 },
 "nbformat": 4,
 "nbformat_minor": 2
}

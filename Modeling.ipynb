{
 "cells": [
  {
   "cell_type": "code",
   "execution_count": null,
   "metadata": {},
   "outputs": [],
   "source": [
    "# import the libraries"
   ]
  },
  {
   "cell_type": "code",
   "execution_count": null,
   "metadata": {},
   "outputs": [],
   "source": [
    "conda install py-xgboost"
   ]
  },
  {
   "cell_type": "code",
   "execution_count": 38,
   "metadata": {},
   "outputs": [],
   "source": [
    "import pandas as pd\n",
    "from sklearn.model_selection import train_test_split\n",
    "from sklearn.dummy import DummyClassifier\n",
    "from sklearn.linear_model import LogisticRegression\n",
    "import numpy as np\n",
    "import xgboost as xgb\n",
    "import os\n",
    "os.environ['KMP_DUPLICATE_LIB_OK']='True'\n",
    "from xgboost import XGBClassifier\n",
    "import time\n",
    "from sklearn.metrics import precision_score, recall_score, accuracy_score, f1_score\n",
    "import matplotlib.pyplot as plt\n",
    "import seaborn as sns\n",
    "%matplotlib inline\n",
    "from sklearn.metrics import roc_curve, auc\n",
    "from sklearn.externals.six import StringIO\n",
    "from sklearn.tree import export_graphviz\n",
    "import pydotplus\n",
    "from IPython.display import Image  \n",
    "from sklearn.tree import DecisionTreeClassifier\n",
    "from sklearn.ensemble import BaggingClassifier, RandomForestClassifier\n",
    "from sklearn.metrics import confusion_matrix\n",
    "from sklearn.neighbors import KNeighborsClassifier\n",
    "from sklearn.model_selection import GridSearchCV\n",
    "from sklearn.tree import DecisionTreeClassifier \n",
    "from sklearn import tree \n",
    "import itertools"
   ]
  },
  {
   "cell_type": "code",
   "execution_count": 2,
   "metadata": {},
   "outputs": [],
   "source": [
    "df = pd.read_csv('final_dataframe.csv',index_col=0)"
   ]
  },
  {
   "cell_type": "code",
   "execution_count": 3,
   "metadata": {
    "scrolled": true
   },
   "outputs": [
    {
     "name": "stdout",
     "output_type": "stream",
     "text": [
      "<class 'pandas.core.frame.DataFrame'>\n",
      "Int64Index: 1646 entries, 0 to 1670\n",
      "Data columns (total 16 columns):\n",
      "ISBN                  1646 non-null int64\n",
      "title                 1646 non-null object\n",
      "series                1646 non-null int64\n",
      "author                1646 non-null object\n",
      "rating                1646 non-null float64\n",
      "genre                 1646 non-null object\n",
      "publish_date          1645 non-null object\n",
      "publish_company       1637 non-null object\n",
      "format                1645 non-null object\n",
      "number_of_pages       1646 non-null int64\n",
      "publish_month         1646 non-null object\n",
      "publish_year          1646 non-null int64\n",
      "NYT_bestseller        1646 non-null float64\n",
      "length_of_title       1646 non-null int64\n",
      "num_words_in_title    1646 non-null int64\n",
      "top_authors           1646 non-null int64\n",
      "dtypes: float64(2), int64(7), object(7)\n",
      "memory usage: 218.6+ KB\n"
     ]
    }
   ],
   "source": [
    "df.info()"
   ]
  },
  {
   "cell_type": "markdown",
   "metadata": {},
   "source": [
    "# Set up for modeling"
   ]
  },
  {
   "cell_type": "code",
   "execution_count": 4,
   "metadata": {
    "scrolled": true
   },
   "outputs": [],
   "source": [
    "feats = ['series','rating','publish_month','length_of_title',\n",
    "         'publish_company','genre','num_words_in_title','top_authors']\n",
    "\n",
    "X = pd.get_dummies(df[feats], drop_first=True)"
   ]
  },
  {
   "cell_type": "code",
   "execution_count": 5,
   "metadata": {},
   "outputs": [],
   "source": [
    "# for publisher, genre, and month of publishing, i only want the \"important ones\"\n",
    "# which i have deemed to be anything where the count was over 10 \n",
    "\n",
    "X.drop([col for col, val in X.sum().iteritems() if val < 10], axis=1, inplace=True)"
   ]
  },
  {
   "cell_type": "code",
   "execution_count": 6,
   "metadata": {},
   "outputs": [
    {
     "data": {
      "text/plain": [
       "Index(['series', 'rating', 'length_of_title', 'num_words_in_title',\n",
       "       'top_authors', 'publish_month_August', 'publish_month_December',\n",
       "       'publish_month_February', 'publish_month_January', 'publish_month_July',\n",
       "       'publish_month_June', 'publish_month_March', 'publish_month_May',\n",
       "       'publish_month_November', 'publish_month_October',\n",
       "       'publish_month_September', 'publish_company_Hachette',\n",
       "       'publish_company_Harper Collins',\n",
       "       'publish_company_Houghton Mifflin Harcourt',\n",
       "       'publish_company_Macmillan', 'publish_company_Penguin Random House',\n",
       "       'publish_company_Simon & Schuster', 'genre_autobiography',\n",
       "       'genre_biography', 'genre_childrens', 'genre_contemporary',\n",
       "       'genre_fantasy', 'genre_fiction', 'genre_food-and-drink',\n",
       "       'genre_historical', 'genre_history', 'genre_horror',\n",
       "       'genre_media-tie-in', 'genre_mystery', 'genre_non-fiction',\n",
       "       'genre_poetry', 'genre_politics', 'genre_romance',\n",
       "       'genre_science-fiction', 'genre_sequential-art', 'genre_short-stories',\n",
       "       'genre_sports-and-games', 'genre_thriller', 'genre_young-adult'],\n",
       "      dtype='object')"
      ]
     },
     "execution_count": 6,
     "metadata": {},
     "output_type": "execute_result"
    }
   ],
   "source": [
    "X.columns"
   ]
  },
  {
   "cell_type": "code",
   "execution_count": 7,
   "metadata": {},
   "outputs": [],
   "source": [
    "# Y is the target variable\n",
    "Y = df['NYT_bestseller']"
   ]
  },
  {
   "cell_type": "code",
   "execution_count": 8,
   "metadata": {},
   "outputs": [
    {
     "data": {
      "text/html": [
       "<div>\n",
       "<style scoped>\n",
       "    .dataframe tbody tr th:only-of-type {\n",
       "        vertical-align: middle;\n",
       "    }\n",
       "\n",
       "    .dataframe tbody tr th {\n",
       "        vertical-align: top;\n",
       "    }\n",
       "\n",
       "    .dataframe thead th {\n",
       "        text-align: right;\n",
       "    }\n",
       "</style>\n",
       "<table border=\"1\" class=\"dataframe\">\n",
       "  <thead>\n",
       "    <tr style=\"text-align: right;\">\n",
       "      <th></th>\n",
       "      <th>series</th>\n",
       "      <th>rating</th>\n",
       "      <th>length_of_title</th>\n",
       "      <th>num_words_in_title</th>\n",
       "      <th>top_authors</th>\n",
       "      <th>publish_month_August</th>\n",
       "      <th>publish_month_December</th>\n",
       "      <th>publish_month_February</th>\n",
       "      <th>publish_month_January</th>\n",
       "      <th>publish_month_July</th>\n",
       "      <th>...</th>\n",
       "      <th>genre_non-fiction</th>\n",
       "      <th>genre_poetry</th>\n",
       "      <th>genre_politics</th>\n",
       "      <th>genre_romance</th>\n",
       "      <th>genre_science-fiction</th>\n",
       "      <th>genre_sequential-art</th>\n",
       "      <th>genre_short-stories</th>\n",
       "      <th>genre_sports-and-games</th>\n",
       "      <th>genre_thriller</th>\n",
       "      <th>genre_young-adult</th>\n",
       "    </tr>\n",
       "  </thead>\n",
       "  <tbody>\n",
       "    <tr>\n",
       "      <th>0</th>\n",
       "      <td>0</td>\n",
       "      <td>4.17</td>\n",
       "      <td>57</td>\n",
       "      <td>9</td>\n",
       "      <td>0</td>\n",
       "      <td>0</td>\n",
       "      <td>0</td>\n",
       "      <td>0</td>\n",
       "      <td>0</td>\n",
       "      <td>0</td>\n",
       "      <td>...</td>\n",
       "      <td>0</td>\n",
       "      <td>0</td>\n",
       "      <td>0</td>\n",
       "      <td>0</td>\n",
       "      <td>0</td>\n",
       "      <td>0</td>\n",
       "      <td>0</td>\n",
       "      <td>0</td>\n",
       "      <td>0</td>\n",
       "      <td>0</td>\n",
       "    </tr>\n",
       "    <tr>\n",
       "      <th>1</th>\n",
       "      <td>0</td>\n",
       "      <td>4.11</td>\n",
       "      <td>63</td>\n",
       "      <td>12</td>\n",
       "      <td>0</td>\n",
       "      <td>0</td>\n",
       "      <td>0</td>\n",
       "      <td>1</td>\n",
       "      <td>0</td>\n",
       "      <td>0</td>\n",
       "      <td>...</td>\n",
       "      <td>0</td>\n",
       "      <td>0</td>\n",
       "      <td>0</td>\n",
       "      <td>0</td>\n",
       "      <td>0</td>\n",
       "      <td>0</td>\n",
       "      <td>0</td>\n",
       "      <td>0</td>\n",
       "      <td>0</td>\n",
       "      <td>0</td>\n",
       "    </tr>\n",
       "    <tr>\n",
       "      <th>2</th>\n",
       "      <td>1</td>\n",
       "      <td>4.09</td>\n",
       "      <td>11</td>\n",
       "      <td>2</td>\n",
       "      <td>1</td>\n",
       "      <td>0</td>\n",
       "      <td>0</td>\n",
       "      <td>0</td>\n",
       "      <td>0</td>\n",
       "      <td>0</td>\n",
       "      <td>...</td>\n",
       "      <td>0</td>\n",
       "      <td>0</td>\n",
       "      <td>0</td>\n",
       "      <td>0</td>\n",
       "      <td>0</td>\n",
       "      <td>0</td>\n",
       "      <td>0</td>\n",
       "      <td>0</td>\n",
       "      <td>0</td>\n",
       "      <td>0</td>\n",
       "    </tr>\n",
       "    <tr>\n",
       "      <th>3</th>\n",
       "      <td>0</td>\n",
       "      <td>4.16</td>\n",
       "      <td>47</td>\n",
       "      <td>9</td>\n",
       "      <td>0</td>\n",
       "      <td>0</td>\n",
       "      <td>0</td>\n",
       "      <td>0</td>\n",
       "      <td>0</td>\n",
       "      <td>0</td>\n",
       "      <td>...</td>\n",
       "      <td>0</td>\n",
       "      <td>0</td>\n",
       "      <td>0</td>\n",
       "      <td>0</td>\n",
       "      <td>0</td>\n",
       "      <td>0</td>\n",
       "      <td>0</td>\n",
       "      <td>0</td>\n",
       "      <td>0</td>\n",
       "      <td>0</td>\n",
       "    </tr>\n",
       "    <tr>\n",
       "      <th>4</th>\n",
       "      <td>0</td>\n",
       "      <td>4.08</td>\n",
       "      <td>68</td>\n",
       "      <td>13</td>\n",
       "      <td>0</td>\n",
       "      <td>0</td>\n",
       "      <td>0</td>\n",
       "      <td>0</td>\n",
       "      <td>0</td>\n",
       "      <td>0</td>\n",
       "      <td>...</td>\n",
       "      <td>1</td>\n",
       "      <td>0</td>\n",
       "      <td>0</td>\n",
       "      <td>0</td>\n",
       "      <td>0</td>\n",
       "      <td>0</td>\n",
       "      <td>0</td>\n",
       "      <td>0</td>\n",
       "      <td>0</td>\n",
       "      <td>0</td>\n",
       "    </tr>\n",
       "  </tbody>\n",
       "</table>\n",
       "<p>5 rows × 44 columns</p>\n",
       "</div>"
      ],
      "text/plain": [
       "   series  rating  length_of_title  num_words_in_title  top_authors  \\\n",
       "0       0    4.17               57                   9            0   \n",
       "1       0    4.11               63                  12            0   \n",
       "2       1    4.09               11                   2            1   \n",
       "3       0    4.16               47                   9            0   \n",
       "4       0    4.08               68                  13            0   \n",
       "\n",
       "   publish_month_August  publish_month_December  publish_month_February  \\\n",
       "0                     0                       0                       0   \n",
       "1                     0                       0                       1   \n",
       "2                     0                       0                       0   \n",
       "3                     0                       0                       0   \n",
       "4                     0                       0                       0   \n",
       "\n",
       "   publish_month_January  publish_month_July  ...  genre_non-fiction  \\\n",
       "0                      0                   0  ...                  0   \n",
       "1                      0                   0  ...                  0   \n",
       "2                      0                   0  ...                  0   \n",
       "3                      0                   0  ...                  0   \n",
       "4                      0                   0  ...                  1   \n",
       "\n",
       "   genre_poetry  genre_politics  genre_romance  genre_science-fiction  \\\n",
       "0             0               0              0                      0   \n",
       "1             0               0              0                      0   \n",
       "2             0               0              0                      0   \n",
       "3             0               0              0                      0   \n",
       "4             0               0              0                      0   \n",
       "\n",
       "   genre_sequential-art  genre_short-stories  genre_sports-and-games  \\\n",
       "0                     0                    0                       0   \n",
       "1                     0                    0                       0   \n",
       "2                     0                    0                       0   \n",
       "3                     0                    0                       0   \n",
       "4                     0                    0                       0   \n",
       "\n",
       "   genre_thriller  genre_young-adult  \n",
       "0               0                  0  \n",
       "1               0                  0  \n",
       "2               0                  0  \n",
       "3               0                  0  \n",
       "4               0                  0  \n",
       "\n",
       "[5 rows x 44 columns]"
      ]
     },
     "execution_count": 8,
     "metadata": {},
     "output_type": "execute_result"
    }
   ],
   "source": [
    "X.head()"
   ]
  },
  {
   "cell_type": "code",
   "execution_count": 9,
   "metadata": {},
   "outputs": [
    {
     "data": {
      "text/html": [
       "<div>\n",
       "<style scoped>\n",
       "    .dataframe tbody tr th:only-of-type {\n",
       "        vertical-align: middle;\n",
       "    }\n",
       "\n",
       "    .dataframe tbody tr th {\n",
       "        vertical-align: top;\n",
       "    }\n",
       "\n",
       "    .dataframe thead th {\n",
       "        text-align: right;\n",
       "    }\n",
       "</style>\n",
       "<table border=\"1\" class=\"dataframe\">\n",
       "  <thead>\n",
       "    <tr style=\"text-align: right;\">\n",
       "      <th></th>\n",
       "      <th>series</th>\n",
       "      <th>rating</th>\n",
       "      <th>length_of_title</th>\n",
       "      <th>num_words_in_title</th>\n",
       "      <th>top_authors</th>\n",
       "      <th>publish_month_August</th>\n",
       "      <th>publish_month_December</th>\n",
       "      <th>publish_month_February</th>\n",
       "      <th>publish_month_January</th>\n",
       "      <th>publish_month_July</th>\n",
       "      <th>...</th>\n",
       "      <th>genre_non-fiction</th>\n",
       "      <th>genre_poetry</th>\n",
       "      <th>genre_politics</th>\n",
       "      <th>genre_romance</th>\n",
       "      <th>genre_science-fiction</th>\n",
       "      <th>genre_sequential-art</th>\n",
       "      <th>genre_short-stories</th>\n",
       "      <th>genre_sports-and-games</th>\n",
       "      <th>genre_thriller</th>\n",
       "      <th>genre_young-adult</th>\n",
       "    </tr>\n",
       "  </thead>\n",
       "  <tbody>\n",
       "    <tr>\n",
       "      <th>0</th>\n",
       "      <td>0.0</td>\n",
       "      <td>0.624434</td>\n",
       "      <td>0.295082</td>\n",
       "      <td>0.235294</td>\n",
       "      <td>0.0</td>\n",
       "      <td>0.0</td>\n",
       "      <td>0.0</td>\n",
       "      <td>0.0</td>\n",
       "      <td>0.0</td>\n",
       "      <td>0.0</td>\n",
       "      <td>...</td>\n",
       "      <td>0.0</td>\n",
       "      <td>0.0</td>\n",
       "      <td>0.0</td>\n",
       "      <td>0.0</td>\n",
       "      <td>0.0</td>\n",
       "      <td>0.0</td>\n",
       "      <td>0.0</td>\n",
       "      <td>0.0</td>\n",
       "      <td>0.0</td>\n",
       "      <td>0.0</td>\n",
       "    </tr>\n",
       "    <tr>\n",
       "      <th>1</th>\n",
       "      <td>0.0</td>\n",
       "      <td>0.597285</td>\n",
       "      <td>0.327869</td>\n",
       "      <td>0.323529</td>\n",
       "      <td>0.0</td>\n",
       "      <td>0.0</td>\n",
       "      <td>0.0</td>\n",
       "      <td>1.0</td>\n",
       "      <td>0.0</td>\n",
       "      <td>0.0</td>\n",
       "      <td>...</td>\n",
       "      <td>0.0</td>\n",
       "      <td>0.0</td>\n",
       "      <td>0.0</td>\n",
       "      <td>0.0</td>\n",
       "      <td>0.0</td>\n",
       "      <td>0.0</td>\n",
       "      <td>0.0</td>\n",
       "      <td>0.0</td>\n",
       "      <td>0.0</td>\n",
       "      <td>0.0</td>\n",
       "    </tr>\n",
       "    <tr>\n",
       "      <th>2</th>\n",
       "      <td>1.0</td>\n",
       "      <td>0.588235</td>\n",
       "      <td>0.043716</td>\n",
       "      <td>0.029412</td>\n",
       "      <td>1.0</td>\n",
       "      <td>0.0</td>\n",
       "      <td>0.0</td>\n",
       "      <td>0.0</td>\n",
       "      <td>0.0</td>\n",
       "      <td>0.0</td>\n",
       "      <td>...</td>\n",
       "      <td>0.0</td>\n",
       "      <td>0.0</td>\n",
       "      <td>0.0</td>\n",
       "      <td>0.0</td>\n",
       "      <td>0.0</td>\n",
       "      <td>0.0</td>\n",
       "      <td>0.0</td>\n",
       "      <td>0.0</td>\n",
       "      <td>0.0</td>\n",
       "      <td>0.0</td>\n",
       "    </tr>\n",
       "    <tr>\n",
       "      <th>3</th>\n",
       "      <td>0.0</td>\n",
       "      <td>0.619910</td>\n",
       "      <td>0.240437</td>\n",
       "      <td>0.235294</td>\n",
       "      <td>0.0</td>\n",
       "      <td>0.0</td>\n",
       "      <td>0.0</td>\n",
       "      <td>0.0</td>\n",
       "      <td>0.0</td>\n",
       "      <td>0.0</td>\n",
       "      <td>...</td>\n",
       "      <td>0.0</td>\n",
       "      <td>0.0</td>\n",
       "      <td>0.0</td>\n",
       "      <td>0.0</td>\n",
       "      <td>0.0</td>\n",
       "      <td>0.0</td>\n",
       "      <td>0.0</td>\n",
       "      <td>0.0</td>\n",
       "      <td>0.0</td>\n",
       "      <td>0.0</td>\n",
       "    </tr>\n",
       "    <tr>\n",
       "      <th>4</th>\n",
       "      <td>0.0</td>\n",
       "      <td>0.583710</td>\n",
       "      <td>0.355191</td>\n",
       "      <td>0.352941</td>\n",
       "      <td>0.0</td>\n",
       "      <td>0.0</td>\n",
       "      <td>0.0</td>\n",
       "      <td>0.0</td>\n",
       "      <td>0.0</td>\n",
       "      <td>0.0</td>\n",
       "      <td>...</td>\n",
       "      <td>1.0</td>\n",
       "      <td>0.0</td>\n",
       "      <td>0.0</td>\n",
       "      <td>0.0</td>\n",
       "      <td>0.0</td>\n",
       "      <td>0.0</td>\n",
       "      <td>0.0</td>\n",
       "      <td>0.0</td>\n",
       "      <td>0.0</td>\n",
       "      <td>0.0</td>\n",
       "    </tr>\n",
       "  </tbody>\n",
       "</table>\n",
       "<p>5 rows × 44 columns</p>\n",
       "</div>"
      ],
      "text/plain": [
       "   series    rating  length_of_title  num_words_in_title  top_authors  \\\n",
       "0     0.0  0.624434         0.295082            0.235294          0.0   \n",
       "1     0.0  0.597285         0.327869            0.323529          0.0   \n",
       "2     1.0  0.588235         0.043716            0.029412          1.0   \n",
       "3     0.0  0.619910         0.240437            0.235294          0.0   \n",
       "4     0.0  0.583710         0.355191            0.352941          0.0   \n",
       "\n",
       "   publish_month_August  publish_month_December  publish_month_February  \\\n",
       "0                   0.0                     0.0                     0.0   \n",
       "1                   0.0                     0.0                     1.0   \n",
       "2                   0.0                     0.0                     0.0   \n",
       "3                   0.0                     0.0                     0.0   \n",
       "4                   0.0                     0.0                     0.0   \n",
       "\n",
       "   publish_month_January  publish_month_July  ...  genre_non-fiction  \\\n",
       "0                    0.0                 0.0  ...                0.0   \n",
       "1                    0.0                 0.0  ...                0.0   \n",
       "2                    0.0                 0.0  ...                0.0   \n",
       "3                    0.0                 0.0  ...                0.0   \n",
       "4                    0.0                 0.0  ...                1.0   \n",
       "\n",
       "   genre_poetry  genre_politics  genre_romance  genre_science-fiction  \\\n",
       "0           0.0             0.0            0.0                    0.0   \n",
       "1           0.0             0.0            0.0                    0.0   \n",
       "2           0.0             0.0            0.0                    0.0   \n",
       "3           0.0             0.0            0.0                    0.0   \n",
       "4           0.0             0.0            0.0                    0.0   \n",
       "\n",
       "   genre_sequential-art  genre_short-stories  genre_sports-and-games  \\\n",
       "0                   0.0                  0.0                     0.0   \n",
       "1                   0.0                  0.0                     0.0   \n",
       "2                   0.0                  0.0                     0.0   \n",
       "3                   0.0                  0.0                     0.0   \n",
       "4                   0.0                  0.0                     0.0   \n",
       "\n",
       "   genre_thriller  genre_young-adult  \n",
       "0             0.0                0.0  \n",
       "1             0.0                0.0  \n",
       "2             0.0                0.0  \n",
       "3             0.0                0.0  \n",
       "4             0.0                0.0  \n",
       "\n",
       "[5 rows x 44 columns]"
      ]
     },
     "execution_count": 9,
     "metadata": {},
     "output_type": "execute_result"
    }
   ],
   "source": [
    "# normalize the features\n",
    "\n",
    "for col in X.columns:\n",
    "    X[col] = (X[col]-min(X[col]))/ (max(X[col]) - min(X[col])) \n",
    "\n",
    "#We subtract the minimum and divide by the range forcing a scale of 0 to 1 for each feature\n",
    "\n",
    "X.head()"
   ]
  },
  {
   "cell_type": "code",
   "execution_count": 149,
   "metadata": {},
   "outputs": [],
   "source": [
    "X_train, X_test, y_train, y_test = train_test_split(X, Y, test_size = 0.2)"
   ]
  },
  {
   "cell_type": "markdown",
   "metadata": {},
   "source": [
    "# Baseline: "
   ]
  },
  {
   "cell_type": "code",
   "execution_count": 11,
   "metadata": {},
   "outputs": [
    {
     "data": {
      "text/plain": [
       "0.0    0.665249\n",
       "1.0    0.334751\n",
       "Name: NYT_bestseller, dtype: float64"
      ]
     },
     "execution_count": 11,
     "metadata": {},
     "output_type": "execute_result"
    }
   ],
   "source": [
    "df['NYT_bestseller'].value_counts(normalize=True)"
   ]
  },
  {
   "cell_type": "code",
   "execution_count": 150,
   "metadata": {},
   "outputs": [],
   "source": [
    "dum_clf = DummyClassifier(strategy='most_frequent')\n",
    "dum_model = dum_clf.fit(X_train,y_train)\n",
    "y_hat_train = dum_clf.predict(X_train)\n",
    "y_hat_test = dum_model.predict(X_test)"
   ]
  },
  {
   "cell_type": "code",
   "execution_count": 151,
   "metadata": {},
   "outputs": [
    {
     "name": "stdout",
     "output_type": "stream",
     "text": [
      "0.6656534954407295\n",
      "0.6636363636363637\n"
     ]
    }
   ],
   "source": [
    "print(accuracy_score(y_hat_train,y_train))\n",
    "print(accuracy_score(y_hat_test,y_test))"
   ]
  },
  {
   "cell_type": "code",
   "execution_count": null,
   "metadata": {},
   "outputs": [],
   "source": [
    "# i need my model to perform better than 66%!"
   ]
  },
  {
   "cell_type": "code",
   "execution_count": null,
   "metadata": {},
   "outputs": [],
   "source": [
    "# for this specific classification problem, I have focused on increasing accuracy and F1 given that \n",
    "# i believe a false positive and false negative are equally \"bad\" and \n",
    "# FP = not really a best seller, but my model said it was (wasted investment)\n",
    "# FN = a best seller but my model said it wasn't (missed business opportunity)\n",
    "# my goal should be to make the most accurate model possible"
   ]
  },
  {
   "cell_type": "markdown",
   "metadata": {},
   "source": [
    "## Helper Functions"
   ]
  },
  {
   "cell_type": "code",
   "execution_count": 16,
   "metadata": {},
   "outputs": [],
   "source": [
    "def print_metrics(labels, preds):\n",
    "    print(\"Precision Score: {}\".format(precision_score(labels, preds)))\n",
    "    print(\"Recall Score: {}\".format(recall_score(labels, preds)))\n",
    "    print(\"Accuracy Score: {}\".format(accuracy_score(labels, preds)))\n",
    "    print(\"F1 Score: {}\".format(f1_score(labels, preds)))"
   ]
  },
  {
   "cell_type": "code",
   "execution_count": 42,
   "metadata": {},
   "outputs": [],
   "source": [
    "def plot_confusion_matrix(cm, classes,\n",
    "                          title='Confusion matrix',\n",
    "                          cmap=plt.cm.Blues):\n",
    "    #Pseudocode/Outline:\n",
    "    #Print the confusion matrix (optional)\n",
    "    #Create the basic matrix.\n",
    "    #Add title and Axis Labels\n",
    "    #Add appropriate Axis Scales\n",
    "    #Add Labels to Each Cell\n",
    "    #Add a Side Bar Legend Showing Colors\n",
    "    \n",
    "    print(cm)\n",
    "\n",
    "    plt.imshow(cm, interpolation='nearest', cmap=cmap)\n",
    "    plt.title(title)\n",
    "    plt.colorbar()\n",
    "    tick_marks = np.arange(len(classes))\n",
    "    plt.xticks(tick_marks, classes, rotation=45)\n",
    "    plt.yticks(tick_marks, classes)\n",
    "\n",
    "    fmt = 'd'\n",
    "    thresh = cm.max() / 2.\n",
    "    for i, j in itertools.product(range(cm.shape[0]), range(cm.shape[1])):\n",
    "        plt.text(j, i, format(cm[i, j], fmt),\n",
    "                 horizontalalignment=\"center\",\n",
    "                 color=\"white\" if cm[i, j] > thresh else \"black\")\n",
    "\n",
    "    plt.tight_layout()\n",
    "    plt.ylabel('True label')\n",
    "    plt.xlabel('Predicted label')"
   ]
  },
  {
   "cell_type": "code",
   "execution_count": 18,
   "metadata": {},
   "outputs": [],
   "source": [
    "def plot_AUC_ROC(y_score,fpr,tpr):\n",
    "    sns.set_style(\"darkgrid\", {\"axes.facecolor\": \".9\"})\n",
    "    print('AUC: {}'.format(auc(fpr, tpr)))\n",
    "    plt.figure(figsize=(10,8))\n",
    "    lw = 2\n",
    "    plt.plot(fpr, tpr, color='darkorange',\n",
    "         lw=lw, label='ROC curve')\n",
    "    plt.plot([0, 1], [0, 1], color='navy', lw=lw, linestyle='--')\n",
    "    plt.xlim([0.0, 1.0])\n",
    "    plt.ylim([0.0, 1.05])\n",
    "    plt.yticks([i/20.0 for i in range(21)])\n",
    "    plt.xticks([i/20.0 for i in range(21)])\n",
    "    plt.xlabel('False Positive Rate')\n",
    "    plt.ylabel('True Positive Rate')\n",
    "    plt.title('Receiver operating characteristic (ROC) Curve')\n",
    "    plt.legend(loc=\"lower right\")\n",
    "    plt.show()"
   ]
  },
  {
   "cell_type": "code",
   "execution_count": 49,
   "metadata": {},
   "outputs": [],
   "source": [
    "def plot_feature_importance(model, x_train, n=30):\n",
    "    # extract and sort the feature importance\n",
    "    features = model.feature_importances_\n",
    "    columns = x_train.columns.values\n",
    "    \n",
    "    # combine the features importance and column names into a matrix and sort them\n",
    "    feature_matrix = np.array([features, columns])\n",
    "    feature_matrix = feature_matrix.transpose()\n",
    "    feature_matrix.sort(0)\n",
    "    \n",
    "    # divide the column names and feature importance\n",
    "    sorted_feat = feature_matrix[:, 0]\n",
    "    sorted_columns = feature_matrix[:, 1]\n",
    "    \n",
    "     # plot the features\n",
    "    plt.figure(figsize=(16, 12))\n",
    "    try:\n",
    "        plt.barh(sorted_columns[-n:], sorted_feat[-n:], align='center')\n",
    "    \n",
    "    except:\n",
    "        # if n features is greater than the amount that actually exists\n",
    "        n = len(sorted_feat)\n",
    "        plt.barh(sorted_columns[-n:], sorted_feat[-n:], align='center')\n",
    "        \n",
    "    plt.yticks(sorted_columns[-n:], sorted_columns[-n:])\n",
    "    plt.xlabel(\"Feature Importance\")\n",
    "    plt.ylabel(\"Feature\")\n",
    "    return"
   ]
  },
  {
   "cell_type": "markdown",
   "metadata": {},
   "source": [
    "# Model 1: Logistic Regression"
   ]
  },
  {
   "cell_type": "code",
   "execution_count": 152,
   "metadata": {},
   "outputs": [
    {
     "data": {
      "text/plain": [
       "LogisticRegression(C=1.0, class_weight=None, dual=False, fit_intercept=False,\n",
       "          intercept_scaling=1, max_iter=100, multi_class='warn',\n",
       "          n_jobs=None, penalty='l2', random_state=None, solver='liblinear',\n",
       "          tol=0.0001, verbose=0, warm_start=False)"
      ]
     },
     "execution_count": 152,
     "metadata": {},
     "output_type": "execute_result"
    }
   ],
   "source": [
    "logreg = LogisticRegression(fit_intercept = False, solver='liblinear')\n",
    "model_log = logreg.fit(X_train, y_train)\n",
    "model_log"
   ]
  },
  {
   "cell_type": "code",
   "execution_count": null,
   "metadata": {},
   "outputs": [],
   "source": [
    "# Inverse regularization parameter - A control variable that retains strength \n",
    "# modification of Regularization by being inversely positioned to the Lambda regulator.\n",
    "\n",
    "# high C = overfit, low C= underfit\n",
    "# want a C value that minimizes the difference b/w train and test accuracy\n",
    "\n",
    "# C = 1/λ"
   ]
  },
  {
   "cell_type": "code",
   "execution_count": 161,
   "metadata": {},
   "outputs": [],
   "source": [
    "# y_hat predicted values\n",
    "y_hat_test_log = logreg.predict(X_test)\n",
    "y_hat_train_log = logreg.predict(X_train)"
   ]
  },
  {
   "cell_type": "markdown",
   "metadata": {},
   "source": [
    "### Evaluate"
   ]
  },
  {
   "cell_type": "code",
   "execution_count": 163,
   "metadata": {},
   "outputs": [
    {
     "name": "stdout",
     "output_type": "stream",
     "text": [
      "Precision Score: 0.42954545454545456\n",
      "Recall Score: 0.6702127659574468\n",
      "Accuracy Score: 0.7386018237082067\n",
      "F1 Score: 0.5235457063711911\n",
      "----------\n",
      "Precision Score: 0.3963963963963964\n",
      "Recall Score: 0.6470588235294118\n",
      "Accuracy Score: 0.7242424242424242\n",
      "F1 Score: 0.4916201117318436\n"
     ]
    }
   ],
   "source": [
    "# metrics\n",
    "print_metrics(y_hat_train_log, y_train)\n",
    "print('----------')\n",
    "print_metrics(y_hat_test_log,y_test)"
   ]
  },
  {
   "cell_type": "code",
   "execution_count": null,
   "metadata": {},
   "outputs": [],
   "source": [
    "# accuracy: things the model classified correctly - this means we are about 6% better than baseline!"
   ]
  },
  {
   "cell_type": "code",
   "execution_count": 164,
   "metadata": {},
   "outputs": [
    {
     "name": "stdout",
     "output_type": "stream",
     "text": [
      "[[195  24]\n",
      " [ 67  44]]\n"
     ]
    }
   ],
   "source": [
    "# confusion matrix\n",
    "cnf_matrix = confusion_matrix(y_test, y_hat_test_log)\n",
    "print(cnf_matrix)"
   ]
  },
  {
   "cell_type": "code",
   "execution_count": 165,
   "metadata": {},
   "outputs": [
    {
     "name": "stdout",
     "output_type": "stream",
     "text": [
      "[[195  24]\n",
      " [ 67  44]]\n"
     ]
    },
    {
     "data": {
      "image/png": "[encoded data removed]",
      "text/plain": [
       "<Figure size 432x288 with 2 Axes>"
      ]
     },
     "metadata": {},
     "output_type": "display_data"
    }
   ],
   "source": [
    "plt.figure()\n",
    "plot_confusion_matrix(cnf_matrix, classes=[0,1],\n",
    "                      title='Normalized confusion matrix')\n",
    "plt.show()"
   ]
  },
  {
   "cell_type": "code",
   "execution_count": null,
   "metadata": {},
   "outputs": [],
   "source": [
    "# TP = 47\n",
    "# TN = 196\n",
    "# FP = 21\n",
    "# FN = 66"
   ]
  },
  {
   "cell_type": "code",
   "execution_count": 157,
   "metadata": {},
   "outputs": [],
   "source": [
    "# ROC/AUC\n",
    "#First calculate the probability scores of each of the datapoints:\n",
    "y_test_score = model_log.decision_function(X_test)\n",
    "\n",
    "fpr, tpr, thresholds = roc_curve(y_test, y_test_score)\n",
    "\n",
    "y_train_score = model_log.decision_function(X_train)\n",
    "\n",
    "train_fpr, train_tpr, thresholds = roc_curve(y_train, y_train_score)"
   ]
  },
  {
   "cell_type": "code",
   "execution_count": 158,
   "metadata": {},
   "outputs": [
    {
     "name": "stdout",
     "output_type": "stream",
     "text": [
      "AUC: 0.7541651240281378\n"
     ]
    },
    {
     "data": {
      "image/png": "[encoded data removed]",
      "text/plain": [
       "<Figure size 720x576 with 1 Axes>"
      ]
     },
     "metadata": {},
     "output_type": "display_data"
    }
   ],
   "source": [
    "plot_AUC_ROC(y_test_score,fpr,tpr)"
   ]
  },
  {
   "cell_type": "markdown",
   "metadata": {},
   "source": [
    "# Model 2: KNN"
   ]
  },
  {
   "cell_type": "code",
   "execution_count": 166,
   "metadata": {},
   "outputs": [],
   "source": [
    "model_KNN = KNeighborsClassifier()\n",
    "model_KNN.fit(X_train, y_train)\n",
    "y_hat_test_KNN = model_KNN.predict(X_test)\n",
    "y_hat_train_KNN = model_KNN.predict(X_train)"
   ]
  },
  {
   "cell_type": "code",
   "execution_count": 167,
   "metadata": {},
   "outputs": [
    {
     "name": "stdout",
     "output_type": "stream",
     "text": [
      "Precision Score: 0.7391304347826086\n",
      "Recall Score: 0.5795454545454546\n",
      "Accuracy Score: 0.791033434650456\n",
      "F1 Score: 0.6496815286624205\n",
      "---------\n",
      "Precision Score: 0.6388888888888888\n",
      "Recall Score: 0.4144144144144144\n",
      "Accuracy Score: 0.7242424242424242\n",
      "F1 Score: 0.5027322404371585\n"
     ]
    }
   ],
   "source": [
    "print_metrics(y_train,y_hat_train_KNN)\n",
    "print(\"---------\")\n",
    "print_metrics(y_test, y_hat_test_KNN)"
   ]
  },
  {
   "cell_type": "code",
   "execution_count": null,
   "metadata": {},
   "outputs": [],
   "source": [
    "# accuracy score went up for train set, but down for test set - let's try to tune our hyperparameters"
   ]
  },
  {
   "cell_type": "code",
   "execution_count": 168,
   "metadata": {},
   "outputs": [
    {
     "name": "stdout",
     "output_type": "stream",
     "text": [
      "Fitting 3 folds for each of 32 candidates, totalling 96 fits\n"
     ]
    },
    {
     "name": "stderr",
     "output_type": "stream",
     "text": [
      "[Parallel(n_jobs=-1)]: Using backend LokyBackend with 4 concurrent workers.\n",
      "[Parallel(n_jobs=-1)]: Done  42 tasks      | elapsed:    5.0s\n",
      "[Parallel(n_jobs=-1)]: Done  96 out of  96 | elapsed:    7.3s finished\n"
     ]
    }
   ],
   "source": [
    "params = {'n_neighbors': [1,3,5,7,9,11,13,15],\n",
    "          'weights':['uniform','distance'],\n",
    "          'metric':['euclidean','manhattan']}\n",
    "gs=GridSearchCV(KNeighborsClassifier(),params,n_jobs=-1, verbose=1, cv=3)\n",
    "gs_results = gs.fit(X_train,y_train)"
   ]
  },
  {
   "cell_type": "code",
   "execution_count": 169,
   "metadata": {},
   "outputs": [
    {
     "name": "stdout",
     "output_type": "stream",
     "text": [
      "{'metric': 'manhattan', 'n_neighbors': 7, 'weights': 'uniform'}\n",
      "0.7112462006079028\n"
     ]
    }
   ],
   "source": [
    "print(gs_results.best_params_)\n",
    "print(gs_results.best_score_)"
   ]
  },
  {
   "cell_type": "code",
   "execution_count": 170,
   "metadata": {},
   "outputs": [],
   "source": [
    "model_KNN = KNeighborsClassifier(metric='manhattan', n_neighbors=7,weights='uniform')\n",
    "model_KNN.fit(X_train, y_train)\n",
    "y_hat_test_KNN2 = model_KNN.predict(X_test)\n",
    "y_hat_train_KNN2 = model_KNN.predict(X_train)"
   ]
  },
  {
   "cell_type": "code",
   "execution_count": 172,
   "metadata": {},
   "outputs": [
    {
     "name": "stdout",
     "output_type": "stream",
     "text": [
      "Precision Score: 0.36036036036036034\n",
      "Recall Score: 0.6349206349206349\n",
      "Accuracy Score: 0.7151515151515152\n",
      "F1 Score: 0.4597701149425287\n"
     ]
    }
   ],
   "source": [
    "print_metrics(y_hat_test_KNN2,y_test)"
   ]
  },
  {
   "cell_type": "code",
   "execution_count": 67,
   "metadata": {},
   "outputs": [
    {
     "name": "stdout",
     "output_type": "stream",
     "text": [
      "[[192  25]\n",
      " [ 74  39]]\n"
     ]
    },
    {
     "data": {
      "image/png": "[encoded data removed]",
      "text/plain": [
       "<Figure size 432x288 with 2 Axes>"
      ]
     },
     "metadata": {},
     "output_type": "display_data"
    }
   ],
   "source": [
    "cnf_matrix = confusion_matrix(y_test, y_hat_test)\n",
    "plt.figure()\n",
    "plot_confusion_matrix(cnf_matrix, classes=[0,1],\n",
    "                      title='Normalized confusion matrix')\n",
    "plt.show()\n",
    "\n",
    "# # KNN seems to perform worse than log reg, despite using grid search to optimize parameters \n",
    "# so let's move on"
   ]
  },
  {
   "cell_type": "code",
   "execution_count": null,
   "metadata": {},
   "outputs": [],
   "source": [
    "# - weights which can be set to either ‘uniform’, where each neighbor \n",
    "# within the boundary carries the same weight or ‘distance’ where closer \n",
    "# points will be more heavily weighted toward the decision. \n",
    "# Note that when weights = 'distance' the class with the highest number in the boundary may not “win the vote”"
   ]
  },
  {
   "cell_type": "markdown",
   "metadata": {},
   "source": [
    "## Model 3: Decision Tree"
   ]
  },
  {
   "cell_type": "code",
   "execution_count": 173,
   "metadata": {},
   "outputs": [],
   "source": [
    "DT_clf= DecisionTreeClassifier()\n",
    "DT_clf.fit(X_train,y_train) \n",
    "y_hat_test_DT = DT_clf.predict(X_test)"
   ]
  },
  {
   "cell_type": "code",
   "execution_count": 174,
   "metadata": {},
   "outputs": [
    {
     "name": "stdout",
     "output_type": "stream",
     "text": [
      "Precision Score: 0.4205607476635514\n",
      "Recall Score: 0.40540540540540543\n",
      "Accuracy Score: 0.6121212121212121\n",
      "F1 Score: 0.41284403669724773\n"
     ]
    }
   ],
   "source": [
    "print_metrics(y_test,y_hat_test_DT) # pretty low accuracy score with default params, let's try Random search!\n",
    "# random search will try a bunch of random values within the range we gave for each parameter\n",
    "# after that, we can use grid search around the values random search says to use!"
   ]
  },
  {
   "cell_type": "code",
   "execution_count": 175,
   "metadata": {},
   "outputs": [],
   "source": [
    "from sklearn.model_selection import RandomizedSearchCV\n",
    "from scipy.stats import randint\n",
    "\n",
    "param_distrib = {\"max_depth\": randint(1, 50),\n",
    "                 \"max_features\": randint(1, 16),\n",
    "                 \"min_samples_leaf\": randint(2, 1000),\n",
    "                 \"min_samples_split\": randint(2, 1000),\n",
    "                }\n",
    "DT_clf = RandomizedSearchCV(DecisionTreeClassifier(), param_distrib, n_iter=500, cv=3)"
   ]
  },
  {
   "cell_type": "code",
   "execution_count": 176,
   "metadata": {},
   "outputs": [
    {
     "data": {
      "text/plain": [
       "RandomizedSearchCV(cv=3, error_score='raise-deprecating',\n",
       "          estimator=DecisionTreeClassifier(class_weight=None, criterion='gini', max_depth=None,\n",
       "            max_features=None, max_leaf_nodes=None,\n",
       "            min_impurity_decrease=0.0, min_impurity_split=None,\n",
       "            min_samples_leaf=1, min_samples_split=2,\n",
       "            min_weight_fraction_leaf=0.0, presort=False, random_state=None,\n",
       "            splitter='best'),\n",
       "          fit_params=None, iid='warn', n_iter=500, n_jobs=None,\n",
       "          param_distributions={'max_depth': <scipy.stats._distn_infrastructure.rv_frozen object at 0x1a26a3b1d0>, 'max_features': <scipy.stats._distn_infrastructure.rv_frozen object at 0x1a26a3b0f0>, 'min_samples_leaf': <scipy.stats._distn_infrastructure.rv_frozen object at 0x1a26e400b8>, 'min_samples_split': <scipy.stats._distn_infrastructure.rv_frozen object at 0x1a26e403c8>},\n",
       "          pre_dispatch='2*n_jobs', random_state=None, refit=True,\n",
       "          return_train_score='warn', scoring=None, verbose=0)"
      ]
     },
     "execution_count": 176,
     "metadata": {},
     "output_type": "execute_result"
    }
   ],
   "source": [
    "DT_clf.fit(X_train,y_train)"
   ]
  },
  {
   "cell_type": "code",
   "execution_count": 177,
   "metadata": {},
   "outputs": [
    {
     "data": {
      "text/plain": [
       "{'max_depth': 22,\n",
       " 'max_features': 12,\n",
       " 'min_samples_leaf': 8,\n",
       " 'min_samples_split': 99}"
      ]
     },
     "execution_count": 177,
     "metadata": {},
     "output_type": "execute_result"
    }
   ],
   "source": [
    "DT_clf.best_params_"
   ]
  },
  {
   "cell_type": "code",
   "execution_count": 178,
   "metadata": {},
   "outputs": [],
   "source": [
    "DT_clf2 = DT_clf.best_estimator_"
   ]
  },
  {
   "cell_type": "code",
   "execution_count": 179,
   "metadata": {},
   "outputs": [
    {
     "data": {
      "text/plain": [
       "DecisionTreeClassifier(class_weight=None, criterion='gini', max_depth=22,\n",
       "            max_features=12, max_leaf_nodes=None,\n",
       "            min_impurity_decrease=0.0, min_impurity_split=None,\n",
       "            min_samples_leaf=8, min_samples_split=99,\n",
       "            min_weight_fraction_leaf=0.0, presort=False, random_state=None,\n",
       "            splitter='best')"
      ]
     },
     "execution_count": 179,
     "metadata": {},
     "output_type": "execute_result"
    }
   ],
   "source": [
    "DT_clf2.fit(X_train,y_train)"
   ]
  },
  {
   "cell_type": "code",
   "execution_count": 180,
   "metadata": {},
   "outputs": [],
   "source": [
    "y_hat_DT = DT_clf2.predict(X_test)"
   ]
  },
  {
   "cell_type": "code",
   "execution_count": 181,
   "metadata": {},
   "outputs": [
    {
     "name": "stdout",
     "output_type": "stream",
     "text": [
      "Precision Score: 0.38738738738738737\n",
      "Recall Score: 0.48863636363636365\n",
      "Accuracy Score: 0.6575757575757576\n",
      "F1 Score: 0.43216080402010054\n"
     ]
    }
   ],
   "source": [
    "print_metrics(y_hat_DT,y_test) #this is a little better!"
   ]
  },
  {
   "cell_type": "code",
   "execution_count": 182,
   "metadata": {},
   "outputs": [
    {
     "name": "stdout",
     "output_type": "stream",
     "text": [
      "Fitting 3 folds for each of 225 candidates, totalling 675 fits\n"
     ]
    },
    {
     "name": "stderr",
     "output_type": "stream",
     "text": [
      "[Parallel(n_jobs=-1)]: Using backend LokyBackend with 4 concurrent workers.\n",
      "[Parallel(n_jobs=-1)]: Done 484 tasks      | elapsed:    1.9s\n",
      "[Parallel(n_jobs=-1)]: Done 675 out of 675 | elapsed:    2.3s finished\n"
     ]
    }
   ],
   "source": [
    "# grid search based on random search params\n",
    "params = {\"max_depth\": [30, 40,50],\n",
    "                 \"max_features\": [10,14,20],\n",
    "                 \"min_samples_leaf\": [160,170,180,190,200],\n",
    "                 \"min_samples_split\": [240,250,260,270,280],\n",
    "                }\n",
    "gs=GridSearchCV(DecisionTreeClassifier(),params,n_jobs=-1, verbose=1, cv=3)\n",
    "gs_results = gs.fit(X_train,y_train)"
   ]
  },
  {
   "cell_type": "code",
   "execution_count": 183,
   "metadata": {},
   "outputs": [
    {
     "data": {
      "text/plain": [
       "{'max_depth': 30,\n",
       " 'max_features': 20,\n",
       " 'min_samples_leaf': 160,\n",
       " 'min_samples_split': 260}"
      ]
     },
     "execution_count": 183,
     "metadata": {},
     "output_type": "execute_result"
    }
   ],
   "source": [
    "gs_results.best_params_"
   ]
  },
  {
   "cell_type": "code",
   "execution_count": 184,
   "metadata": {},
   "outputs": [],
   "source": [
    "DT_clf3 = DecisionTreeClassifier(max_depth=40,max_features=20,min_samples_leaf=170,min_samples_split=420)"
   ]
  },
  {
   "cell_type": "code",
   "execution_count": 185,
   "metadata": {},
   "outputs": [
    {
     "data": {
      "text/plain": [
       "DecisionTreeClassifier(class_weight=None, criterion='gini', max_depth=40,\n",
       "            max_features=20, max_leaf_nodes=None,\n",
       "            min_impurity_decrease=0.0, min_impurity_split=None,\n",
       "            min_samples_leaf=170, min_samples_split=420,\n",
       "            min_weight_fraction_leaf=0.0, presort=False, random_state=None,\n",
       "            splitter='best')"
      ]
     },
     "execution_count": 185,
     "metadata": {},
     "output_type": "execute_result"
    }
   ],
   "source": [
    "DT_clf3.fit(X_train,y_train)"
   ]
  },
  {
   "cell_type": "code",
   "execution_count": 187,
   "metadata": {},
   "outputs": [],
   "source": [
    "y_hat_DT = DT_clf3.predict(X_test)"
   ]
  },
  {
   "cell_type": "code",
   "execution_count": 188,
   "metadata": {},
   "outputs": [
    {
     "name": "stdout",
     "output_type": "stream",
     "text": [
      "Precision Score: 0.24324324324324326\n",
      "Recall Score: 0.54\n",
      "Accuracy Score: 0.6757575757575758\n",
      "F1 Score: 0.33540372670807456\n"
     ]
    }
   ],
   "source": [
    "print_metrics(y_hat_DT,y_test)"
   ]
  },
  {
   "cell_type": "code",
   "execution_count": null,
   "metadata": {},
   "outputs": [],
   "source": [
    "# this model can't do better than the dummy classifier - so decision trees are a no go!"
   ]
  },
  {
   "cell_type": "markdown",
   "metadata": {},
   "source": [
    "## Model 4: Random Forest"
   ]
  },
  {
   "cell_type": "code",
   "execution_count": 189,
   "metadata": {},
   "outputs": [],
   "source": [
    "forest_clf = RandomForestClassifier(n_estimators=100)\n",
    "forest_clf.fit(X_train, y_train)\n",
    "y_hat_test = forest_clf.predict(X_test)"
   ]
  },
  {
   "cell_type": "code",
   "execution_count": 190,
   "metadata": {},
   "outputs": [
    {
     "data": {
      "text/plain": [
       "RandomForestClassifier(bootstrap=True, class_weight=None, criterion='gini',\n",
       "            max_depth=None, max_features='auto', max_leaf_nodes=None,\n",
       "            min_impurity_decrease=0.0, min_impurity_split=None,\n",
       "            min_samples_leaf=1, min_samples_split=2,\n",
       "            min_weight_fraction_leaf=0.0, n_estimators=100, n_jobs=None,\n",
       "            oob_score=False, random_state=None, verbose=0,\n",
       "            warm_start=False)"
      ]
     },
     "execution_count": 190,
     "metadata": {},
     "output_type": "execute_result"
    }
   ],
   "source": [
    "forest_clf"
   ]
  },
  {
   "cell_type": "code",
   "execution_count": 191,
   "metadata": {},
   "outputs": [
    {
     "data": {
      "text/plain": [
       "0.6818181818181818"
      ]
     },
     "execution_count": 191,
     "metadata": {},
     "output_type": "execute_result"
    }
   ],
   "source": [
    "accuracy_score(y_hat_test,y_test)"
   ]
  },
  {
   "cell_type": "code",
   "execution_count": null,
   "metadata": {},
   "outputs": [],
   "source": [
    "# pretty good accuracy score, let's try random search"
   ]
  },
  {
   "cell_type": "code",
   "execution_count": 126,
   "metadata": {},
   "outputs": [],
   "source": [
    "param_distrib = {\"n_estimators\": randint(1,100),\n",
    "                \"max_depth\": randint(1, 50),\n",
    "                 \"max_features\": randint(1, 16),\n",
    "                 \"min_samples_leaf\": randint(2, 1000),\n",
    "                 \"min_samples_split\": randint(2, 1000),\n",
    "                }\n",
    "Forest_clf = RandomizedSearchCV(RandomForestClassifier(), param_distrib, n_iter=500, cv=3)"
   ]
  },
  {
   "cell_type": "code",
   "execution_count": 192,
   "metadata": {},
   "outputs": [
    {
     "data": {
      "text/plain": [
       "RandomizedSearchCV(cv=3, error_score='raise-deprecating',\n",
       "          estimator=RandomForestClassifier(bootstrap=True, class_weight=None, criterion='gini',\n",
       "            max_depth=None, max_features='auto', max_leaf_nodes=None,\n",
       "            min_impurity_decrease=0.0, min_impurity_split=None,\n",
       "            min_samples_leaf=1, min_samples_split=2,\n",
       "            min_weight_fraction_leaf=0.0, n_estimators='warn', n_jobs=None,\n",
       "            oob_score=False, random_state=None, verbose=0,\n",
       "            warm_start=False),\n",
       "          fit_params=None, iid='warn', n_iter=500, n_jobs=None,\n",
       "          param_distributions={'n_estimators': <scipy.stats._distn_infrastructure.rv_frozen object at 0x1a24fa6550>, 'max_depth': <scipy.stats._distn_infrastructure.rv_frozen object at 0x1a24fa6ac8>, 'max_features': <scipy.stats._distn_infrastructure.rv_frozen object at 0x1a24fa6080>, 'min_samples_leaf': <scipy.stats._distn_infrastructure.rv_frozen object at 0x1a2504ce80>, 'min_samples_split': <scipy.stats._distn_infrastructure.rv_frozen object at 0x1a2504ca90>},\n",
       "          pre_dispatch='2*n_jobs', random_state=None, refit=True,\n",
       "          return_train_score='warn', scoring=None, verbose=0)"
      ]
     },
     "execution_count": 192,
     "metadata": {},
     "output_type": "execute_result"
    }
   ],
   "source": [
    "Forest_clf.fit(X_train,y_train)"
   ]
  },
  {
   "cell_type": "code",
   "execution_count": 193,
   "metadata": {},
   "outputs": [
    {
     "data": {
      "text/plain": [
       "{'max_depth': 20,\n",
       " 'max_features': 6,\n",
       " 'min_samples_leaf': 5,\n",
       " 'min_samples_split': 179,\n",
       " 'n_estimators': 61}"
      ]
     },
     "execution_count": 193,
     "metadata": {},
     "output_type": "execute_result"
    }
   ],
   "source": [
    "Forest_clf.best_params_"
   ]
  },
  {
   "cell_type": "code",
   "execution_count": 194,
   "metadata": {},
   "outputs": [
    {
     "data": {
      "text/plain": [
       "0.706060606060606"
      ]
     },
     "execution_count": 194,
     "metadata": {},
     "output_type": "execute_result"
    }
   ],
   "source": [
    "y_hat_forest = Forest_clf.predict(X_test)\n",
    "accuracy_score(y_hat_forest,y_test)"
   ]
  },
  {
   "cell_type": "code",
   "execution_count": null,
   "metadata": {},
   "outputs": [],
   "source": [
    "# accuracy score went down from baseline, let's try grid search with these params/ranges"
   ]
  },
  {
   "cell_type": "code",
   "execution_count": 195,
   "metadata": {},
   "outputs": [
    {
     "data": {
      "text/plain": [
       "GridSearchCV(cv=3, error_score='raise-deprecating',\n",
       "       estimator=RandomForestClassifier(bootstrap=True, class_weight=None, criterion='gini',\n",
       "            max_depth=None, max_features='auto', max_leaf_nodes=None,\n",
       "            min_impurity_decrease=0.0, min_impurity_split=None,\n",
       "            min_samples_leaf=1, min_samples_split=2,\n",
       "            min_weight_fraction_leaf=0.0, n_estimators='warn', n_jobs=None,\n",
       "            oob_score=False, random_state=None, verbose=0,\n",
       "            warm_start=False),\n",
       "       fit_params=None, iid='warn', n_jobs=None,\n",
       "       param_grid={'n_estimators': [40, 45, 50], 'max_depth': [20, 21, 22], 'max_features': [12, 14, 16], 'min_samples_leaf': [5, 6, 7], 'min_samples_split': [350, 360, 370]},\n",
       "       pre_dispatch='2*n_jobs', refit=True, return_train_score='warn',\n",
       "       scoring=None, verbose=0)"
      ]
     },
     "execution_count": 195,
     "metadata": {},
     "output_type": "execute_result"
    }
   ],
   "source": [
    "params = {\"n_estimators\": [40,45,50],\n",
    "                \"max_depth\": [20,21,22],\n",
    "                 \"max_features\": [12,14,16],\n",
    "                 \"min_samples_leaf\": [5,6,7],\n",
    "                 \"min_samples_split\": [350,360,370],\n",
    "                }\n",
    "\n",
    "forest_grid_search = GridSearchCV(RandomForestClassifier(), params, cv=3)\n",
    "forest_grid_search.fit(X_train, y_train)"
   ]
  },
  {
   "cell_type": "code",
   "execution_count": 196,
   "metadata": {},
   "outputs": [
    {
     "data": {
      "text/plain": [
       "{'max_depth': 21,\n",
       " 'max_features': 12,\n",
       " 'min_samples_leaf': 7,\n",
       " 'min_samples_split': 350,\n",
       " 'n_estimators': 45}"
      ]
     },
     "execution_count": 196,
     "metadata": {},
     "output_type": "execute_result"
    }
   ],
   "source": [
    "forest_grid_search.best_params_"
   ]
  },
  {
   "cell_type": "code",
   "execution_count": 197,
   "metadata": {},
   "outputs": [],
   "source": [
    "forest_clf_2 = forest_grid_search.best_estimator_"
   ]
  },
  {
   "cell_type": "code",
   "execution_count": 198,
   "metadata": {},
   "outputs": [
    {
     "data": {
      "text/plain": [
       "RandomForestClassifier(bootstrap=True, class_weight=None, criterion='gini',\n",
       "            max_depth=21, max_features=12, max_leaf_nodes=None,\n",
       "            min_impurity_decrease=0.0, min_impurity_split=None,\n",
       "            min_samples_leaf=7, min_samples_split=350,\n",
       "            min_weight_fraction_leaf=0.0, n_estimators=45, n_jobs=None,\n",
       "            oob_score=False, random_state=None, verbose=0,\n",
       "            warm_start=False)"
      ]
     },
     "execution_count": 198,
     "metadata": {},
     "output_type": "execute_result"
    }
   ],
   "source": [
    "forest_clf_2.fit(X_train,y_train)"
   ]
  },
  {
   "cell_type": "code",
   "execution_count": 199,
   "metadata": {},
   "outputs": [],
   "source": [
    "y_hat_forest2 = forest_clf_2.predict(X_test)"
   ]
  },
  {
   "cell_type": "code",
   "execution_count": 200,
   "metadata": {},
   "outputs": [
    {
     "data": {
      "text/plain": [
       "0.6878787878787879"
      ]
     },
     "execution_count": 200,
     "metadata": {},
     "output_type": "execute_result"
    }
   ],
   "source": [
    "accuracy_score(y_hat_forest2,y_test)"
   ]
  },
  {
   "cell_type": "code",
   "execution_count": null,
   "metadata": {},
   "outputs": [],
   "source": [
    "# go back to try baseline and fine tuning those parameters "
   ]
  },
  {
   "cell_type": "code",
   "execution_count": 206,
   "metadata": {},
   "outputs": [
    {
     "data": {
      "image/png": "[encoded data removed]",
      "text/plain": [
       "<Figure size 1152x864 with 1 Axes>"
      ]
     },
     "metadata": {},
     "output_type": "display_data"
    }
   ],
   "source": [
    "plot_feature_importance(forest_clf_2,X_train,n=44)"
   ]
  },
  {
   "cell_type": "markdown",
   "metadata": {},
   "source": [
    "## Model 5: XGBoost"
   ]
  },
  {
   "cell_type": "code",
   "execution_count": 207,
   "metadata": {},
   "outputs": [
    {
     "name": "stdout",
     "output_type": "stream",
     "text": [
      "Training Accuracy: 77.51%\n",
      "Validation accuracy: 71.21%\n"
     ]
    }
   ],
   "source": [
    "clf = xgb.XGBClassifier()\n",
    "clf.fit(X_train, y_train)\n",
    "y_hat_train = clf.predict(X_train)\n",
    "y_hat_test = clf.predict(X_test)\n",
    "training_accuracy = accuracy_score(y_train, y_hat_train)\n",
    "val_accuracy = accuracy_score(y_test, y_hat_test)\n",
    "\n",
    "print(\"Training Accuracy: {:.4}%\".format(training_accuracy * 100))\n",
    "print(\"Validation accuracy: {:.4}%\".format(val_accuracy * 100))"
   ]
  },
  {
   "cell_type": "code",
   "execution_count": 210,
   "metadata": {},
   "outputs": [],
   "source": [
    "param_grid = {\n",
    "    \"learning_rate\": [0.1],\n",
    "    'max_depth': [6],\n",
    "    'min_child_weight': [10],\n",
    "    'subsample': [ 0.7],\n",
    "    'n_estimators': [5, 30, 100, 250],\n",
    "}"
   ]
  },
  {
   "cell_type": "code",
   "execution_count": 211,
   "metadata": {},
   "outputs": [
    {
     "name": "stdout",
     "output_type": "stream",
     "text": [
      "Grid Search found the following optimal parameters: \n",
      "learning_rate: 0.1\n",
      "max_depth: 6\n",
      "min_child_weight: 10\n",
      "n_estimators: 30\n",
      "subsample: 0.7\n",
      "\n",
      "Training Accuracy: 73.63%\n",
      "Validation accuracy: 70.91%\n"
     ]
    }
   ],
   "source": [
    "grid_clf = GridSearchCV(clf, param_grid, scoring='accuracy', cv=3, n_jobs=1)\n",
    "grid_clf.fit(X_train, y_train)\n",
    "\n",
    "best_parameters = grid_clf.best_params_\n",
    "\n",
    "print(\"Grid Search found the following optimal parameters: \")\n",
    "for param_name in sorted(best_parameters.keys()):\n",
    "    print(\"%s: %r\" % (param_name, best_parameters[param_name]))\n",
    "\n",
    "training_preds = grid_clf.predict(X_train)\n",
    "val_preds = grid_clf.predict(X_test)\n",
    "training_accuracy = accuracy_score(y_train, training_preds)\n",
    "val_accuracy = accuracy_score(y_test, val_preds)\n",
    "\n",
    "print(\"\")\n",
    "print(\"Training Accuracy: {:.4}%\".format(training_accuracy * 100))\n",
    "print(\"Validation accuracy: {:.4}%\".format(val_accuracy * 100))"
   ]
  },
  {
   "cell_type": "code",
   "execution_count": null,
   "metadata": {},
   "outputs": [],
   "source": []
  }
 ],
 "metadata": {
  "kernelspec": {
   "display_name": "Python 3",
   "language": "python",
   "name": "python3"
  },
  "language_info": {
   "codemirror_mode": {
    "name": "ipython",
    "version": 3
   },
   "file_extension": ".py",
   "mimetype": "text/x-python",
   "name": "python",
   "nbconvert_exporter": "python",
   "pygments_lexer": "ipython3",
   "version": "3.7.3"
  }
 },
 "nbformat": 4,
 "nbformat_minor": 2
}

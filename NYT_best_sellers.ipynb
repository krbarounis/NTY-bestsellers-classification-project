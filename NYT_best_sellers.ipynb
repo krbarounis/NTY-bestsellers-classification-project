{
 "cells": [
  {
   "cell_type": "markdown",
   "metadata": {},
   "source": [
    "# NYT API calls & Goodreads scraping for features"
   ]
  },
  {
   "cell_type": "markdown",
   "metadata": {},
   "source": [
    "This notebook uses the NYT API to collect a set of NYT bestsellers between 2017 and the present. \n",
    "It also scrapes Goodreads for features of the collected NYT bestsellers."
   ]
  },
  {
   "cell_type": "code",
   "execution_count": null,
   "metadata": {},
   "outputs": [],
   "source": [
    "import requests\n",
    "import time\n",
    "import config\n",
    "import json\n",
    "from bs4 import BeautifulSoup as bs\n",
    "from selenium import webdriver\n",
    "from selenium.webdriver.common.keys import Keys\n",
    "import Goodreads_helper_functions as good"
   ]
  },
  {
   "cell_type": "markdown",
   "metadata": {},
   "source": [
    "## Call NYT API for best sellers"
   ]
  },
  {
   "cell_type": "code",
   "execution_count": null,
   "metadata": {},
   "outputs": [],
   "source": [
    "# create an empty list as a global variable in the case that an error is returned by the API\n",
    "# so that the data already returned by the API is not lost\n",
    "\n",
    "all_best_sellers = []\n",
    "\n",
    "def get_books():\n",
    "    \"\"\"\n",
    "    get_books():\n",
    "    Function returns a list of New York Times bestsellers\n",
    "    Params:\n",
    "        None\n",
    "    Returns:\n",
    "        List of dictionaries describing bestselling books\n",
    "    \"\"\"\n",
    "    # offset the pages by multiples of 20\n",
    "    for i in range(0, 32326, 20):\n",
    "        params = {'api-key': config.NYT_api_key,\n",
    "                 'offset': i}\n",
    "        url = 'https://api.nytimes.com/svc/books/v3/lists/best-sellers/history.json'\n",
    "        response = requests.get(url, params = params)\n",
    "        data = response.json()\n",
    "        \n",
    "        # create dict to hold data for each book\n",
    "        all_best_sellers_dict = {}\n",
    "       \n",
    "        for book in data['results']:\n",
    "            try:\n",
    "\n",
    "                all_best_sellers_dict['title'] = book['title']\n",
    "                all_best_sellers_dict['author'] = book['author']\n",
    "                all_best_sellers_dict['publisher'] = book['publisher']\n",
    "                all_best_sellers_dict['ISBN'] = book['isbns']\n",
    "                all_best_sellers_dict['publish_date'] = book['ranks_history'][0]['published_date']\n",
    "\n",
    "                # add the dictionary to master list\n",
    "\n",
    "                all_best_sellers.append(all_best_sellers_dict)\n",
    "\n",
    "            except IndexError:\n",
    "                continue\n",
    "\n",
    "        # print what page we are on for auditing purposes\n",
    "        print(i)\n",
    "        \n",
    "        # wait so we don't hit the API's per minute call limit\n",
    "        time.sleep(6)\n",
    "            \n",
    "    return True"
   ]
  },
  {
   "cell_type": "code",
   "execution_count": null,
   "metadata": {},
   "outputs": [],
   "source": [
    "# call the function\n",
    "get_books()"
   ]
  },
  {
   "cell_type": "code",
   "execution_count": null,
   "metadata": {},
   "outputs": [],
   "source": [
    "# save the data for backup purposes\n",
    "with open('NYT_books.json', 'w') as datafile:\n",
    "    json.dump(all_best_sellers, datafile)"
   ]
  },
  {
   "cell_type": "code",
   "execution_count": null,
   "metadata": {},
   "outputs": [],
   "source": [
    "# this function retrieves the ISBNs from the list returned by the API call above\n",
    "def get_NYT_ISBNS(data):\n",
    "    \"\"\"\n",
    "    get_NYT_ISBNS():\n",
    "    Function returns a list of ISBNs from the list of NYT bestsellers between 2017 and the present\n",
    "    Params:\n",
    "        data: list of dictionaries describing each book from the NYT API call\n",
    "    Returns:\n",
    "        List of ISBNs for each NYT bestseller\n",
    "    \"\"\"\n",
    "    ISBNs = []\n",
    "    years = ['2019','2018','2017']\n",
    "    for book in data:\n",
    "        # only append the ISBN if the book was on a NYT bestseller list between 2017 and 2019\n",
    "        if any(x in book['publish_date'] for x in years):\n",
    "            try: \n",
    "                ISBN = book['ISBN'][0]['isbn13']\n",
    "                ISBNs.append(ISBN)\n",
    "            except IndexError:\n",
    "                continue\n",
    "    return ISBNs"
   ]
  },
  {
   "cell_type": "code",
   "execution_count": null,
   "metadata": {},
   "outputs": [],
   "source": [
    "# call the function\n",
    "ISBNs = get_NYT_ISBNS(all_best_sellers)"
   ]
  },
  {
   "cell_type": "markdown",
   "metadata": {},
   "source": [
    "## Scrape goodreads for data on NYT bestsellers"
   ]
  },
  {
   "cell_type": "code",
   "execution_count": null,
   "metadata": {},
   "outputs": [],
   "source": [
    "# set preferences for selenium\n",
    "driver_options = webdriver.chrome.options.Options()\n",
    "prefs = {\"profile.managed_default_content_settings.images\": 2}\n",
    "driver_options.add_experimental_option(\"prefs\", prefs)\n",
    "driver = webdriver.Chrome(options=driver_options)"
   ]
  },
  {
   "cell_type": "code",
   "execution_count": null,
   "metadata": {},
   "outputs": [],
   "source": [
    "# this function takes in a list of ISBNs that were gathered from the NYT API \n",
    "# and returns a list of dictionaries, where each dictionary reflects data \n",
    "# about the NYT bestseller\n",
    "\n",
    "list_of_NYT_books = []\n",
    "\n",
    "def get_NYTbook_info(ISBNs):\n",
    "    \"\"\"\n",
    "    get_NYTbook_info():\n",
    "    Function returns a list of dictionaries with features describing each NYT bestseller\n",
    "    Params:\n",
    "        ISBNs: list of ISBNs for each NYT bestseller\n",
    "    Returns:\n",
    "        List of dictionaries describing bestselling books\n",
    "    \"\"\"\n",
    "\n",
    "    for ISBN in ISBNs:\n",
    "        \n",
    "        # log into goodreads website \n",
    "        driver.get('https://www.goodreads.com/')\n",
    "        \n",
    "        # wait for website to load\n",
    "        time.sleep(2)\n",
    "        driver.find_element_by_id('userSignInFormEmail').send_keys(config.email_address)\n",
    "        driver.find_element_by_id('user_password').send_keys(config.pw, Keys.ENTER)\n",
    "        time.sleep(2)\n",
    "        \n",
    "        try:\n",
    "            # get the webpage for each ISBN \n",
    "            driver.find_element_by_xpath('/html/body/div[4]/main/div[1]/section[1]/div/div/footer/div[1]/div/form/input').send_keys(ISBN,Keys.ENTER)\n",
    "            time.sleep(2) \n",
    "\n",
    "            # grab the current url to scrape\n",
    "            url = driver.current_url\n",
    "            \n",
    "        # Beautiful soup to scrape each book page for features\n",
    "            html_page = requests.get(url)\n",
    "            soup = bs(html_page.content, 'html.parser')\n",
    "\n",
    "            book_dict = {}\n",
    "\n",
    "            book_dict['title'] = good.get_title(soup)\n",
    "            book_dict['ISBN'] = ISBN\n",
    "            book_dict['author'] = good.get_author(soup)\n",
    "            book_dict['series'] = good.get_series(soup)\n",
    "            book_dict['genre'] = good.get_genre(soup)\n",
    "            book_dict['rating'] = good.get_rating(soup)\n",
    "            book_dict['publish_date'] = good.get_publish_date(soup)\n",
    "            book_dict['publish_company'] = good.get_publishing_company(soup)\n",
    "            book_dict['number_of_pages'] = good.get_pages(soup)\n",
    "            book_dict['format'] = good.get_format(soup)\n",
    "\n",
    "            list_of_NYT_books.append(book_dict)\n",
    "\n",
    "        except AttributeError:\n",
    "            continue\n",
    "        \n",
    "        time.sleep(2)\n",
    "        \n",
    "    return True"
   ]
  },
  {
   "cell_type": "code",
   "execution_count": null,
   "metadata": {},
   "outputs": [],
   "source": [
    "# call the function\n",
    "get_NYTbook_info(ISBNs)"
   ]
  },
  {
   "cell_type": "code",
   "execution_count": null,
   "metadata": {},
   "outputs": [],
   "source": [
    "# save the data\n",
    "with open('list_of_NYT_books.json','w') as datafile:\n",
    "    json.dump(list_of_NYT_books, datafile)"
   ]
  }
 ],
 "metadata": {
  "kernelspec": {
   "display_name": "Python 3",
   "language": "python",
   "name": "python3"
  },
  "language_info": {
   "codemirror_mode": {
    "name": "ipython",
    "version": 3
   },
   "file_extension": ".py",
   "mimetype": "text/x-python",
   "name": "python",
   "nbconvert_exporter": "python",
   "pygments_lexer": "ipython3",
   "version": "3.7.3"
  }
 },
 "nbformat": 4,
 "nbformat_minor": 2
}

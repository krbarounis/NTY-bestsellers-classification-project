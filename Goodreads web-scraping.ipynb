{
 "cells": [
  {
   "cell_type": "code",
   "execution_count": null,
   "metadata": {},
   "outputs": [],
   "source": [
    "# first step - what are the features I will have?\n",
    "\n",
    "# 1. publisher\n",
    "# 2. rating\n",
    "# 3. pages\n",
    "# 4. genre\n",
    "# 6. format\n",
    "# 7. month of year\n",
    "# 8. part of series\n",
    "# 9. price?\n",
    "# 10.\n",
    "\n",
    "'API_key = LyhSNPlfr9EWHcxlIbxt0Q'\n"
   ]
  },
  {
   "cell_type": "code",
   "execution_count": null,
   "metadata": {},
   "outputs": [],
   "source": [
    "# for the features missing in NYT bestsellers, use goodreads API and list of ISBNs to get those features"
   ]
  },
  {
   "cell_type": "code",
   "execution_count": null,
   "metadata": {},
   "outputs": [],
   "source": [
    "# pseudo code\n",
    "\n",
    "NYT_book_features = []\n",
    "for ISBN in list of ISBNs:\n",
    "    params = {'q': ISBN}\n",
    "    url = 'https://www.goodreads.com/search/index.xml'\n",
    "    response = requests.get(url)\n",
    "    data = response.json()\n",
    "    NYT_book_features.append(data)\n",
    "    "
   ]
  },
  {
   "cell_type": "code",
   "execution_count": null,
   "metadata": {},
   "outputs": [],
   "source": [
    "params = {'q': ISBN}\n",
    "url = 'https://www.goodreads.com/search/index.xml'\n",
    "response = requests.get(url)"
   ]
  },
  {
   "cell_type": "code",
   "execution_count": null,
   "metadata": {},
   "outputs": [],
   "source": [
    "# scraping Goodreads"
   ]
  },
  {
   "cell_type": "code",
   "execution_count": 1,
   "metadata": {},
   "outputs": [],
   "source": [
    "from bs4 import BeautifulSoup as bs\n",
    "import requests\n",
    "import urllib.request"
   ]
  },
  {
   "cell_type": "code",
   "execution_count": null,
   "metadata": {},
   "outputs": [],
   "source": [
    "# get urls for 2019, 2018, 2017\n",
    "# then run get book info on every url in those lists"
   ]
  },
  {
   "cell_type": "code",
   "execution_count": 2,
   "metadata": {},
   "outputs": [],
   "source": [
    "# function that gets each book's respective URL from master list\n",
    "def get_book_urls(url):\n",
    "    \n",
    "    urls = []\n",
    "    \n",
    "    # go through each page\n",
    "    for i in range(1,20):\n",
    "        new_url = str(url) + f'?page={i}'\n",
    "        open_url = urllib.request.urlopen(new_url)\n",
    "        soup = bs(open_url, 'html.parser')\n",
    "        soups = soup.find_all('div', {\"data-resource-type\":\"Book\"})\n",
    "\n",
    "    # iterate through each book on this page and grab its url\n",
    "        for i in range(len(soups)):\n",
    "            urls.append('https://goodreads.com' + soups[i].a['href'])\n",
    "\n",
    "    return urls"
   ]
  },
  {
   "cell_type": "code",
   "execution_count": 19,
   "metadata": {
    "collapsed": true
   },
   "outputs": [
    {
     "ename": "NameError",
     "evalue": "name 'list_of_book_dicts' is not defined",
     "output_type": "error",
     "traceback": [
      "\u001b[0;31m---------------------------------------------------------------------------\u001b[0m",
      "\u001b[0;31mNameError\u001b[0m                                 Traceback (most recent call last)",
      "\u001b[0;32m<ipython-input-19-177440200b82>\u001b[0m in \u001b[0;36m<module>\u001b[0;34m\u001b[0m\n\u001b[1;32m      2\u001b[0m \u001b[0mlist_of_book_dicts_2019\u001b[0m \u001b[0;34m=\u001b[0m\u001b[0;34m[\u001b[0m\u001b[0;34m]\u001b[0m\u001b[0;34m\u001b[0m\u001b[0;34m\u001b[0m\u001b[0m\n\u001b[1;32m      3\u001b[0m \u001b[0;32mfor\u001b[0m \u001b[0murl\u001b[0m \u001b[0;32min\u001b[0m \u001b[0murls_2019\u001b[0m\u001b[0;34m:\u001b[0m\u001b[0;34m\u001b[0m\u001b[0;34m\u001b[0m\u001b[0m\n\u001b[0;32m----> 4\u001b[0;31m     \u001b[0mlist_of_book_dicts\u001b[0m\u001b[0;34m.\u001b[0m\u001b[0mappend\u001b[0m\u001b[0;34m(\u001b[0m\u001b[0mget_book_info\u001b[0m\u001b[0;34m(\u001b[0m\u001b[0murl\u001b[0m\u001b[0;34m)\u001b[0m\u001b[0;34m)\u001b[0m\u001b[0;34m\u001b[0m\u001b[0;34m\u001b[0m\u001b[0m\n\u001b[0m",
      "\u001b[0;31mNameError\u001b[0m: name 'list_of_book_dicts' is not defined"
     ]
    }
   ],
   "source": [
    "urls_2019 = get_book_urls('https://www.goodreads.com/list/show/131403.Best_Books_of_2019')"
   ]
  },
  {
   "cell_type": "code",
   "execution_count": 42,
   "metadata": {},
   "outputs": [
    {
     "name": "stdout",
     "output_type": "stream",
     "text": [
      "https://goodreads.com/book/show/26032887-the-wicked-king\n",
      "https://goodreads.com/book/show/40597810-daisy-jones-the-six\n",
      "https://goodreads.com/book/show/40097951-the-silent-patient\n",
      "https://goodreads.com/book/show/41450662-the-kiss-thief\n",
      "https://goodreads.com/book/show/36621586-the-winter-of-the-witch\n",
      "https://goodreads.com/book/show/36307634-king-of-scars\n",
      "https://goodreads.com/book/show/41150487-red-white-royal-blue\n",
      "https://goodreads.com/book/show/34313931-a-woman-is-no-man\n",
      "https://goodreads.com/book/show/40591258-i-think-you-re-wrong-but-i-m-listening\n",
      "https://goodreads.com/book/show/40538657-the-island-of-sea-women\n",
      "https://goodreads.com/book/show/39338454-the-bride-test\n",
      "https://goodreads.com/book/show/38376046-the-huntress\n",
      "https://goodreads.com/book/show/42201431-the-unhoneymooners\n",
      "https://goodreads.com/book/show/35887567-on-the-come-up\n",
      "https://goodreads.com/book/show/29774026-the-priory-of-the-orange-tree\n",
      "https://goodreads.com/book/show/40390756-before-she-knew-him\n",
      "https://goodreads.com/book/show/38244358-in-an-absent-dream\n",
      "https://goodreads.com/book/show/39863515-an-anonymous-girl\n",
      "https://goodreads.com/book/show/37712577-sweep-of-the-blade\n",
      "https://goodreads.com/book/show/40988979-lost-roses\n",
      "https://goodreads.com/book/show/42046112-recursion\n",
      "https://goodreads.com/book/show/40964190-finding-dorothy\n",
      "https://goodreads.com/book/show/40524312-black-leopard-red-wolf\n",
      "https://goodreads.com/book/show/34409176-the-dreamers\n",
      "https://goodreads.com/book/show/40381392-finale\n",
      "https://goodreads.com/book/show/42201996-ask-again-yes\n",
      "https://goodreads.com/book/show/40121959-miracle-creek\n",
      "https://goodreads.com/book/show/39855052-the-kingdom-of-copper\n",
      "https://goodreads.com/book/show/25026912-storm-cursed\n",
      "https://goodreads.com/book/show/40545956-where-the-forest-meets-the-stars\n",
      "https://goodreads.com/book/show/36117813-the-girl-he-used-to-know\n",
      "https://goodreads.com/book/show/39863464-when-all-is-said\n",
      "https://goodreads.com/book/show/43501985-playing-with-demons\n",
      "https://goodreads.com/book/show/43204703-a-curse-so-dark-and-lonely\n",
      "https://goodreads.com/book/show/39863498-the-gilded-wolves\n",
      "https://goodreads.com/book/show/36586697-queenie\n",
      "https://goodreads.com/book/show/41150382-things-you-save-in-a-fire\n",
      "https://goodreads.com/book/show/39709060-pretty-reckless\n",
      "https://goodreads.com/book/show/28335698-tiamat-s-wrath\n",
      "https://goodreads.com/book/show/41716679-searching-for-sylvie-lee\n",
      "https://goodreads.com/book/show/39816076-the-lost-girls-of-paris\n",
      "https://goodreads.com/book/show/40702156-i-owe-you-one\n",
      "https://goodreads.com/book/show/39324901-the-girls-at-17-swann-street\n",
      "https://goodreads.com/book/show/40665292-until-the-mountains-fall\n",
      "https://goodreads.com/book/show/36962927-the-night-olivia-fell\n",
      "https://goodreads.com/book/show/37570546-maybe-you-should-talk-to-someone\n",
      "https://goodreads.com/book/show/41837243-lock-every-door\n",
      "https://goodreads.com/book/show/43844754-shattered-stars\n"
     ]
    },
    {
     "ename": "AttributeError",
     "evalue": "'NoneType' object has no attribute 'get_text'",
     "output_type": "error",
     "traceback": [
      "\u001b[0;31m---------------------------------------------------------------------------\u001b[0m",
      "\u001b[0;31mAttributeError\u001b[0m                            Traceback (most recent call last)",
      "\u001b[0;32m<ipython-input-42-4ccdb588f0ac>\u001b[0m in \u001b[0;36m<module>\u001b[0;34m\u001b[0m\n\u001b[1;32m      2\u001b[0m \u001b[0;32mfor\u001b[0m \u001b[0murl\u001b[0m \u001b[0;32min\u001b[0m \u001b[0murls_2019\u001b[0m\u001b[0;34m:\u001b[0m\u001b[0;34m\u001b[0m\u001b[0;34m\u001b[0m\u001b[0m\n\u001b[1;32m      3\u001b[0m     \u001b[0mprint\u001b[0m\u001b[0;34m(\u001b[0m\u001b[0murl\u001b[0m\u001b[0;34m)\u001b[0m\u001b[0;34m\u001b[0m\u001b[0;34m\u001b[0m\u001b[0m\n\u001b[0;32m----> 4\u001b[0;31m     \u001b[0mlist_of_book_dicts_2019\u001b[0m\u001b[0;34m.\u001b[0m\u001b[0mappend\u001b[0m\u001b[0;34m(\u001b[0m\u001b[0mget_book_info\u001b[0m\u001b[0;34m(\u001b[0m\u001b[0murl\u001b[0m\u001b[0;34m)\u001b[0m\u001b[0;34m)\u001b[0m\u001b[0;34m\u001b[0m\u001b[0;34m\u001b[0m\u001b[0m\n\u001b[0m\u001b[1;32m      5\u001b[0m \u001b[0;34m\u001b[0m\u001b[0m\n",
      "\u001b[0;32m<ipython-input-31-7c631e8ac3d7>\u001b[0m in \u001b[0;36mget_book_info\u001b[0;34m(book_url)\u001b[0m\n\u001b[1;32m     14\u001b[0m     \u001b[0mbook_dict\u001b[0m\u001b[0;34m[\u001b[0m\u001b[0;34m'publish_company'\u001b[0m\u001b[0;34m]\u001b[0m \u001b[0;34m=\u001b[0m \u001b[0mget_publishing_company\u001b[0m\u001b[0;34m(\u001b[0m\u001b[0msoup\u001b[0m\u001b[0;34m)\u001b[0m\u001b[0;34m\u001b[0m\u001b[0;34m\u001b[0m\u001b[0m\n\u001b[1;32m     15\u001b[0m     \u001b[0mbook_dict\u001b[0m\u001b[0;34m[\u001b[0m\u001b[0;34m'number_of_pages'\u001b[0m\u001b[0;34m]\u001b[0m \u001b[0;34m=\u001b[0m \u001b[0mget_pages\u001b[0m\u001b[0;34m(\u001b[0m\u001b[0msoup\u001b[0m\u001b[0;34m)\u001b[0m\u001b[0;34m\u001b[0m\u001b[0;34m\u001b[0m\u001b[0m\n\u001b[0;32m---> 16\u001b[0;31m     \u001b[0mbook_dict\u001b[0m\u001b[0;34m[\u001b[0m\u001b[0;34m'format'\u001b[0m\u001b[0;34m]\u001b[0m \u001b[0;34m=\u001b[0m \u001b[0mget_format\u001b[0m\u001b[0;34m(\u001b[0m\u001b[0msoup\u001b[0m\u001b[0;34m)\u001b[0m\u001b[0;34m\u001b[0m\u001b[0;34m\u001b[0m\u001b[0m\n\u001b[0m\u001b[1;32m     17\u001b[0m \u001b[0;34m\u001b[0m\u001b[0m\n\u001b[1;32m     18\u001b[0m     \u001b[0;32mreturn\u001b[0m \u001b[0mbook_dict\u001b[0m\u001b[0;34m\u001b[0m\u001b[0;34m\u001b[0m\u001b[0m\n",
      "\u001b[0;32m<ipython-input-30-796851eb4888>\u001b[0m in \u001b[0;36mget_format\u001b[0;34m(soup)\u001b[0m\n\u001b[1;32m      1\u001b[0m \u001b[0;32mdef\u001b[0m \u001b[0mget_format\u001b[0m\u001b[0;34m(\u001b[0m\u001b[0msoup\u001b[0m\u001b[0;34m)\u001b[0m\u001b[0;34m:\u001b[0m\u001b[0;34m\u001b[0m\u001b[0;34m\u001b[0m\u001b[0m\n\u001b[0;32m----> 2\u001b[0;31m     \u001b[0mbook_format\u001b[0m \u001b[0;34m=\u001b[0m \u001b[0msoup\u001b[0m\u001b[0;34m.\u001b[0m\u001b[0mfind\u001b[0m\u001b[0;34m(\u001b[0m\u001b[0;34m'span'\u001b[0m\u001b[0;34m,\u001b[0m\u001b[0mitemprop\u001b[0m \u001b[0;34m=\u001b[0m \u001b[0;34m'bookFormat'\u001b[0m\u001b[0;34m)\u001b[0m\u001b[0;34m.\u001b[0m\u001b[0mget_text\u001b[0m\u001b[0;34m(\u001b[0m\u001b[0;34m)\u001b[0m\u001b[0;34m\u001b[0m\u001b[0;34m\u001b[0m\u001b[0m\n\u001b[0m\u001b[1;32m      3\u001b[0m     \u001b[0;32mreturn\u001b[0m \u001b[0mbook_format\u001b[0m\u001b[0;34m\u001b[0m\u001b[0;34m\u001b[0m\u001b[0m\n",
      "\u001b[0;31mAttributeError\u001b[0m: 'NoneType' object has no attribute 'get_text'"
     ]
    }
   ],
   "source": [
    "list_of_book_dicts_2019 =[]\n",
    "for url in urls_2019:\n",
    "    print(url)\n",
    "    list_of_book_dicts_2019.append(get_book_info(url))\n",
    "    "
   ]
  },
  {
   "cell_type": "code",
   "execution_count": null,
   "metadata": {},
   "outputs": [],
   "source": [
    "import json\n",
    "with open('books_2019.json','w') as book_file:\n",
    "    json.dump(list_of_book_dicts_2019, book_file)"
   ]
  },
  {
   "cell_type": "code",
   "execution_count": null,
   "metadata": {},
   "outputs": [],
   "source": [
    "urls_2018 = get_book_urls()\n",
    "list_of_book_dicts_2018 =[]\n",
    "for url in urls_2018:\n",
    "    list_of_book_dicts.append(get_book_info(url))"
   ]
  },
  {
   "cell_type": "code",
   "execution_count": null,
   "metadata": {},
   "outputs": [],
   "source": [
    "with open('books_2018.json','w') as book_file:\n",
    "    json.dump(list_of_book_dicts_2018, book_file)"
   ]
  },
  {
   "cell_type": "code",
   "execution_count": null,
   "metadata": {},
   "outputs": [],
   "source": [
    "urls_2017 = get_book_urls()\n",
    "list_of_book_dicts_2017 =[]\n",
    "for url in urls_2017:\n",
    "    list_of_book_dicts.append(get_book_info(url))"
   ]
  },
  {
   "cell_type": "code",
   "execution_count": null,
   "metadata": {},
   "outputs": [],
   "source": [
    "with open('books_2017.json','w') as book_file:\n",
    "    json.dump(list_of_book_dicts_2017, book_file)"
   ]
  },
  {
   "cell_type": "code",
   "execution_count": 31,
   "metadata": {},
   "outputs": [],
   "source": [
    "def get_book_info(book_url):\n",
    "    html_page = requests.get(book_url)\n",
    "    soup = bs(html_page.content, 'html.parser')\n",
    "    \n",
    "    book_dict = {}\n",
    "    \n",
    "    book_dict['title'] = get_title(soup)\n",
    "    book_dict['ISBN'] = get_ISBN(soup)\n",
    "    book_dict['author'] = get_author(soup)\n",
    "    book_dict['series'] = get_series(soup)\n",
    "    book_dict['genre'] = get_genre(soup)\n",
    "    book_dict['rating'] = get_rating(soup)\n",
    "    book_dict['publish_date'] = get_publish_date(soup)\n",
    "    book_dict['publish_company'] = get_publishing_company(soup)\n",
    "    book_dict['number_of_pages'] = get_pages(soup)\n",
    "    book_dict['format'] = get_format(soup)\n",
    "    \n",
    "    return book_dict"
   ]
  },
  {
   "cell_type": "code",
   "execution_count": 23,
   "metadata": {},
   "outputs": [
    {
     "data": {
      "text/plain": [
       "{'title': ' The Wicked King ',\n",
       " 'ISBN': '9780316310338',\n",
       " 'author': 'Holly Black',\n",
       " 'series': ' The Folk of the Air #2 ',\n",
       " 'genre': 'fantasy',\n",
       " 'rating': '4.46',\n",
       " 'publish_date': 'January 8th 2019',\n",
       " 'publish_company': 'Little, Brown Books for Young Readers',\n",
       " 'number_of_pages': '336',\n",
       " 'format': 'ebook'}"
      ]
     },
     "execution_count": 23,
     "metadata": {},
     "output_type": "execute_result"
    }
   ],
   "source": [
    "get_book_info('https://www.goodreads.com/book/show/26032887-the-wicked-king')"
   ]
  },
  {
   "cell_type": "code",
   "execution_count": 4,
   "metadata": {},
   "outputs": [],
   "source": [
    "def get_title(soup):\n",
    "    title = soup.find('h1',{'id':'bookTitle'}).get_text()\n",
    "    clean_title = title.replace(\"\\n\",\" \").replace(\"  \", \"\")\n",
    "    return clean_title"
   ]
  },
  {
   "cell_type": "code",
   "execution_count": 37,
   "metadata": {},
   "outputs": [],
   "source": [
    "def get_ISBN(soup):\n",
    "    ISBN = soup.find_all('div',class_='infoBoxRowItem')[1].get_text()\n",
    "    try:\n",
    "        clean_ISBN = ISBN.replace(\"\\n\",\" \").replace(\"\\n\",\" \").replace(\" \", \"\").split(\"(\")[1].replace(\")\",\"\").replace(\"ISBN13:\",\"\")\n",
    "    except IndexError:\n",
    "        clean_ISBN = \"\"\n",
    "    return clean_ISBN"
   ]
  },
  {
   "cell_type": "code",
   "execution_count": 6,
   "metadata": {},
   "outputs": [],
   "source": [
    "def get_author(soup):\n",
    "    author = soup.find('span', itemprop='name').get_text()\n",
    "    return author"
   ]
  },
  {
   "cell_type": "code",
   "execution_count": 7,
   "metadata": {},
   "outputs": [],
   "source": [
    "def get_series(soup):\n",
    "    series = soup.find('a',class_='greyText').get_text()\n",
    "    clean_series = series.replace(\"\\n\",\" \").replace(\"  \", \"\").replace(\"(\",\"\").replace(\")\",\"\")\n",
    "    return clean_series"
   ]
  },
  {
   "cell_type": "code",
   "execution_count": 8,
   "metadata": {},
   "outputs": [],
   "source": [
    "def get_genre(soup):\n",
    "    genre = soup.find('a', class_='actionLinkLite bookPageGenreLink')\n",
    "    clean_genre = genre['href'].replace(\"/genres/\",\"\")\n",
    "    return clean_genre"
   ]
  },
  {
   "cell_type": "code",
   "execution_count": 9,
   "metadata": {},
   "outputs": [],
   "source": [
    "def get_rating(soup):\n",
    "    rating = soup.find('span', itemprop='ratingValue').get_text()\n",
    "    clean_rating = rating.replace(\"\\n\",\" \").replace(\" \", \"\")\n",
    "    return clean_rating"
   ]
  },
  {
   "cell_type": "code",
   "execution_count": 27,
   "metadata": {},
   "outputs": [],
   "source": [
    "def get_publish_date(soup):\n",
    "    date = soup.find_all('div',class_='row')[1].get_text()\n",
    "    clean_date = date.replace(\"\\n\",\" \").replace(\"  \",\"\").split('by')[0].replace(' Published ',\"\")\n",
    "    return clean_date"
   ]
  },
  {
   "cell_type": "code",
   "execution_count": 39,
   "metadata": {},
   "outputs": [],
   "source": [
    "def get_publishing_company(soup):\n",
    "    company = soup.find_all('div',class_='row')[1].get_text()\n",
    "    try:\n",
    "        clean_company = company.replace(\"\\n\",\" \").replace(\"  \",\"\").split('by ')[1]\n",
    "    except IndexError:\n",
    "        clean_company = \"\"\n",
    "    return clean_company"
   ]
  },
  {
   "cell_type": "code",
   "execution_count": 41,
   "metadata": {},
   "outputs": [],
   "source": [
    "def get_pages(soup):\n",
    "    try:\n",
    "        pages = soup.find('span', itemprop='numberOfPages').get_text().split()[0]\n",
    "    except AttributeError:\n",
    "        pages = \"\"\n",
    "    return pages"
   ]
  },
  {
   "cell_type": "code",
   "execution_count": 30,
   "metadata": {},
   "outputs": [],
   "source": [
    "def get_format(soup):\n",
    "    book_format = soup.find('span',itemprop = 'bookFormat').get_text()\n",
    "    return book_format"
   ]
  },
  {
   "cell_type": "code",
   "execution_count": null,
   "metadata": {},
   "outputs": [],
   "source": []
  }
 ],
 "metadata": {
  "kernelspec": {
   "display_name": "Python 3",
   "language": "python",
   "name": "python3"
  },
  "language_info": {
   "codemirror_mode": {
    "name": "ipython",
    "version": 3
   },
   "file_extension": ".py",
   "mimetype": "text/x-python",
   "name": "python",
   "nbconvert_exporter": "python",
   "pygments_lexer": "ipython3",
   "version": "3.7.3"
  }
 },
 "nbformat": 4,
 "nbformat_minor": 2
}

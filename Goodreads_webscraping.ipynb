{
 "cells": [
  {
   "cell_type": "markdown",
   "metadata": {},
   "source": [
    "# Scraping Goodreads"
   ]
  },
  {
   "cell_type": "code",
   "execution_count": 1,
   "metadata": {},
   "outputs": [],
   "source": [
    "from bs4 import BeautifulSoup as bs\n",
    "import requests\n",
    "import urllib.request\n",
    "import Goodreads_helper_functions as good\n",
    "import json"
   ]
  },
  {
   "cell_type": "code",
   "execution_count": 2,
   "metadata": {},
   "outputs": [],
   "source": [
    "# function that gets each book's respective URL from master list of top books on GR\n",
    "def get_book_urls(url):\n",
    "    \n",
    "    urls = []\n",
    "    \n",
    "    # go through each page\n",
    "    for i in range(1,20):\n",
    "        new_url = str(url) + f'?page={i}'\n",
    "        open_url = urllib.request.urlopen(new_url)\n",
    "        soup = bs(open_url, 'html.parser')\n",
    "        soups = soup.find_all('div', {\"data-resource-type\":\"Book\"})\n",
    "\n",
    "    # iterate through each book on this page and grab its url\n",
    "        for i in range(len(soups)):\n",
    "            urls.append('https://goodreads.com' + soups[i].a['href'])\n",
    "\n",
    "    return urls"
   ]
  },
  {
   "cell_type": "code",
   "execution_count": 23,
   "metadata": {},
   "outputs": [],
   "source": [
    "# function that takes in urls and returns dictionaries for each book\n",
    "def get_book_info(urls):\n",
    "    list_of_books = []\n",
    "    for url in urls:\n",
    "        html_page = requests.get(url)\n",
    "        soup = bs(html_page.content, 'html.parser')\n",
    "    \n",
    "        book_dict = {}\n",
    "    \n",
    "        book_dict['title'] = good.get_title(soup)\n",
    "        book_dict['ISBN'] = good.get_ISBN(soup)\n",
    "        book_dict['author'] = good.get_author(soup)\n",
    "        book_dict['series'] = good.get_series(soup)\n",
    "        book_dict['genre'] = good.get_genre(soup)\n",
    "        book_dict['rating'] = good.get_rating(soup)\n",
    "        book_dict['publish_date'] = good.get_publish_date(soup)\n",
    "        book_dict['publish_company'] = good.get_publishing_company(soup)\n",
    "        book_dict['number_of_pages'] = good.get_pages(soup)\n",
    "        book_dict['format'] = good.get_format(soup)\n",
    "    \n",
    "        list_of_books.append(book_dict)\n",
    "    return list_of_books"
   ]
  },
  {
   "cell_type": "code",
   "execution_count": null,
   "metadata": {},
   "outputs": [],
   "source": [
    "# get all the individual book urls from the master lists\n",
    "urls_2019 = get_book_urls('https://www.goodreads.com/list/show/131403.Best_Books_of_2019')\n",
    "urls_2018 = get_book_urls('https://www.goodreads.com/list/show/119307.Best_Books_of_2018')\n",
    "urls_2017 = get_book_urls('https://www.goodreads.com/list/show/107026.Best_Books_of_2017')"
   ]
  },
  {
   "cell_type": "code",
   "execution_count": null,
   "metadata": {},
   "outputs": [],
   "source": [
    "# get the book data from each book url\n",
    "list_of_book_dicts_2019 = get_book_info(urls_2019)\n",
    "list_of_book_dicts_2018 = get_book_info(urls_2018)\n",
    "list_of_book_dicts_2017 = get_book_info(urls_2017)"
   ]
  },
  {
   "cell_type": "code",
   "execution_count": 4,
   "metadata": {},
   "outputs": [],
   "source": [
    "with open('Goodreads_books_2019.json','w') as datafile:\n",
    "    json.dump(list_of_book_dicts_2019, datafile)"
   ]
  },
  {
   "cell_type": "code",
   "execution_count": 29,
   "metadata": {},
   "outputs": [],
   "source": [
    "with open('Goodreads_books_2017.json','w') as book_file:\n",
    "    json.dump(list_of_book_dicts_2017, book_file)"
   ]
  },
  {
   "cell_type": "code",
   "execution_count": 26,
   "metadata": {},
   "outputs": [],
   "source": [
    "with open('Goodreads_books_2018.json','w') as book_file:\n",
    "    json.dump(list_of_book_dicts_2018, book_file)"
   ]
  }
 ],
 "metadata": {
  "kernelspec": {
   "display_name": "Python 3",
   "language": "python",
   "name": "python3"
  },
  "language_info": {
   "codemirror_mode": {
    "name": "ipython",
    "version": 3
   },
   "file_extension": ".py",
   "mimetype": "text/x-python",
   "name": "python",
   "nbconvert_exporter": "python",
   "pygments_lexer": "ipython3",
   "version": "3.7.3"
  }
 },
 "nbformat": 4,
 "nbformat_minor": 2
}

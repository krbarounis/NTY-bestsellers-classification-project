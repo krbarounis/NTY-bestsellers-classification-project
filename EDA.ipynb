{
 "cells": [
  {
   "cell_type": "markdown",
   "metadata": {},
   "source": [
    "# Exploritory Data Analysis"
   ]
  },
  {
   "cell_type": "markdown",
   "metadata": {},
   "source": [
    "### Data cleaning"
   ]
  },
  {
   "cell_type": "code",
   "execution_count": 1,
   "metadata": {},
   "outputs": [],
   "source": [
    "import json\n",
    "import pandas as pd\n",
    "import re"
   ]
  },
  {
   "cell_type": "code",
   "execution_count": 2,
   "metadata": {},
   "outputs": [],
   "source": [
    "# import 2018 goodreads books\n",
    "with open(\"Goodreads_books_2018.json\") as datafile:\n",
    "    data_2018 = json.load(datafile)"
   ]
  },
  {
   "cell_type": "code",
   "execution_count": 3,
   "metadata": {},
   "outputs": [],
   "source": [
    "# import 2017 goodreads books\n",
    "with open(\"Goodreads_books_2017.json\") as datafile:\n",
    "    data_2017 = json.load(datafile)"
   ]
  },
  {
   "cell_type": "code",
   "execution_count": 75,
   "metadata": {},
   "outputs": [],
   "source": [
    "df_2018 = pd.DataFrame(data_2018)"
   ]
  },
  {
   "cell_type": "code",
   "execution_count": 76,
   "metadata": {},
   "outputs": [],
   "source": [
    "df_2017 = pd.DataFrame(data_2017)"
   ]
  },
  {
   "cell_type": "code",
   "execution_count": 77,
   "metadata": {},
   "outputs": [],
   "source": [
    "# join the dataframes\n",
    "df_goodreads = pd.concat([df_2017,df_2018])"
   ]
  },
  {
   "cell_type": "code",
   "execution_count": 80,
   "metadata": {},
   "outputs": [],
   "source": [
    "df_goodreads.reset_index(drop=True,inplace=True)"
   ]
  },
  {
   "cell_type": "code",
   "execution_count": 81,
   "metadata": {},
   "outputs": [
    {
     "data": {
      "text/plain": [
       "(2803, 10)"
      ]
     },
     "execution_count": 81,
     "metadata": {},
     "output_type": "execute_result"
    }
   ],
   "source": [
    "df_goodreads.shape"
   ]
  },
  {
   "cell_type": "code",
   "execution_count": 82,
   "metadata": {},
   "outputs": [
    {
     "data": {
      "text/plain": [
       "RangeIndex(start=0, stop=2803, step=1)"
      ]
     },
     "execution_count": 82,
     "metadata": {},
     "output_type": "execute_result"
    }
   ],
   "source": [
    "df_goodreads.index"
   ]
  },
  {
   "cell_type": "code",
   "execution_count": 83,
   "metadata": {},
   "outputs": [],
   "source": [
    "df_goodreads = df_goodreads[['ISBN','title','series','author','rating','genre','publish_date','publish_company','format','number_of_pages']]"
   ]
  },
  {
   "cell_type": "code",
   "execution_count": 84,
   "metadata": {},
   "outputs": [
    {
     "name": "stdout",
     "output_type": "stream",
     "text": [
      "<class 'pandas.core.frame.DataFrame'>\n",
      "RangeIndex: 2803 entries, 0 to 2802\n",
      "Data columns (total 10 columns):\n",
      "ISBN               2803 non-null object\n",
      "title              2803 non-null object\n",
      "series             2803 non-null object\n",
      "author             2803 non-null object\n",
      "rating             2803 non-null object\n",
      "genre              2803 non-null object\n",
      "publish_date       2803 non-null object\n",
      "publish_company    2803 non-null object\n",
      "format             2803 non-null object\n",
      "number_of_pages    2803 non-null object\n",
      "dtypes: object(10)\n",
      "memory usage: 219.1+ KB\n"
     ]
    }
   ],
   "source": [
    "df_goodreads.info()"
   ]
  },
  {
   "cell_type": "code",
   "execution_count": 85,
   "metadata": {},
   "outputs": [
    {
     "name": "stderr",
     "output_type": "stream",
     "text": [
      "/Users/Kristinabarounis/anaconda3/lib/python3.7/site-packages/ipykernel_launcher.py:5: UserWarning: This pattern has match groups. To actually get the groups, use str.extract.\n",
      "  \"\"\"\n"
     ]
    }
   ],
   "source": [
    "# get rid of rows where ISBN wasn't actually an ISBN\n",
    "# use a reg ex variable declaring that the ISBN must be 13 digits\n",
    "reg_ex = r'^(\\d{13})$'\n",
    "\n",
    "df_goodreads = df_goodreads[df_goodreads['ISBN'].str.contains(reg_ex)]"
   ]
  },
  {
   "cell_type": "code",
   "execution_count": 86,
   "metadata": {},
   "outputs": [],
   "source": [
    "# make series column binary (0 if not part of a series, 1 if it is)\n",
    "df_goodreads['series'].loc[(df_goodreads['series'] == \"Edit Details\")] = 0\n",
    "df_goodreads['series'].loc[(df_goodreads['series'] != 0)] = 1"
   ]
  },
  {
   "cell_type": "code",
   "execution_count": 87,
   "metadata": {},
   "outputs": [],
   "source": [
    "df_goodreads['rating'] = df_goodreads['rating'].astype(float)"
   ]
  },
  {
   "cell_type": "code",
   "execution_count": 88,
   "metadata": {},
   "outputs": [],
   "source": [
    "# split up the date into month and year\n",
    "df_goodreads['publish_month'] = df_goodreads['publish_date'].str.split(n=2,expand = True)[0]\n",
    "df_goodreads['publish_year'] = df_goodreads['publish_date'].str.split(n=2,expand = True)[2]"
   ]
  },
  {
   "cell_type": "code",
   "execution_count": 89,
   "metadata": {},
   "outputs": [
    {
     "data": {
      "text/plain": [
       "(1172, 12)"
      ]
     },
     "execution_count": 89,
     "metadata": {},
     "output_type": "execute_result"
    }
   ],
   "source": [
    "# 1172 books from goodreads between 2017 and 2018 bc we dropped the empty ISBNs\n",
    "df_goodreads.shape"
   ]
  },
  {
   "cell_type": "code",
   "execution_count": 90,
   "metadata": {},
   "outputs": [],
   "source": [
    "# reset the index again\n",
    "df_goodreads.reset_index(drop=True, inplace=True)"
   ]
  },
  {
   "cell_type": "code",
   "execution_count": 91,
   "metadata": {},
   "outputs": [
    {
     "data": {
      "text/plain": [
       "RangeIndex(start=0, stop=1172, step=1)"
      ]
     },
     "execution_count": 91,
     "metadata": {},
     "output_type": "execute_result"
    }
   ],
   "source": [
    "df_goodreads.index"
   ]
  },
  {
   "cell_type": "code",
   "execution_count": 92,
   "metadata": {},
   "outputs": [
    {
     "data": {
      "text/html": [
       "<div>\n",
       "<style scoped>\n",
       "    .dataframe tbody tr th:only-of-type {\n",
       "        vertical-align: middle;\n",
       "    }\n",
       "\n",
       "    .dataframe tbody tr th {\n",
       "        vertical-align: top;\n",
       "    }\n",
       "\n",
       "    .dataframe thead th {\n",
       "        text-align: right;\n",
       "    }\n",
       "</style>\n",
       "<table border=\"1\" class=\"dataframe\">\n",
       "  <thead>\n",
       "    <tr style=\"text-align: right;\">\n",
       "      <th></th>\n",
       "      <th>ISBN</th>\n",
       "      <th>title</th>\n",
       "      <th>series</th>\n",
       "      <th>author</th>\n",
       "      <th>rating</th>\n",
       "      <th>genre</th>\n",
       "      <th>publish_date</th>\n",
       "      <th>publish_company</th>\n",
       "      <th>format</th>\n",
       "      <th>number_of_pages</th>\n",
       "      <th>publish_month</th>\n",
       "      <th>publish_year</th>\n",
       "    </tr>\n",
       "  </thead>\n",
       "  <tbody>\n",
       "    <tr>\n",
       "      <th>927</th>\n",
       "      <td>9780062676788</td>\n",
       "      <td>The Word Is Murder</td>\n",
       "      <td>1</td>\n",
       "      <td>Anthony Horowitz</td>\n",
       "      <td>3.92</td>\n",
       "      <td>mystery</td>\n",
       "      <td>June 5th 2018</td>\n",
       "      <td>Harper (first published August 24th 2017)</td>\n",
       "      <td>Hardcover</td>\n",
       "      <td>390</td>\n",
       "      <td>June</td>\n",
       "      <td>2018</td>\n",
       "    </tr>\n",
       "  </tbody>\n",
       "</table>\n",
       "</div>"
      ],
      "text/plain": [
       "              ISBN                 title  series            author  rating  \\\n",
       "927  9780062676788   The Word Is Murder        1  Anthony Horowitz    3.92   \n",
       "\n",
       "       genre   publish_date                            publish_company  \\\n",
       "927  mystery  June 5th 2018  Harper (first published August 24th 2017)   \n",
       "\n",
       "        format number_of_pages publish_month publish_year  \n",
       "927  Hardcover             390          June         2018  "
      ]
     },
     "execution_count": 92,
     "metadata": {},
     "output_type": "execute_result"
    }
   ],
   "source": [
    "# need to drop duplicates\n",
    "df_goodreads[df_goodreads.duplicated(subset='ISBN') == True]"
   ]
  },
  {
   "cell_type": "code",
   "execution_count": 93,
   "metadata": {},
   "outputs": [
    {
     "data": {
      "text/html": [
       "<div>\n",
       "<style scoped>\n",
       "    .dataframe tbody tr th:only-of-type {\n",
       "        vertical-align: middle;\n",
       "    }\n",
       "\n",
       "    .dataframe tbody tr th {\n",
       "        vertical-align: top;\n",
       "    }\n",
       "\n",
       "    .dataframe thead th {\n",
       "        text-align: right;\n",
       "    }\n",
       "</style>\n",
       "<table border=\"1\" class=\"dataframe\">\n",
       "  <thead>\n",
       "    <tr style=\"text-align: right;\">\n",
       "      <th></th>\n",
       "      <th>ISBN</th>\n",
       "      <th>title</th>\n",
       "      <th>series</th>\n",
       "      <th>author</th>\n",
       "      <th>rating</th>\n",
       "      <th>genre</th>\n",
       "      <th>publish_date</th>\n",
       "      <th>publish_company</th>\n",
       "      <th>format</th>\n",
       "      <th>number_of_pages</th>\n",
       "      <th>publish_month</th>\n",
       "      <th>publish_year</th>\n",
       "    </tr>\n",
       "  </thead>\n",
       "  <tbody>\n",
       "    <tr>\n",
       "      <th>545</th>\n",
       "      <td>9780062676788</td>\n",
       "      <td>The Word Is Murder</td>\n",
       "      <td>1</td>\n",
       "      <td>Anthony Horowitz</td>\n",
       "      <td>3.92</td>\n",
       "      <td>mystery</td>\n",
       "      <td>June 5th 2018</td>\n",
       "      <td>Harper (first published August 24th 2017)</td>\n",
       "      <td>Hardcover</td>\n",
       "      <td>390</td>\n",
       "      <td>June</td>\n",
       "      <td>2018</td>\n",
       "    </tr>\n",
       "    <tr>\n",
       "      <th>927</th>\n",
       "      <td>9780062676788</td>\n",
       "      <td>The Word Is Murder</td>\n",
       "      <td>1</td>\n",
       "      <td>Anthony Horowitz</td>\n",
       "      <td>3.92</td>\n",
       "      <td>mystery</td>\n",
       "      <td>June 5th 2018</td>\n",
       "      <td>Harper (first published August 24th 2017)</td>\n",
       "      <td>Hardcover</td>\n",
       "      <td>390</td>\n",
       "      <td>June</td>\n",
       "      <td>2018</td>\n",
       "    </tr>\n",
       "  </tbody>\n",
       "</table>\n",
       "</div>"
      ],
      "text/plain": [
       "              ISBN                 title  series            author  rating  \\\n",
       "545  9780062676788   The Word Is Murder        1  Anthony Horowitz    3.92   \n",
       "927  9780062676788   The Word Is Murder        1  Anthony Horowitz    3.92   \n",
       "\n",
       "       genre   publish_date                            publish_company  \\\n",
       "545  mystery  June 5th 2018  Harper (first published August 24th 2017)   \n",
       "927  mystery  June 5th 2018  Harper (first published August 24th 2017)   \n",
       "\n",
       "        format number_of_pages publish_month publish_year  \n",
       "545  Hardcover             390          June         2018  \n",
       "927  Hardcover             390          June         2018  "
      ]
     },
     "execution_count": 93,
     "metadata": {},
     "output_type": "execute_result"
    }
   ],
   "source": [
    "df_goodreads[df_goodreads['ISBN'] == '9780062676788']"
   ]
  },
  {
   "cell_type": "code",
   "execution_count": 94,
   "metadata": {},
   "outputs": [],
   "source": [
    "# let's drop the second one\n",
    "df_goodreads = df_goodreads.drop(index = 545)"
   ]
  },
  {
   "cell_type": "code",
   "execution_count": 95,
   "metadata": {},
   "outputs": [
    {
     "data": {
      "text/html": [
       "<div>\n",
       "<style scoped>\n",
       "    .dataframe tbody tr th:only-of-type {\n",
       "        vertical-align: middle;\n",
       "    }\n",
       "\n",
       "    .dataframe tbody tr th {\n",
       "        vertical-align: top;\n",
       "    }\n",
       "\n",
       "    .dataframe thead th {\n",
       "        text-align: right;\n",
       "    }\n",
       "</style>\n",
       "<table border=\"1\" class=\"dataframe\">\n",
       "  <thead>\n",
       "    <tr style=\"text-align: right;\">\n",
       "      <th></th>\n",
       "      <th>ISBN</th>\n",
       "      <th>title</th>\n",
       "      <th>series</th>\n",
       "      <th>author</th>\n",
       "      <th>rating</th>\n",
       "      <th>genre</th>\n",
       "      <th>publish_date</th>\n",
       "      <th>publish_company</th>\n",
       "      <th>format</th>\n",
       "      <th>number_of_pages</th>\n",
       "      <th>publish_month</th>\n",
       "      <th>publish_year</th>\n",
       "    </tr>\n",
       "  </thead>\n",
       "  <tbody>\n",
       "    <tr>\n",
       "      <th>927</th>\n",
       "      <td>9780062676788</td>\n",
       "      <td>The Word Is Murder</td>\n",
       "      <td>1</td>\n",
       "      <td>Anthony Horowitz</td>\n",
       "      <td>3.92</td>\n",
       "      <td>mystery</td>\n",
       "      <td>June 5th 2018</td>\n",
       "      <td>Harper (first published August 24th 2017)</td>\n",
       "      <td>Hardcover</td>\n",
       "      <td>390</td>\n",
       "      <td>June</td>\n",
       "      <td>2018</td>\n",
       "    </tr>\n",
       "  </tbody>\n",
       "</table>\n",
       "</div>"
      ],
      "text/plain": [
       "              ISBN                 title  series            author  rating  \\\n",
       "927  9780062676788   The Word Is Murder        1  Anthony Horowitz    3.92   \n",
       "\n",
       "       genre   publish_date                            publish_company  \\\n",
       "927  mystery  June 5th 2018  Harper (first published August 24th 2017)   \n",
       "\n",
       "        format number_of_pages publish_month publish_year  \n",
       "927  Hardcover             390          June         2018  "
      ]
     },
     "execution_count": 95,
     "metadata": {},
     "output_type": "execute_result"
    }
   ],
   "source": [
    "# now there's only one!\n",
    "df_goodreads[df_goodreads['ISBN'] == '9780062676788']"
   ]
  },
  {
   "cell_type": "code",
   "execution_count": 96,
   "metadata": {},
   "outputs": [],
   "source": [
    "# import the NYT bestsellers\n",
    "with open(\"list_of_NYT_books.json\") as datafile:\n",
    "    NYT_bestsellers = json.load(datafile)"
   ]
  },
  {
   "cell_type": "code",
   "execution_count": 216,
   "metadata": {},
   "outputs": [],
   "source": [
    "df_NYT = pd.DataFrame(NYT_bestsellers)"
   ]
  },
  {
   "cell_type": "code",
   "execution_count": 217,
   "metadata": {},
   "outputs": [],
   "source": [
    "# do everything to this dataframe that we did to the df above before merging"
   ]
  },
  {
   "cell_type": "code",
   "execution_count": 218,
   "metadata": {},
   "outputs": [],
   "source": [
    "df_NYT = df_NYT[['ISBN','title','series','author','rating','genre','publish_date','publish_company','format','number_of_pages']]"
   ]
  },
  {
   "cell_type": "code",
   "execution_count": 219,
   "metadata": {},
   "outputs": [],
   "source": [
    "# make series a binary value\n",
    "df_NYT['series'].loc[(df_NYT['series'] == \"Edit Details\")] = 0\n",
    "df_NYT['series'].loc[(df_NYT['series'] != 0)] = 1"
   ]
  },
  {
   "cell_type": "code",
   "execution_count": 220,
   "metadata": {},
   "outputs": [],
   "source": [
    "# split up the date into month and year\n",
    "df_NYT['publish_month'] = df_NYT['publish_date'].str.split(n=2,expand = True)[0]\n",
    "df_NYT['publish_year'] = df_NYT['publish_date'].str.split(n=2,expand = True)[2]"
   ]
  },
  {
   "cell_type": "code",
   "execution_count": 221,
   "metadata": {},
   "outputs": [],
   "source": [
    "# convert rating to a float\n",
    "df_NYT['rating'] = df_NYT['rating'].astype(float)"
   ]
  },
  {
   "cell_type": "code",
   "execution_count": 222,
   "metadata": {},
   "outputs": [],
   "source": [
    "# set ISBN as unique index value\n",
    "# df_NYT.set_index('ISBN',inplace=True)"
   ]
  },
  {
   "cell_type": "code",
   "execution_count": 223,
   "metadata": {},
   "outputs": [],
   "source": [
    "# create a column of 1's to represent that these are all bestsellers\n",
    "df_NYT['NYT_bestseller'] = 1"
   ]
  },
  {
   "cell_type": "code",
   "execution_count": 224,
   "metadata": {},
   "outputs": [
    {
     "data": {
      "text/plain": [
       "741"
      ]
     },
     "execution_count": 224,
     "metadata": {},
     "output_type": "execute_result"
    }
   ],
   "source": [
    "len(df_NYT)"
   ]
  },
  {
   "cell_type": "code",
   "execution_count": 225,
   "metadata": {},
   "outputs": [],
   "source": [
    "df_NYT = df_NYT.drop_duplicates()"
   ]
  },
  {
   "cell_type": "code",
   "execution_count": 226,
   "metadata": {},
   "outputs": [
    {
     "data": {
      "text/plain": [
       "558"
      ]
     },
     "execution_count": 226,
     "metadata": {},
     "output_type": "execute_result"
    }
   ],
   "source": [
    "len(df_NYT)"
   ]
  },
  {
   "cell_type": "code",
   "execution_count": 227,
   "metadata": {},
   "outputs": [],
   "source": [
    "# df_NYT = df_NYT.loc[~df_NYT.index.duplicated(keep='first')]"
   ]
  },
  {
   "cell_type": "code",
   "execution_count": 228,
   "metadata": {},
   "outputs": [],
   "source": [
    "full_df = pd.concat([df_NYT,df_goodreads], sort=False)"
   ]
  },
  {
   "cell_type": "code",
   "execution_count": 229,
   "metadata": {},
   "outputs": [
    {
     "data": {
      "text/plain": [
       "(1729, 13)"
      ]
     },
     "execution_count": 229,
     "metadata": {},
     "output_type": "execute_result"
    }
   ],
   "source": [
    "full_df.shape"
   ]
  },
  {
   "cell_type": "code",
   "execution_count": 230,
   "metadata": {},
   "outputs": [],
   "source": [
    "# let's reset the index\n",
    "full_df.reset_index(drop=True, inplace=True)"
   ]
  },
  {
   "cell_type": "code",
   "execution_count": 231,
   "metadata": {},
   "outputs": [
    {
     "data": {
      "text/plain": [
       "RangeIndex(start=0, stop=1729, step=1)"
      ]
     },
     "execution_count": 231,
     "metadata": {},
     "output_type": "execute_result"
    }
   ],
   "source": [
    "full_df.index"
   ]
  },
  {
   "cell_type": "code",
   "execution_count": 232,
   "metadata": {
    "scrolled": true
   },
   "outputs": [],
   "source": [
    "# fill in the non-bestsellers with 0 in that column\n",
    "full_df['NYT_bestseller'].fillna(value=0,inplace=True)"
   ]
  },
  {
   "cell_type": "code",
   "execution_count": 233,
   "metadata": {
    "scrolled": true
   },
   "outputs": [
    {
     "data": {
      "text/html": [
       "<div>\n",
       "<style scoped>\n",
       "    .dataframe tbody tr th:only-of-type {\n",
       "        vertical-align: middle;\n",
       "    }\n",
       "\n",
       "    .dataframe tbody tr th {\n",
       "        vertical-align: top;\n",
       "    }\n",
       "\n",
       "    .dataframe thead th {\n",
       "        text-align: right;\n",
       "    }\n",
       "</style>\n",
       "<table border=\"1\" class=\"dataframe\">\n",
       "  <thead>\n",
       "    <tr style=\"text-align: right;\">\n",
       "      <th></th>\n",
       "      <th>ISBN</th>\n",
       "      <th>title</th>\n",
       "      <th>series</th>\n",
       "      <th>author</th>\n",
       "      <th>rating</th>\n",
       "      <th>genre</th>\n",
       "      <th>publish_date</th>\n",
       "      <th>publish_company</th>\n",
       "      <th>format</th>\n",
       "      <th>number_of_pages</th>\n",
       "      <th>publish_month</th>\n",
       "      <th>publish_year</th>\n",
       "      <th>NYT_bestseller</th>\n",
       "    </tr>\n",
       "  </thead>\n",
       "  <tbody>\n",
       "    <tr>\n",
       "      <th>438</th>\n",
       "      <td>9780399592805</td>\n",
       "      <td>The Golden House</td>\n",
       "      <td>0</td>\n",
       "      <td>Salman Rushdie</td>\n",
       "      <td>3.66</td>\n",
       "      <td>fiction</td>\n",
       "      <td>2017</td>\n",
       "      <td>Random House</td>\n",
       "      <td>Hardcover</td>\n",
       "      <td>380</td>\n",
       "      <td>2017</td>\n",
       "      <td>None</td>\n",
       "      <td>1.0</td>\n",
       "    </tr>\n",
       "    <tr>\n",
       "      <th>1035</th>\n",
       "      <td>9781927990216</td>\n",
       "      <td>Prime Meridian</td>\n",
       "      <td>0</td>\n",
       "      <td>Silvia Moreno-Garcia</td>\n",
       "      <td>4.03</td>\n",
       "      <td>science-fiction</td>\n",
       "      <td></td>\n",
       "      <td>Innsmouth Free Press (first published December...</td>\n",
       "      <td>Paperback</td>\n",
       "      <td>122</td>\n",
       "      <td>None</td>\n",
       "      <td>None</td>\n",
       "      <td>0.0</td>\n",
       "    </tr>\n",
       "    <tr>\n",
       "      <th>1381</th>\n",
       "      <td>9789381841372</td>\n",
       "      <td>Wedding Pickle</td>\n",
       "      <td>0</td>\n",
       "      <td>Neha Sharma</td>\n",
       "      <td>4.03</td>\n",
       "      <td>asian-literature</td>\n",
       "      <td>2018</td>\n",
       "      <td>Grapevine India</td>\n",
       "      <td>Paperback</td>\n",
       "      <td>264</td>\n",
       "      <td>2018</td>\n",
       "      <td>None</td>\n",
       "      <td>0.0</td>\n",
       "    </tr>\n",
       "    <tr>\n",
       "      <th>1597</th>\n",
       "      <td>9780300219333</td>\n",
       "      <td>Packing My Library: An Elegy and Ten Digressi...</td>\n",
       "      <td>0</td>\n",
       "      <td>Alberto Manguel</td>\n",
       "      <td>3.88</td>\n",
       "      <td>writing</td>\n",
       "      <td>2018</td>\n",
       "      <td>Yale University Press</td>\n",
       "      <td>Hardcover</td>\n",
       "      <td>146</td>\n",
       "      <td>2018</td>\n",
       "      <td>None</td>\n",
       "      <td>0.0</td>\n",
       "    </tr>\n",
       "    <tr>\n",
       "      <th>1692</th>\n",
       "      <td>9780062468741</td>\n",
       "      <td>The Iron Season</td>\n",
       "      <td>1</td>\n",
       "      <td>Helene Wecker</td>\n",
       "      <td>4.03</td>\n",
       "      <td>fantasy</td>\n",
       "      <td>Expected publication: 2020</td>\n",
       "      <td>Harper</td>\n",
       "      <td>ebook</td>\n",
       "      <td>448</td>\n",
       "      <td>Expected</td>\n",
       "      <td>2020</td>\n",
       "      <td>0.0</td>\n",
       "    </tr>\n",
       "  </tbody>\n",
       "</table>\n",
       "</div>"
      ],
      "text/plain": [
       "               ISBN                                              title  \\\n",
       "438   9780399592805                                  The Golden House    \n",
       "1035  9781927990216                                    Prime Meridian    \n",
       "1381  9789381841372                                    Wedding Pickle    \n",
       "1597  9780300219333   Packing My Library: An Elegy and Ten Digressi...   \n",
       "1692  9780062468741                                   The Iron Season    \n",
       "\n",
       "      series                author  rating             genre  \\\n",
       "438        0        Salman Rushdie    3.66           fiction   \n",
       "1035       0  Silvia Moreno-Garcia    4.03   science-fiction   \n",
       "1381       0           Neha Sharma    4.03  asian-literature   \n",
       "1597       0       Alberto Manguel    3.88           writing   \n",
       "1692       1         Helene Wecker    4.03           fantasy   \n",
       "\n",
       "                     publish_date  \\\n",
       "438                          2017   \n",
       "1035                                \n",
       "1381                         2018   \n",
       "1597                         2018   \n",
       "1692   Expected publication: 2020   \n",
       "\n",
       "                                        publish_company     format  \\\n",
       "438                                        Random House  Hardcover   \n",
       "1035  Innsmouth Free Press (first published December...  Paperback   \n",
       "1381                                    Grapevine India  Paperback   \n",
       "1597                              Yale University Press  Hardcover   \n",
       "1692                                             Harper      ebook   \n",
       "\n",
       "     number_of_pages publish_month publish_year  NYT_bestseller  \n",
       "438              380          2017         None             1.0  \n",
       "1035             122          None         None             0.0  \n",
       "1381             264          2018         None             0.0  \n",
       "1597             146          2018         None             0.0  \n",
       "1692             448      Expected         2020             0.0  "
      ]
     },
     "execution_count": 233,
     "metadata": {},
     "output_type": "execute_result"
    }
   ],
   "source": [
    "# look at dates that weren't coded properly\n",
    "full_df[(full_df['publish_month'] != 'January') &\n",
    "        (full_df['publish_month'] != 'February') &\n",
    "        (full_df['publish_month'] != 'March') &\n",
    "        (full_df['publish_month'] != 'April') &\n",
    "        (full_df['publish_month'] != 'May') &\n",
    "        (full_df['publish_month'] != 'June') &\n",
    "        (full_df['publish_month'] != 'July') &\n",
    "        (full_df['publish_month'] != 'August') &\n",
    "        (full_df['publish_month'] != 'September') &\n",
    "        (full_df['publish_month'] != 'October') &\n",
    "        (full_df['publish_month'] != 'November') &\n",
    "        (full_df['publish_month'] != 'December')]\n"
   ]
  },
  {
   "cell_type": "code",
   "execution_count": 234,
   "metadata": {},
   "outputs": [],
   "source": [
    "# manually fix these, except the last one which hasn't been published yet - let's drop that one\n",
    "full_df['publish_month'].loc[full_df['ISBN'] == '9780399592805'] = 'September'\n",
    "full_df['publish_month'].loc[full_df['ISBN'] == '9781927990216'] = 'July'\n",
    "full_df['publish_month'].loc[full_df['ISBN'] == '9789381841372'] = 'January'\n",
    "full_df['publish_month'].loc[full_df['ISBN'] == '9780300219333'] = 'March'\n",
    "full_df = full_df.drop(index=1141)"
   ]
  },
  {
   "cell_type": "code",
   "execution_count": 235,
   "metadata": {
    "scrolled": true
   },
   "outputs": [],
   "source": [
    "# lets also fix the years\n",
    "full_df['publish_year'].loc[full_df['ISBN'] == '9780399592805'] = '2017'\n",
    "full_df['publish_year'].loc[full_df['ISBN'] == '9781927990216'] = '2018'\n",
    "full_df['publish_year'].loc[full_df['ISBN'] == '9789381841372'] = '2018'\n",
    "full_df['publish_year'].loc[full_df['ISBN'] == '9780300219333'] = '2018'"
   ]
  },
  {
   "cell_type": "code",
   "execution_count": 236,
   "metadata": {},
   "outputs": [
    {
     "name": "stderr",
     "output_type": "stream",
     "text": [
      "/Users/Kristinabarounis/anaconda3/lib/python3.7/site-packages/ipykernel_launcher.py:5: UserWarning: This pattern has match groups. To actually get the groups, use str.extract.\n",
      "  \"\"\"\n"
     ]
    },
    {
     "data": {
      "text/html": [
       "<div>\n",
       "<style scoped>\n",
       "    .dataframe tbody tr th:only-of-type {\n",
       "        vertical-align: middle;\n",
       "    }\n",
       "\n",
       "    .dataframe tbody tr th {\n",
       "        vertical-align: top;\n",
       "    }\n",
       "\n",
       "    .dataframe thead th {\n",
       "        text-align: right;\n",
       "    }\n",
       "</style>\n",
       "<table border=\"1\" class=\"dataframe\">\n",
       "  <thead>\n",
       "    <tr style=\"text-align: right;\">\n",
       "      <th></th>\n",
       "      <th>ISBN</th>\n",
       "      <th>title</th>\n",
       "      <th>series</th>\n",
       "      <th>author</th>\n",
       "      <th>rating</th>\n",
       "      <th>genre</th>\n",
       "      <th>publish_date</th>\n",
       "      <th>publish_company</th>\n",
       "      <th>format</th>\n",
       "      <th>number_of_pages</th>\n",
       "      <th>publish_month</th>\n",
       "      <th>publish_year</th>\n",
       "      <th>NYT_bestseller</th>\n",
       "    </tr>\n",
       "  </thead>\n",
       "  <tbody>\n",
       "    <tr>\n",
       "      <th>398</th>\n",
       "      <td>9780061122415</td>\n",
       "      <td>The Alchemist</td>\n",
       "      <td>0</td>\n",
       "      <td>Paulo Coelho</td>\n",
       "      <td>3.85</td>\n",
       "      <td>fiction</td>\n",
       "      <td>May 1st 1993</td>\n",
       "      <td>HarperCollins (first published 1988)</td>\n",
       "      <td>Paperback</td>\n",
       "      <td>197</td>\n",
       "      <td>May</td>\n",
       "      <td>1993</td>\n",
       "      <td>1.0</td>\n",
       "    </tr>\n",
       "    <tr>\n",
       "      <th>880</th>\n",
       "      <td>9781520356686</td>\n",
       "      <td>Fire in His Blood</td>\n",
       "      <td>1</td>\n",
       "      <td>Ruby Dixon</td>\n",
       "      <td>3.82</td>\n",
       "      <td>fantasy</td>\n",
       "      <td>January 11th 2017(first published January 9th ...</td>\n",
       "      <td></td>\n",
       "      <td>Paperback</td>\n",
       "      <td>331</td>\n",
       "      <td>January</td>\n",
       "      <td>2017(first published January 9th 2017)</td>\n",
       "      <td>0.0</td>\n",
       "    </tr>\n",
       "    <tr>\n",
       "      <th>1126</th>\n",
       "      <td>9781946836038</td>\n",
       "      <td>Amnesia</td>\n",
       "      <td>1</td>\n",
       "      <td>Cambria Hebert</td>\n",
       "      <td>3.99</td>\n",
       "      <td>romance</td>\n",
       "      <td>June 13th 2017(first published June 10th 2017)</td>\n",
       "      <td></td>\n",
       "      <td>Paperback</td>\n",
       "      <td>408</td>\n",
       "      <td>June</td>\n",
       "      <td>2017(first published June 10th 2017)</td>\n",
       "      <td>0.0</td>\n",
       "    </tr>\n",
       "  </tbody>\n",
       "</table>\n",
       "</div>"
      ],
      "text/plain": [
       "               ISBN                title  series          author  rating  \\\n",
       "398   9780061122415       The Alchemist        0    Paulo Coelho    3.85   \n",
       "880   9781520356686   Fire in His Blood        1      Ruby Dixon    3.82   \n",
       "1126  9781946836038             Amnesia        1  Cambria Hebert    3.99   \n",
       "\n",
       "        genre                                       publish_date  \\\n",
       "398   fiction                                       May 1st 1993   \n",
       "880   fantasy  January 11th 2017(first published January 9th ...   \n",
       "1126  romance     June 13th 2017(first published June 10th 2017)   \n",
       "\n",
       "                           publish_company     format number_of_pages  \\\n",
       "398   HarperCollins (first published 1988)  Paperback             197   \n",
       "880                                         Paperback             331   \n",
       "1126                                        Paperback             408   \n",
       "\n",
       "     publish_month                            publish_year  NYT_bestseller  \n",
       "398            May                                    1993             1.0  \n",
       "880        January  2017(first published January 9th 2017)             0.0  \n",
       "1126          June    2017(first published June 10th 2017)             0.0  "
      ]
     },
     "execution_count": 236,
     "metadata": {},
     "output_type": "execute_result"
    }
   ],
   "source": [
    "# lets do the same thing to check that the year was coded correctly but use regex since \n",
    "# so we don't have to manually write out all the years\n",
    "reg_ex_year = r'^(\\s*2[0-9]{3}\\s*)$' \n",
    "\n",
    "full_df[full_df['publish_year'].str.contains(reg_ex_year) == False]"
   ]
  },
  {
   "cell_type": "code",
   "execution_count": 237,
   "metadata": {},
   "outputs": [],
   "source": [
    "# manually change the last two (the first one is correct just written a long time ago!)\n",
    "full_df['publish_year'].loc[full_df['ISBN'] == '9781520356686'] = '2017'\n",
    "full_df['publish_year'].loc[full_df['ISBN'] == '9781946836038'] = '2017'"
   ]
  },
  {
   "cell_type": "code",
   "execution_count": 238,
   "metadata": {},
   "outputs": [
    {
     "name": "stderr",
     "output_type": "stream",
     "text": [
      "/Users/Kristinabarounis/anaconda3/lib/python3.7/site-packages/ipykernel_launcher.py:3: UserWarning: This pattern has match groups. To actually get the groups, use str.extract.\n",
      "  This is separate from the ipykernel package so we can avoid doing imports until\n"
     ]
    },
    {
     "data": {
      "text/html": [
       "<div>\n",
       "<style scoped>\n",
       "    .dataframe tbody tr th:only-of-type {\n",
       "        vertical-align: middle;\n",
       "    }\n",
       "\n",
       "    .dataframe tbody tr th {\n",
       "        vertical-align: top;\n",
       "    }\n",
       "\n",
       "    .dataframe thead th {\n",
       "        text-align: right;\n",
       "    }\n",
       "</style>\n",
       "<table border=\"1\" class=\"dataframe\">\n",
       "  <thead>\n",
       "    <tr style=\"text-align: right;\">\n",
       "      <th></th>\n",
       "      <th>ISBN</th>\n",
       "      <th>title</th>\n",
       "      <th>series</th>\n",
       "      <th>author</th>\n",
       "      <th>rating</th>\n",
       "      <th>genre</th>\n",
       "      <th>publish_date</th>\n",
       "      <th>publish_company</th>\n",
       "      <th>format</th>\n",
       "      <th>number_of_pages</th>\n",
       "      <th>publish_month</th>\n",
       "      <th>publish_year</th>\n",
       "      <th>NYT_bestseller</th>\n",
       "    </tr>\n",
       "  </thead>\n",
       "  <tbody>\n",
       "    <tr>\n",
       "      <th>398</th>\n",
       "      <td>9780061122415</td>\n",
       "      <td>The Alchemist</td>\n",
       "      <td>0</td>\n",
       "      <td>Paulo Coelho</td>\n",
       "      <td>3.85</td>\n",
       "      <td>fiction</td>\n",
       "      <td>May 1st 1993</td>\n",
       "      <td>HarperCollins (first published 1988)</td>\n",
       "      <td>Paperback</td>\n",
       "      <td>197</td>\n",
       "      <td>May</td>\n",
       "      <td>1993</td>\n",
       "      <td>1.0</td>\n",
       "    </tr>\n",
       "  </tbody>\n",
       "</table>\n",
       "</div>"
      ],
      "text/plain": [
       "              ISBN            title  series        author  rating    genre  \\\n",
       "398  9780061122415   The Alchemist        0  Paulo Coelho    3.85  fiction   \n",
       "\n",
       "     publish_date                       publish_company     format  \\\n",
       "398  May 1st 1993  HarperCollins (first published 1988)  Paperback   \n",
       "\n",
       "    number_of_pages publish_month publish_year  NYT_bestseller  \n",
       "398             197           May         1993             1.0  "
      ]
     },
     "execution_count": 238,
     "metadata": {},
     "output_type": "execute_result"
    }
   ],
   "source": [
    "# all fixed!\n",
    "\n",
    "full_df[full_df['publish_year'].str.contains(reg_ex_year) == False]"
   ]
  },
  {
   "cell_type": "code",
   "execution_count": 239,
   "metadata": {
    "scrolled": true
   },
   "outputs": [
    {
     "data": {
      "text/plain": [
       "58"
      ]
     },
     "execution_count": 239,
     "metadata": {},
     "output_type": "execute_result"
    }
   ],
   "source": [
    "# there are cases where some books are duplicated (58)- the one's shown below are from goodreads\n",
    "# and are encoded as not best sellers, evne though they really are since they also appear\n",
    "# in the NYT dataframe\n",
    "len(full_df[full_df.duplicated(subset='ISBN') == True])"
   ]
  },
  {
   "cell_type": "code",
   "execution_count": 240,
   "metadata": {},
   "outputs": [],
   "source": [
    "# make the duplicates a 1 in the NYT best seller column so they are TRULY the same rows\n",
    "# that way we can use duplicated to drop them and the result will be one copy\n",
    "full_df['NYT_bestseller'].loc[full_df.duplicated(subset='ISBN')==True] = 1"
   ]
  },
  {
   "cell_type": "code",
   "execution_count": 241,
   "metadata": {},
   "outputs": [],
   "source": [
    "full_df=full_df.drop_duplicates()"
   ]
  },
  {
   "cell_type": "code",
   "execution_count": 242,
   "metadata": {},
   "outputs": [
    {
     "data": {
      "text/plain": [
       "(1671, 13)"
      ]
     },
     "execution_count": 242,
     "metadata": {},
     "output_type": "execute_result"
    }
   ],
   "source": [
    "full_df.shape"
   ]
  },
  {
   "cell_type": "code",
   "execution_count": 243,
   "metadata": {},
   "outputs": [],
   "source": [
    "full_df.reset_index(drop=True, inplace=True)"
   ]
  },
  {
   "cell_type": "code",
   "execution_count": 244,
   "metadata": {},
   "outputs": [
    {
     "data": {
      "text/plain": [
       "RangeIndex(start=0, stop=1671, step=1)"
      ]
     },
     "execution_count": 244,
     "metadata": {},
     "output_type": "execute_result"
    }
   ],
   "source": [
    "full_df.index"
   ]
  },
  {
   "cell_type": "code",
   "execution_count": 245,
   "metadata": {},
   "outputs": [],
   "source": [
    "# all the titles have extra spaces - oops! let's fix that!\n",
    "full_df['title'] =[x.strip() for x in full_df['title']]"
   ]
  },
  {
   "cell_type": "code",
   "execution_count": 246,
   "metadata": {},
   "outputs": [],
   "source": [
    "# create new feature for number of characters in a title\n",
    "full_df['length_of_title'] = [len(x) for x in full_df['title']]"
   ]
  },
  {
   "cell_type": "code",
   "execution_count": 247,
   "metadata": {},
   "outputs": [],
   "source": [
    "# create new feature for number of words in a title\n",
    "full_df['num_words_in_title'] = [len(x.split()) for x in full_df['title']]"
   ]
  },
  {
   "cell_type": "code",
   "execution_count": 248,
   "metadata": {},
   "outputs": [
    {
     "data": {
      "text/plain": [
       "(array([  60,  120,  133,  133,  292,  340,  440,  530,  546,  557,  585,\n",
       "         632,  845,  860,  906,  909,  915,  932,  967,  969,  996, 1010,\n",
       "        1010, 1010, 1024, 1040, 1063, 1076, 1077, 1083, 1094, 1302, 1365,\n",
       "        1365, 1488, 1502, 1544, 1585, 1611, 1626]),\n",
       " array([9, 9, 5, 9, 9, 9, 8, 9, 9, 9, 7, 7, 7, 9, 9, 5, 5, 5, 7, 9, 6, 5,\n",
       "        7, 9, 7, 9, 7, 7, 9, 9, 7, 7, 7, 9, 5, 9, 9, 9, 9, 5]))"
      ]
     },
     "execution_count": 248,
     "metadata": {},
     "output_type": "execute_result"
    }
   ],
   "source": [
    "# because of how we scraped, there are null values in the df currently coded as strings\n",
    "import numpy as np\n",
    "np.where(full_df.applymap(lambda x: x == ''))"
   ]
  },
  {
   "cell_type": "code",
   "execution_count": 249,
   "metadata": {},
   "outputs": [],
   "source": [
    "# let's replace them with nan values \n",
    "full_df.replace(r'^\\s*$', np.nan, regex=True, inplace = True)"
   ]
  },
  {
   "cell_type": "code",
   "execution_count": 250,
   "metadata": {},
   "outputs": [
    {
     "data": {
      "text/plain": [
       "(array([], dtype=int64), array([], dtype=int64))"
      ]
     },
     "execution_count": 250,
     "metadata": {},
     "output_type": "execute_result"
    }
   ],
   "source": [
    "# now they are gone\n",
    "np.where(full_df.applymap(lambda x: x == ''))"
   ]
  },
  {
   "cell_type": "code",
   "execution_count": 251,
   "metadata": {},
   "outputs": [
    {
     "data": {
      "text/plain": [
       "ISBN                   0\n",
       "title                  0\n",
       "series                 0\n",
       "author                 0\n",
       "rating                 0\n",
       "genre                  7\n",
       "publish_date           1\n",
       "publish_company       11\n",
       "format                 1\n",
       "number_of_pages       20\n",
       "publish_month          0\n",
       "publish_year           5\n",
       "NYT_bestseller         0\n",
       "length_of_title        0\n",
       "num_words_in_title     0\n",
       "dtype: int64"
      ]
     },
     "execution_count": 251,
     "metadata": {},
     "output_type": "execute_result"
    }
   ],
   "source": [
    "# let's see the empty values now\n",
    "full_df.isna().sum()"
   ]
  },
  {
   "cell_type": "code",
   "execution_count": 252,
   "metadata": {},
   "outputs": [
    {
     "data": {
      "text/html": [
       "<div>\n",
       "<style scoped>\n",
       "    .dataframe tbody tr th:only-of-type {\n",
       "        vertical-align: middle;\n",
       "    }\n",
       "\n",
       "    .dataframe tbody tr th {\n",
       "        vertical-align: top;\n",
       "    }\n",
       "\n",
       "    .dataframe thead th {\n",
       "        text-align: right;\n",
       "    }\n",
       "</style>\n",
       "<table border=\"1\" class=\"dataframe\">\n",
       "  <thead>\n",
       "    <tr style=\"text-align: right;\">\n",
       "      <th></th>\n",
       "      <th>ISBN</th>\n",
       "      <th>title</th>\n",
       "      <th>series</th>\n",
       "      <th>author</th>\n",
       "      <th>rating</th>\n",
       "      <th>genre</th>\n",
       "      <th>publish_date</th>\n",
       "      <th>publish_company</th>\n",
       "      <th>format</th>\n",
       "      <th>number_of_pages</th>\n",
       "      <th>publish_month</th>\n",
       "      <th>publish_year</th>\n",
       "      <th>NYT_bestseller</th>\n",
       "      <th>length_of_title</th>\n",
       "      <th>num_words_in_title</th>\n",
       "    </tr>\n",
       "  </thead>\n",
       "  <tbody>\n",
       "    <tr>\n",
       "      <th>996</th>\n",
       "      <td>9781927990216</td>\n",
       "      <td>Prime Meridian</td>\n",
       "      <td>0</td>\n",
       "      <td>Silvia Moreno-Garcia</td>\n",
       "      <td>4.03</td>\n",
       "      <td>science-fiction</td>\n",
       "      <td>NaN</td>\n",
       "      <td>Innsmouth Free Press (first published December...</td>\n",
       "      <td>Paperback</td>\n",
       "      <td>122</td>\n",
       "      <td>July</td>\n",
       "      <td>2018</td>\n",
       "      <td>0.0</td>\n",
       "      <td>14</td>\n",
       "      <td>2</td>\n",
       "    </tr>\n",
       "  </tbody>\n",
       "</table>\n",
       "</div>"
      ],
      "text/plain": [
       "              ISBN           title  series                author  rating  \\\n",
       "996  9781927990216  Prime Meridian       0  Silvia Moreno-Garcia    4.03   \n",
       "\n",
       "               genre publish_date  \\\n",
       "996  science-fiction          NaN   \n",
       "\n",
       "                                       publish_company     format  \\\n",
       "996  Innsmouth Free Press (first published December...  Paperback   \n",
       "\n",
       "    number_of_pages publish_month publish_year  NYT_bestseller  \\\n",
       "996             122          July         2018             0.0   \n",
       "\n",
       "     length_of_title  num_words_in_title  \n",
       "996               14                   2  "
      ]
     },
     "execution_count": 252,
     "metadata": {},
     "output_type": "execute_result"
    }
   ],
   "source": [
    "# deal with empty values\n",
    "full_df[full_df['publish_date'].isna()]\n",
    "# this is fine we manually fixed the month and year columns already"
   ]
  },
  {
   "cell_type": "code",
   "execution_count": 253,
   "metadata": {},
   "outputs": [
    {
     "data": {
      "text/html": [
       "<div>\n",
       "<style scoped>\n",
       "    .dataframe tbody tr th:only-of-type {\n",
       "        vertical-align: middle;\n",
       "    }\n",
       "\n",
       "    .dataframe tbody tr th {\n",
       "        vertical-align: top;\n",
       "    }\n",
       "\n",
       "    .dataframe thead th {\n",
       "        text-align: right;\n",
       "    }\n",
       "</style>\n",
       "<table border=\"1\" class=\"dataframe\">\n",
       "  <thead>\n",
       "    <tr style=\"text-align: right;\">\n",
       "      <th></th>\n",
       "      <th>ISBN</th>\n",
       "      <th>title</th>\n",
       "      <th>series</th>\n",
       "      <th>author</th>\n",
       "      <th>rating</th>\n",
       "      <th>genre</th>\n",
       "      <th>publish_date</th>\n",
       "      <th>publish_company</th>\n",
       "      <th>format</th>\n",
       "      <th>number_of_pages</th>\n",
       "      <th>publish_month</th>\n",
       "      <th>publish_year</th>\n",
       "      <th>NYT_bestseller</th>\n",
       "      <th>length_of_title</th>\n",
       "      <th>num_words_in_title</th>\n",
       "    </tr>\n",
       "  </thead>\n",
       "  <tbody>\n",
       "    <tr>\n",
       "      <th>26</th>\n",
       "      <td>9780061792663</td>\n",
       "      <td>American Gods</td>\n",
       "      <td>1</td>\n",
       "      <td>Neil Gaiman</td>\n",
       "      <td>4.11</td>\n",
       "      <td>fantasy</td>\n",
       "      <td>June 2001</td>\n",
       "      <td>HarperCollins e-books</td>\n",
       "      <td>ebook</td>\n",
       "      <td>541</td>\n",
       "      <td>June</td>\n",
       "      <td>None</td>\n",
       "      <td>1.0</td>\n",
       "      <td>13</td>\n",
       "      <td>2</td>\n",
       "    </tr>\n",
       "    <tr>\n",
       "      <th>436</th>\n",
       "      <td>9781594633669</td>\n",
       "      <td>The Girl on the Train</td>\n",
       "      <td>0</td>\n",
       "      <td>Paula Hawkins</td>\n",
       "      <td>3.91</td>\n",
       "      <td>fiction</td>\n",
       "      <td>April 2019</td>\n",
       "      <td>Riverhead Books (first published January 13th ...</td>\n",
       "      <td>Hardcover</td>\n",
       "      <td>336</td>\n",
       "      <td>April</td>\n",
       "      <td>None</td>\n",
       "      <td>1.0</td>\n",
       "      <td>21</td>\n",
       "      <td>5</td>\n",
       "    </tr>\n",
       "    <tr>\n",
       "      <th>690</th>\n",
       "      <td>9781760293512</td>\n",
       "      <td>Frogkisser!</td>\n",
       "      <td>0</td>\n",
       "      <td>Garth Nix</td>\n",
       "      <td>3.77</td>\n",
       "      <td>fantasy</td>\n",
       "      <td>March 2017</td>\n",
       "      <td>Allen &amp; Unwin (first published February 28th 2...</td>\n",
       "      <td>Paperback</td>\n",
       "      <td>336</td>\n",
       "      <td>March</td>\n",
       "      <td>None</td>\n",
       "      <td>0.0</td>\n",
       "      <td>11</td>\n",
       "      <td>1</td>\n",
       "    </tr>\n",
       "    <tr>\n",
       "      <th>1002</th>\n",
       "      <td>9781612196015</td>\n",
       "      <td>Why I Am Not a Feminist: A Feminist Manifesto</td>\n",
       "      <td>0</td>\n",
       "      <td>Jessa Crispin</td>\n",
       "      <td>3.54</td>\n",
       "      <td>feminism</td>\n",
       "      <td>February 2017</td>\n",
       "      <td>Melville House</td>\n",
       "      <td>Paperback</td>\n",
       "      <td>151</td>\n",
       "      <td>February</td>\n",
       "      <td>None</td>\n",
       "      <td>0.0</td>\n",
       "      <td>45</td>\n",
       "      <td>9</td>\n",
       "    </tr>\n",
       "    <tr>\n",
       "      <th>1101</th>\n",
       "      <td>9781335014900</td>\n",
       "      <td>As I Am</td>\n",
       "      <td>1</td>\n",
       "      <td>A.M. Arthur</td>\n",
       "      <td>4.03</td>\n",
       "      <td>romance</td>\n",
       "      <td>March 2017</td>\n",
       "      <td>Carina Press (first published February 13th 2017)</td>\n",
       "      <td>Paperback</td>\n",
       "      <td>368</td>\n",
       "      <td>March</td>\n",
       "      <td>None</td>\n",
       "      <td>0.0</td>\n",
       "      <td>7</td>\n",
       "      <td>3</td>\n",
       "    </tr>\n",
       "  </tbody>\n",
       "</table>\n",
       "</div>"
      ],
      "text/plain": [
       "               ISBN                                          title  series  \\\n",
       "26    9780061792663                                  American Gods       1   \n",
       "436   9781594633669                          The Girl on the Train       0   \n",
       "690   9781760293512                                    Frogkisser!       0   \n",
       "1002  9781612196015  Why I Am Not a Feminist: A Feminist Manifesto       0   \n",
       "1101  9781335014900                                        As I Am       1   \n",
       "\n",
       "             author  rating     genre   publish_date  \\\n",
       "26      Neil Gaiman    4.11   fantasy      June 2001   \n",
       "436   Paula Hawkins    3.91   fiction     April 2019   \n",
       "690       Garth Nix    3.77   fantasy     March 2017   \n",
       "1002  Jessa Crispin    3.54  feminism  February 2017   \n",
       "1101    A.M. Arthur    4.03   romance     March 2017   \n",
       "\n",
       "                                        publish_company     format  \\\n",
       "26                                HarperCollins e-books      ebook   \n",
       "436   Riverhead Books (first published January 13th ...  Hardcover   \n",
       "690   Allen & Unwin (first published February 28th 2...  Paperback   \n",
       "1002                                     Melville House  Paperback   \n",
       "1101  Carina Press (first published February 13th 2017)  Paperback   \n",
       "\n",
       "     number_of_pages publish_month publish_year  NYT_bestseller  \\\n",
       "26               541          June         None             1.0   \n",
       "436              336         April         None             1.0   \n",
       "690              336         March         None             0.0   \n",
       "1002             151      February         None             0.0   \n",
       "1101             368         March         None             0.0   \n",
       "\n",
       "      length_of_title  num_words_in_title  \n",
       "26                 13                   2  \n",
       "436                21                   5  \n",
       "690                11                   1  \n",
       "1002               45                   9  \n",
       "1101                7                   3  "
      ]
     },
     "execution_count": 253,
     "metadata": {},
     "output_type": "execute_result"
    }
   ],
   "source": [
    "full_df[full_df['publish_year'].isna()]"
   ]
  },
  {
   "cell_type": "code",
   "execution_count": 254,
   "metadata": {
    "scrolled": true
   },
   "outputs": [],
   "source": [
    "# manually fix these\n",
    "\n",
    "full_df['publish_year'].loc[full_df['ISBN'] == '9780061792663'] = '2001'\n",
    "full_df['publish_year'].loc[full_df['ISBN'] == '9781594633669'] = '2019'\n",
    "full_df['publish_year'].loc[full_df['ISBN'] == '9781760293512'] = '2017'\n",
    "full_df['publish_year'].loc[full_df['ISBN'] == '9781612196015'] = '2017'\n",
    "full_df['publish_year'].loc[full_df['ISBN'] == '9781335014900'] = '2017'"
   ]
  },
  {
   "cell_type": "code",
   "execution_count": 256,
   "metadata": {},
   "outputs": [
    {
     "data": {
      "text/html": [
       "<div>\n",
       "<style scoped>\n",
       "    .dataframe tbody tr th:only-of-type {\n",
       "        vertical-align: middle;\n",
       "    }\n",
       "\n",
       "    .dataframe tbody tr th {\n",
       "        vertical-align: top;\n",
       "    }\n",
       "\n",
       "    .dataframe thead th {\n",
       "        text-align: right;\n",
       "    }\n",
       "</style>\n",
       "<table border=\"1\" class=\"dataframe\">\n",
       "  <thead>\n",
       "    <tr style=\"text-align: right;\">\n",
       "      <th></th>\n",
       "      <th>ISBN</th>\n",
       "      <th>title</th>\n",
       "      <th>series</th>\n",
       "      <th>author</th>\n",
       "      <th>rating</th>\n",
       "      <th>genre</th>\n",
       "      <th>publish_date</th>\n",
       "      <th>publish_company</th>\n",
       "      <th>format</th>\n",
       "      <th>number_of_pages</th>\n",
       "      <th>publish_month</th>\n",
       "      <th>publish_year</th>\n",
       "      <th>NYT_bestseller</th>\n",
       "      <th>length_of_title</th>\n",
       "      <th>num_words_in_title</th>\n",
       "    </tr>\n",
       "  </thead>\n",
       "  <tbody>\n",
       "    <tr>\n",
       "      <th>133</th>\n",
       "      <td>9781621576785</td>\n",
       "      <td>How to Achieve</td>\n",
       "      <td>0</td>\n",
       "      <td>Vince M Bertram</td>\n",
       "      <td>3.50</td>\n",
       "      <td>NaN</td>\n",
       "      <td>August 1st 2017</td>\n",
       "      <td>Regnery Publishing</td>\n",
       "      <td>Hardcover</td>\n",
       "      <td>NaN</td>\n",
       "      <td>August</td>\n",
       "      <td>2017</td>\n",
       "      <td>1.0</td>\n",
       "      <td>14</td>\n",
       "      <td>3</td>\n",
       "    </tr>\n",
       "    <tr>\n",
       "      <th>909</th>\n",
       "      <td>9781912551118</td>\n",
       "      <td>Walk Quiet Run Quick</td>\n",
       "      <td>0</td>\n",
       "      <td>Jacqueline   Francis</td>\n",
       "      <td>2.50</td>\n",
       "      <td>NaN</td>\n",
       "      <td>March 3rd 2018</td>\n",
       "      <td>Conscious Dreams Publishing (first published 2...</td>\n",
       "      <td>Paperback</td>\n",
       "      <td>164</td>\n",
       "      <td>March</td>\n",
       "      <td>2018</td>\n",
       "      <td>0.0</td>\n",
       "      <td>20</td>\n",
       "      <td>4</td>\n",
       "    </tr>\n",
       "    <tr>\n",
       "      <th>915</th>\n",
       "      <td>9781522072942</td>\n",
       "      <td>The Hackers Code: The Great Prison Escape Proj...</td>\n",
       "      <td>0</td>\n",
       "      <td>A.K. Mars</td>\n",
       "      <td>4.67</td>\n",
       "      <td>NaN</td>\n",
       "      <td>August 13th 2017</td>\n",
       "      <td>A. K. MARS</td>\n",
       "      <td>Paperback</td>\n",
       "      <td>288</td>\n",
       "      <td>August</td>\n",
       "      <td>2017</td>\n",
       "      <td>0.0</td>\n",
       "      <td>78</td>\n",
       "      <td>15</td>\n",
       "    </tr>\n",
       "    <tr>\n",
       "      <th>932</th>\n",
       "      <td>9781978493162</td>\n",
       "      <td>New Trump Order: Get In, Fit in or Step Aside</td>\n",
       "      <td>0</td>\n",
       "      <td>America Speaks</td>\n",
       "      <td>5.00</td>\n",
       "      <td>NaN</td>\n",
       "      <td>October 19th 2017</td>\n",
       "      <td>Createspace</td>\n",
       "      <td>Paperback</td>\n",
       "      <td>266</td>\n",
       "      <td>October</td>\n",
       "      <td>2017</td>\n",
       "      <td>0.0</td>\n",
       "      <td>45</td>\n",
       "      <td>10</td>\n",
       "    </tr>\n",
       "    <tr>\n",
       "      <th>1010</th>\n",
       "      <td>9781897913949</td>\n",
       "      <td>Incorruption</td>\n",
       "      <td>0</td>\n",
       "      <td>Jack McGinnigle</td>\n",
       "      <td>4.00</td>\n",
       "      <td>NaN</td>\n",
       "      <td>February 7th 2017</td>\n",
       "      <td>NaN</td>\n",
       "      <td>Paperback</td>\n",
       "      <td>NaN</td>\n",
       "      <td>February</td>\n",
       "      <td>2017</td>\n",
       "      <td>0.0</td>\n",
       "      <td>12</td>\n",
       "      <td>1</td>\n",
       "    </tr>\n",
       "    <tr>\n",
       "      <th>1488</th>\n",
       "      <td>9782021377613</td>\n",
       "      <td>Les vacances du petit Renard</td>\n",
       "      <td>0</td>\n",
       "      <td>Arthur Cahn</td>\n",
       "      <td>3.29</td>\n",
       "      <td>NaN</td>\n",
       "      <td>January 4th 2018</td>\n",
       "      <td>Le Seuil</td>\n",
       "      <td>Kindle Edition</td>\n",
       "      <td>192</td>\n",
       "      <td>January</td>\n",
       "      <td>2018</td>\n",
       "      <td>0.0</td>\n",
       "      <td>28</td>\n",
       "      <td>5</td>\n",
       "    </tr>\n",
       "    <tr>\n",
       "      <th>1626</th>\n",
       "      <td>9781725040304</td>\n",
       "      <td>Knitting in the City Coloring Book</td>\n",
       "      <td>1</td>\n",
       "      <td>Penny Reid</td>\n",
       "      <td>4.82</td>\n",
       "      <td>NaN</td>\n",
       "      <td>September 17th 2018</td>\n",
       "      <td>CreateSpace (first published September 11th 2018)</td>\n",
       "      <td>Paperback</td>\n",
       "      <td>66</td>\n",
       "      <td>September</td>\n",
       "      <td>2018</td>\n",
       "      <td>0.0</td>\n",
       "      <td>34</td>\n",
       "      <td>6</td>\n",
       "    </tr>\n",
       "  </tbody>\n",
       "</table>\n",
       "</div>"
      ],
      "text/plain": [
       "               ISBN                                              title  \\\n",
       "133   9781621576785                                     How to Achieve   \n",
       "909   9781912551118                               Walk Quiet Run Quick   \n",
       "915   9781522072942  The Hackers Code: The Great Prison Escape Proj...   \n",
       "932   9781978493162      New Trump Order: Get In, Fit in or Step Aside   \n",
       "1010  9781897913949                                       Incorruption   \n",
       "1488  9782021377613                       Les vacances du petit Renard   \n",
       "1626  9781725040304                 Knitting in the City Coloring Book   \n",
       "\n",
       "      series                author  rating genre         publish_date  \\\n",
       "133        0       Vince M Bertram    3.50   NaN      August 1st 2017   \n",
       "909        0  Jacqueline   Francis    2.50   NaN       March 3rd 2018   \n",
       "915        0             A.K. Mars    4.67   NaN     August 13th 2017   \n",
       "932        0        America Speaks    5.00   NaN    October 19th 2017   \n",
       "1010       0       Jack McGinnigle    4.00   NaN   February 7th 2017    \n",
       "1488       0           Arthur Cahn    3.29   NaN     January 4th 2018   \n",
       "1626       1            Penny Reid    4.82   NaN  September 17th 2018   \n",
       "\n",
       "                                        publish_company          format  \\\n",
       "133                                  Regnery Publishing       Hardcover   \n",
       "909   Conscious Dreams Publishing (first published 2...       Paperback   \n",
       "915                                          A. K. MARS       Paperback   \n",
       "932                                         Createspace       Paperback   \n",
       "1010                                                NaN       Paperback   \n",
       "1488                                           Le Seuil  Kindle Edition   \n",
       "1626  CreateSpace (first published September 11th 2018)       Paperback   \n",
       "\n",
       "     number_of_pages publish_month publish_year  NYT_bestseller  \\\n",
       "133              NaN        August         2017             1.0   \n",
       "909              164         March         2018             0.0   \n",
       "915              288        August         2017             0.0   \n",
       "932              266       October         2017             0.0   \n",
       "1010             NaN      February        2017              0.0   \n",
       "1488             192       January         2018             0.0   \n",
       "1626              66     September         2018             0.0   \n",
       "\n",
       "      length_of_title  num_words_in_title  \n",
       "133                14                   3  \n",
       "909                20                   4  \n",
       "915                78                  15  \n",
       "932                45                  10  \n",
       "1010               12                   1  \n",
       "1488               28                   5  \n",
       "1626               34                   6  "
      ]
     },
     "execution_count": 256,
     "metadata": {},
     "output_type": "execute_result"
    }
   ],
   "source": [
    "# let's drop these since genre is missing and the genre reflected in the rest of teh datafarme\n",
    "# was taken from goodreads and based on peoples votes - genre is subjective (for our data)\n",
    "full_df[full_df['genre'].isna()]"
   ]
  },
  {
   "cell_type": "code",
   "execution_count": 263,
   "metadata": {},
   "outputs": [],
   "source": [
    "full_df.dropna(subset=['genre'], inplace=True)"
   ]
  },
  {
   "cell_type": "code",
   "execution_count": 264,
   "metadata": {},
   "outputs": [
    {
     "data": {
      "text/html": [
       "<div>\n",
       "<style scoped>\n",
       "    .dataframe tbody tr th:only-of-type {\n",
       "        vertical-align: middle;\n",
       "    }\n",
       "\n",
       "    .dataframe tbody tr th {\n",
       "        vertical-align: top;\n",
       "    }\n",
       "\n",
       "    .dataframe thead th {\n",
       "        text-align: right;\n",
       "    }\n",
       "</style>\n",
       "<table border=\"1\" class=\"dataframe\">\n",
       "  <thead>\n",
       "    <tr style=\"text-align: right;\">\n",
       "      <th></th>\n",
       "      <th>ISBN</th>\n",
       "      <th>title</th>\n",
       "      <th>series</th>\n",
       "      <th>author</th>\n",
       "      <th>rating</th>\n",
       "      <th>genre</th>\n",
       "      <th>publish_date</th>\n",
       "      <th>publish_company</th>\n",
       "      <th>format</th>\n",
       "      <th>number_of_pages</th>\n",
       "      <th>publish_month</th>\n",
       "      <th>publish_year</th>\n",
       "      <th>NYT_bestseller</th>\n",
       "      <th>length_of_title</th>\n",
       "      <th>num_words_in_title</th>\n",
       "    </tr>\n",
       "  </thead>\n",
       "  <tbody>\n",
       "  </tbody>\n",
       "</table>\n",
       "</div>"
      ],
      "text/plain": [
       "Empty DataFrame\n",
       "Columns: [ISBN, title, series, author, rating, genre, publish_date, publish_company, format, number_of_pages, publish_month, publish_year, NYT_bestseller, length_of_title, num_words_in_title]\n",
       "Index: []"
      ]
     },
     "execution_count": 264,
     "metadata": {},
     "output_type": "execute_result"
    }
   ],
   "source": [
    "# they're gone!\n",
    "full_df[full_df['genre'].isna()]"
   ]
  },
  {
   "cell_type": "markdown",
   "metadata": {},
   "source": [
    "### Data exploration"
   ]
  },
  {
   "cell_type": "code",
   "execution_count": null,
   "metadata": {},
   "outputs": [],
   "source": [
    "pd.crosstab(full_df.genre, full_df.NYT_bestseller, normalize='index')"
   ]
  },
  {
   "cell_type": "markdown",
   "metadata": {},
   "source": [
    "# Modeling"
   ]
  },
  {
   "cell_type": "markdown",
   "metadata": {},
   "source": [
    "### Model 1: Logistic Regression"
   ]
  },
  {
   "cell_type": "code",
   "execution_count": null,
   "metadata": {},
   "outputs": [],
   "source": []
  },
  {
   "cell_type": "markdown",
   "metadata": {},
   "source": [
    "### Model 2: Decision Tree"
   ]
  },
  {
   "cell_type": "markdown",
   "metadata": {},
   "source": [
    "### Model 3: Random Forest"
   ]
  },
  {
   "cell_type": "markdown",
   "metadata": {},
   "source": [
    "### Model 4: XGBoost"
   ]
  },
  {
   "cell_type": "markdown",
   "metadata": {},
   "source": [
    "### Grid search - tuning hyperparamters"
   ]
  }
 ],
 "metadata": {
  "kernelspec": {
   "display_name": "Python 3",
   "language": "python",
   "name": "python3"
  },
  "language_info": {
   "codemirror_mode": {
    "name": "ipython",
    "version": 3
   },
   "file_extension": ".py",
   "mimetype": "text/x-python",
   "name": "python",
   "nbconvert_exporter": "python",
   "pygments_lexer": "ipython3",
   "version": "3.7.3"
  }
 },
 "nbformat": 4,
 "nbformat_minor": 2
}

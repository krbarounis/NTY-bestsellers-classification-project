{
 "cells": [
  {
   "cell_type": "code",
   "execution_count": 101,
   "metadata": {},
   "outputs": [],
   "source": [
    "import pandas as pd"
   ]
  },
  {
   "cell_type": "code",
   "execution_count": 102,
   "metadata": {},
   "outputs": [],
   "source": [
    "df = pd.read_csv('final_dataframe.csv',index_col=0)"
   ]
  },
  {
   "cell_type": "code",
   "execution_count": 41,
   "metadata": {
    "scrolled": true
   },
   "outputs": [
    {
     "data": {
      "text/html": [
       "<div>\n",
       "<style scoped>\n",
       "    .dataframe tbody tr th:only-of-type {\n",
       "        vertical-align: middle;\n",
       "    }\n",
       "\n",
       "    .dataframe tbody tr th {\n",
       "        vertical-align: top;\n",
       "    }\n",
       "\n",
       "    .dataframe thead th {\n",
       "        text-align: right;\n",
       "    }\n",
       "</style>\n",
       "<table border=\"1\" class=\"dataframe\">\n",
       "  <thead>\n",
       "    <tr style=\"text-align: right;\">\n",
       "      <th></th>\n",
       "      <th>ISBN</th>\n",
       "      <th>title</th>\n",
       "      <th>series</th>\n",
       "      <th>author</th>\n",
       "      <th>rating</th>\n",
       "      <th>genre</th>\n",
       "      <th>publish_date</th>\n",
       "      <th>publish_company</th>\n",
       "      <th>format</th>\n",
       "      <th>number_of_pages</th>\n",
       "      <th>publish_month</th>\n",
       "      <th>publish_year</th>\n",
       "      <th>NYT_bestseller</th>\n",
       "      <th>length_of_title</th>\n",
       "      <th>num_words_in_title</th>\n",
       "      <th>top_authors</th>\n",
       "    </tr>\n",
       "  </thead>\n",
       "  <tbody>\n",
       "    <tr>\n",
       "      <th>0</th>\n",
       "      <td>9781419726552</td>\n",
       "      <td>F*ck, That's Delicious: An Annotated Guide to ...</td>\n",
       "      <td>0</td>\n",
       "      <td>Action Bronson</td>\n",
       "      <td>4.17</td>\n",
       "      <td>food-and-drink</td>\n",
       "      <td>September 12th 2017</td>\n",
       "      <td>Harry N. Abrams</td>\n",
       "      <td>Hardcover</td>\n",
       "      <td>192</td>\n",
       "      <td>September</td>\n",
       "      <td>2017</td>\n",
       "      <td>1.0</td>\n",
       "      <td>57</td>\n",
       "      <td>9</td>\n",
       "      <td>0</td>\n",
       "    </tr>\n",
       "    <tr>\n",
       "      <th>1</th>\n",
       "      <td>9780982301821</td>\n",
       "      <td>10-Day Green Smoothie Cleanse: Lose Up to 15 P...</td>\n",
       "      <td>0</td>\n",
       "      <td>J.J. Smith</td>\n",
       "      <td>4.11</td>\n",
       "      <td>health</td>\n",
       "      <td>February 9th 2014</td>\n",
       "      <td>Adiva Publishing</td>\n",
       "      <td>Paperback</td>\n",
       "      <td>167</td>\n",
       "      <td>February</td>\n",
       "      <td>2014</td>\n",
       "      <td>1.0</td>\n",
       "      <td>63</td>\n",
       "      <td>12</td>\n",
       "      <td>0</td>\n",
       "    </tr>\n",
       "    <tr>\n",
       "      <th>2</th>\n",
       "      <td>9780316407076</td>\n",
       "      <td>15th Affair</td>\n",
       "      <td>1</td>\n",
       "      <td>James Patterson</td>\n",
       "      <td>4.09</td>\n",
       "      <td>mystery</td>\n",
       "      <td>May 2nd 2016</td>\n",
       "      <td>Hachette</td>\n",
       "      <td>Hardcover</td>\n",
       "      <td>351</td>\n",
       "      <td>May</td>\n",
       "      <td>2016</td>\n",
       "      <td>1.0</td>\n",
       "      <td>11</td>\n",
       "      <td>2</td>\n",
       "      <td>1</td>\n",
       "    </tr>\n",
       "    <tr>\n",
       "      <th>3</th>\n",
       "      <td>9780718088804</td>\n",
       "      <td>42 Faith: The Rest of the Jackie Robinson Story</td>\n",
       "      <td>0</td>\n",
       "      <td>Ed Henry</td>\n",
       "      <td>4.16</td>\n",
       "      <td>biography</td>\n",
       "      <td>April 4th 2017</td>\n",
       "      <td>Harper Collins</td>\n",
       "      <td>Hardcover</td>\n",
       "      <td>368</td>\n",
       "      <td>April</td>\n",
       "      <td>2017</td>\n",
       "      <td>1.0</td>\n",
       "      <td>47</td>\n",
       "      <td>9</td>\n",
       "      <td>0</td>\n",
       "    </tr>\n",
       "    <tr>\n",
       "      <th>4</th>\n",
       "      <td>9780451495426</td>\n",
       "      <td>7 Lessons from Heaven: How Dying Taught Me to ...</td>\n",
       "      <td>0</td>\n",
       "      <td>Mary C. Neal</td>\n",
       "      <td>4.08</td>\n",
       "      <td>non-fiction</td>\n",
       "      <td>September 19th 2017</td>\n",
       "      <td>Convergent Books</td>\n",
       "      <td>Paperback</td>\n",
       "      <td>288</td>\n",
       "      <td>September</td>\n",
       "      <td>2017</td>\n",
       "      <td>1.0</td>\n",
       "      <td>68</td>\n",
       "      <td>13</td>\n",
       "      <td>0</td>\n",
       "    </tr>\n",
       "  </tbody>\n",
       "</table>\n",
       "</div>"
      ],
      "text/plain": [
       "            ISBN                                              title  series  \\\n",
       "0  9781419726552  F*ck, That's Delicious: An Annotated Guide to ...       0   \n",
       "1  9780982301821  10-Day Green Smoothie Cleanse: Lose Up to 15 P...       0   \n",
       "2  9780316407076                                        15th Affair       1   \n",
       "3  9780718088804    42 Faith: The Rest of the Jackie Robinson Story       0   \n",
       "4  9780451495426  7 Lessons from Heaven: How Dying Taught Me to ...       0   \n",
       "\n",
       "            author  rating           genre         publish_date  \\\n",
       "0   Action Bronson    4.17  food-and-drink  September 12th 2017   \n",
       "1       J.J. Smith    4.11          health    February 9th 2014   \n",
       "2  James Patterson    4.09         mystery         May 2nd 2016   \n",
       "3         Ed Henry    4.16       biography       April 4th 2017   \n",
       "4     Mary C. Neal    4.08     non-fiction  September 19th 2017   \n",
       "\n",
       "     publish_company     format  number_of_pages publish_month  publish_year  \\\n",
       "0    Harry N. Abrams  Hardcover              192     September          2017   \n",
       "1  Adiva Publishing   Paperback              167      February          2014   \n",
       "2           Hachette  Hardcover              351           May          2016   \n",
       "3     Harper Collins  Hardcover              368         April          2017   \n",
       "4   Convergent Books  Paperback              288     September          2017   \n",
       "\n",
       "   NYT_bestseller  length_of_title  num_words_in_title  top_authors  \n",
       "0             1.0               57                   9            0  \n",
       "1             1.0               63                  12            0  \n",
       "2             1.0               11                   2            1  \n",
       "3             1.0               47                   9            0  \n",
       "4             1.0               68                  13            0  "
      ]
     },
     "execution_count": 41,
     "metadata": {},
     "output_type": "execute_result"
    }
   ],
   "source": [
    "df.head()"
   ]
  },
  {
   "cell_type": "code",
   "execution_count": 42,
   "metadata": {
    "scrolled": true
   },
   "outputs": [
    {
     "name": "stdout",
     "output_type": "stream",
     "text": [
      "<class 'pandas.core.frame.DataFrame'>\n",
      "Int64Index: 1646 entries, 0 to 1670\n",
      "Data columns (total 16 columns):\n",
      "ISBN                  1646 non-null int64\n",
      "title                 1646 non-null object\n",
      "series                1646 non-null int64\n",
      "author                1646 non-null object\n",
      "rating                1646 non-null float64\n",
      "genre                 1646 non-null object\n",
      "publish_date          1645 non-null object\n",
      "publish_company       1637 non-null object\n",
      "format                1645 non-null object\n",
      "number_of_pages       1646 non-null int64\n",
      "publish_month         1646 non-null object\n",
      "publish_year          1646 non-null int64\n",
      "NYT_bestseller        1646 non-null float64\n",
      "length_of_title       1646 non-null int64\n",
      "num_words_in_title    1646 non-null int64\n",
      "top_authors           1646 non-null int64\n",
      "dtypes: float64(2), int64(7), object(7)\n",
      "memory usage: 218.6+ KB\n"
     ]
    }
   ],
   "source": [
    "df.info()"
   ]
  },
  {
   "cell_type": "markdown",
   "metadata": {},
   "source": [
    "# Set up for modeling"
   ]
  },
  {
   "cell_type": "code",
   "execution_count": 103,
   "metadata": {},
   "outputs": [],
   "source": [
    "# train, test, split\n",
    "from sklearn.model_selection import train_test_split"
   ]
  },
  {
   "cell_type": "code",
   "execution_count": 104,
   "metadata": {
    "scrolled": true
   },
   "outputs": [],
   "source": [
    "feats = ['series','rating','publish_month','length_of_title',\n",
    "         'publish_company','genre','num_words_in_title','top_authors']\n",
    "\n",
    "X = pd.get_dummies(df[feats], drop_first=True)"
   ]
  },
  {
   "cell_type": "code",
   "execution_count": 105,
   "metadata": {},
   "outputs": [],
   "source": [
    "# for publisher, genre, and month of publishing, i only want the \"important ones\"\n",
    "# which i have deemed to be anything where the count was over 10 \n",
    "\n",
    "X.drop([col for col, val in X.sum().iteritems() if val < 10], axis=1, inplace=True)"
   ]
  },
  {
   "cell_type": "code",
   "execution_count": 106,
   "metadata": {},
   "outputs": [
    {
     "data": {
      "text/plain": [
       "Index(['series', 'rating', 'length_of_title', 'num_words_in_title',\n",
       "       'top_authors', 'publish_month_August', 'publish_month_December',\n",
       "       'publish_month_February', 'publish_month_January', 'publish_month_July',\n",
       "       'publish_month_June', 'publish_month_March', 'publish_month_May',\n",
       "       'publish_month_November', 'publish_month_October',\n",
       "       'publish_month_September', 'publish_company_Hachette',\n",
       "       'publish_company_Harper Collins',\n",
       "       'publish_company_Houghton Mifflin Harcourt',\n",
       "       'publish_company_Macmillan', 'publish_company_Penguin Random House',\n",
       "       'publish_company_Simon & Schuster', 'genre_autobiography',\n",
       "       'genre_biography', 'genre_childrens', 'genre_contemporary',\n",
       "       'genre_fantasy', 'genre_fiction', 'genre_food-and-drink',\n",
       "       'genre_historical', 'genre_history', 'genre_horror',\n",
       "       'genre_media-tie-in', 'genre_mystery', 'genre_non-fiction',\n",
       "       'genre_poetry', 'genre_politics', 'genre_romance',\n",
       "       'genre_science-fiction', 'genre_sequential-art', 'genre_short-stories',\n",
       "       'genre_sports-and-games', 'genre_thriller', 'genre_young-adult'],\n",
       "      dtype='object')"
      ]
     },
     "execution_count": 106,
     "metadata": {},
     "output_type": "execute_result"
    }
   ],
   "source": [
    "X.columns"
   ]
  },
  {
   "cell_type": "code",
   "execution_count": 107,
   "metadata": {},
   "outputs": [],
   "source": [
    "# Y is the target variable\n",
    "Y = df['NYT_bestseller']"
   ]
  },
  {
   "cell_type": "code",
   "execution_count": 108,
   "metadata": {},
   "outputs": [
    {
     "data": {
      "text/html": [
       "<div>\n",
       "<style scoped>\n",
       "    .dataframe tbody tr th:only-of-type {\n",
       "        vertical-align: middle;\n",
       "    }\n",
       "\n",
       "    .dataframe tbody tr th {\n",
       "        vertical-align: top;\n",
       "    }\n",
       "\n",
       "    .dataframe thead th {\n",
       "        text-align: right;\n",
       "    }\n",
       "</style>\n",
       "<table border=\"1\" class=\"dataframe\">\n",
       "  <thead>\n",
       "    <tr style=\"text-align: right;\">\n",
       "      <th></th>\n",
       "      <th>series</th>\n",
       "      <th>rating</th>\n",
       "      <th>length_of_title</th>\n",
       "      <th>num_words_in_title</th>\n",
       "      <th>top_authors</th>\n",
       "      <th>publish_month_August</th>\n",
       "      <th>publish_month_December</th>\n",
       "      <th>publish_month_February</th>\n",
       "      <th>publish_month_January</th>\n",
       "      <th>publish_month_July</th>\n",
       "      <th>...</th>\n",
       "      <th>genre_non-fiction</th>\n",
       "      <th>genre_poetry</th>\n",
       "      <th>genre_politics</th>\n",
       "      <th>genre_romance</th>\n",
       "      <th>genre_science-fiction</th>\n",
       "      <th>genre_sequential-art</th>\n",
       "      <th>genre_short-stories</th>\n",
       "      <th>genre_sports-and-games</th>\n",
       "      <th>genre_thriller</th>\n",
       "      <th>genre_young-adult</th>\n",
       "    </tr>\n",
       "  </thead>\n",
       "  <tbody>\n",
       "    <tr>\n",
       "      <th>0</th>\n",
       "      <td>0</td>\n",
       "      <td>4.17</td>\n",
       "      <td>57</td>\n",
       "      <td>9</td>\n",
       "      <td>0</td>\n",
       "      <td>0</td>\n",
       "      <td>0</td>\n",
       "      <td>0</td>\n",
       "      <td>0</td>\n",
       "      <td>0</td>\n",
       "      <td>...</td>\n",
       "      <td>0</td>\n",
       "      <td>0</td>\n",
       "      <td>0</td>\n",
       "      <td>0</td>\n",
       "      <td>0</td>\n",
       "      <td>0</td>\n",
       "      <td>0</td>\n",
       "      <td>0</td>\n",
       "      <td>0</td>\n",
       "      <td>0</td>\n",
       "    </tr>\n",
       "    <tr>\n",
       "      <th>1</th>\n",
       "      <td>0</td>\n",
       "      <td>4.11</td>\n",
       "      <td>63</td>\n",
       "      <td>12</td>\n",
       "      <td>0</td>\n",
       "      <td>0</td>\n",
       "      <td>0</td>\n",
       "      <td>1</td>\n",
       "      <td>0</td>\n",
       "      <td>0</td>\n",
       "      <td>...</td>\n",
       "      <td>0</td>\n",
       "      <td>0</td>\n",
       "      <td>0</td>\n",
       "      <td>0</td>\n",
       "      <td>0</td>\n",
       "      <td>0</td>\n",
       "      <td>0</td>\n",
       "      <td>0</td>\n",
       "      <td>0</td>\n",
       "      <td>0</td>\n",
       "    </tr>\n",
       "    <tr>\n",
       "      <th>2</th>\n",
       "      <td>1</td>\n",
       "      <td>4.09</td>\n",
       "      <td>11</td>\n",
       "      <td>2</td>\n",
       "      <td>1</td>\n",
       "      <td>0</td>\n",
       "      <td>0</td>\n",
       "      <td>0</td>\n",
       "      <td>0</td>\n",
       "      <td>0</td>\n",
       "      <td>...</td>\n",
       "      <td>0</td>\n",
       "      <td>0</td>\n",
       "      <td>0</td>\n",
       "      <td>0</td>\n",
       "      <td>0</td>\n",
       "      <td>0</td>\n",
       "      <td>0</td>\n",
       "      <td>0</td>\n",
       "      <td>0</td>\n",
       "      <td>0</td>\n",
       "    </tr>\n",
       "    <tr>\n",
       "      <th>3</th>\n",
       "      <td>0</td>\n",
       "      <td>4.16</td>\n",
       "      <td>47</td>\n",
       "      <td>9</td>\n",
       "      <td>0</td>\n",
       "      <td>0</td>\n",
       "      <td>0</td>\n",
       "      <td>0</td>\n",
       "      <td>0</td>\n",
       "      <td>0</td>\n",
       "      <td>...</td>\n",
       "      <td>0</td>\n",
       "      <td>0</td>\n",
       "      <td>0</td>\n",
       "      <td>0</td>\n",
       "      <td>0</td>\n",
       "      <td>0</td>\n",
       "      <td>0</td>\n",
       "      <td>0</td>\n",
       "      <td>0</td>\n",
       "      <td>0</td>\n",
       "    </tr>\n",
       "    <tr>\n",
       "      <th>4</th>\n",
       "      <td>0</td>\n",
       "      <td>4.08</td>\n",
       "      <td>68</td>\n",
       "      <td>13</td>\n",
       "      <td>0</td>\n",
       "      <td>0</td>\n",
       "      <td>0</td>\n",
       "      <td>0</td>\n",
       "      <td>0</td>\n",
       "      <td>0</td>\n",
       "      <td>...</td>\n",
       "      <td>1</td>\n",
       "      <td>0</td>\n",
       "      <td>0</td>\n",
       "      <td>0</td>\n",
       "      <td>0</td>\n",
       "      <td>0</td>\n",
       "      <td>0</td>\n",
       "      <td>0</td>\n",
       "      <td>0</td>\n",
       "      <td>0</td>\n",
       "    </tr>\n",
       "  </tbody>\n",
       "</table>\n",
       "<p>5 rows × 44 columns</p>\n",
       "</div>"
      ],
      "text/plain": [
       "   series  rating  length_of_title  num_words_in_title  top_authors  \\\n",
       "0       0    4.17               57                   9            0   \n",
       "1       0    4.11               63                  12            0   \n",
       "2       1    4.09               11                   2            1   \n",
       "3       0    4.16               47                   9            0   \n",
       "4       0    4.08               68                  13            0   \n",
       "\n",
       "   publish_month_August  publish_month_December  publish_month_February  \\\n",
       "0                     0                       0                       0   \n",
       "1                     0                       0                       1   \n",
       "2                     0                       0                       0   \n",
       "3                     0                       0                       0   \n",
       "4                     0                       0                       0   \n",
       "\n",
       "   publish_month_January  publish_month_July  ...  genre_non-fiction  \\\n",
       "0                      0                   0  ...                  0   \n",
       "1                      0                   0  ...                  0   \n",
       "2                      0                   0  ...                  0   \n",
       "3                      0                   0  ...                  0   \n",
       "4                      0                   0  ...                  1   \n",
       "\n",
       "   genre_poetry  genre_politics  genre_romance  genre_science-fiction  \\\n",
       "0             0               0              0                      0   \n",
       "1             0               0              0                      0   \n",
       "2             0               0              0                      0   \n",
       "3             0               0              0                      0   \n",
       "4             0               0              0                      0   \n",
       "\n",
       "   genre_sequential-art  genre_short-stories  genre_sports-and-games  \\\n",
       "0                     0                    0                       0   \n",
       "1                     0                    0                       0   \n",
       "2                     0                    0                       0   \n",
       "3                     0                    0                       0   \n",
       "4                     0                    0                       0   \n",
       "\n",
       "   genre_thriller  genre_young-adult  \n",
       "0               0                  0  \n",
       "1               0                  0  \n",
       "2               0                  0  \n",
       "3               0                  0  \n",
       "4               0                  0  \n",
       "\n",
       "[5 rows x 44 columns]"
      ]
     },
     "execution_count": 108,
     "metadata": {},
     "output_type": "execute_result"
    }
   ],
   "source": [
    "X.head()"
   ]
  },
  {
   "cell_type": "code",
   "execution_count": 109,
   "metadata": {},
   "outputs": [
    {
     "data": {
      "text/html": [
       "<div>\n",
       "<style scoped>\n",
       "    .dataframe tbody tr th:only-of-type {\n",
       "        vertical-align: middle;\n",
       "    }\n",
       "\n",
       "    .dataframe tbody tr th {\n",
       "        vertical-align: top;\n",
       "    }\n",
       "\n",
       "    .dataframe thead th {\n",
       "        text-align: right;\n",
       "    }\n",
       "</style>\n",
       "<table border=\"1\" class=\"dataframe\">\n",
       "  <thead>\n",
       "    <tr style=\"text-align: right;\">\n",
       "      <th></th>\n",
       "      <th>series</th>\n",
       "      <th>rating</th>\n",
       "      <th>length_of_title</th>\n",
       "      <th>num_words_in_title</th>\n",
       "      <th>top_authors</th>\n",
       "      <th>publish_month_August</th>\n",
       "      <th>publish_month_December</th>\n",
       "      <th>publish_month_February</th>\n",
       "      <th>publish_month_January</th>\n",
       "      <th>publish_month_July</th>\n",
       "      <th>...</th>\n",
       "      <th>genre_non-fiction</th>\n",
       "      <th>genre_poetry</th>\n",
       "      <th>genre_politics</th>\n",
       "      <th>genre_romance</th>\n",
       "      <th>genre_science-fiction</th>\n",
       "      <th>genre_sequential-art</th>\n",
       "      <th>genre_short-stories</th>\n",
       "      <th>genre_sports-and-games</th>\n",
       "      <th>genre_thriller</th>\n",
       "      <th>genre_young-adult</th>\n",
       "    </tr>\n",
       "  </thead>\n",
       "  <tbody>\n",
       "    <tr>\n",
       "      <th>0</th>\n",
       "      <td>0.0</td>\n",
       "      <td>0.624434</td>\n",
       "      <td>0.295082</td>\n",
       "      <td>0.235294</td>\n",
       "      <td>0.0</td>\n",
       "      <td>0.0</td>\n",
       "      <td>0.0</td>\n",
       "      <td>0.0</td>\n",
       "      <td>0.0</td>\n",
       "      <td>0.0</td>\n",
       "      <td>...</td>\n",
       "      <td>0.0</td>\n",
       "      <td>0.0</td>\n",
       "      <td>0.0</td>\n",
       "      <td>0.0</td>\n",
       "      <td>0.0</td>\n",
       "      <td>0.0</td>\n",
       "      <td>0.0</td>\n",
       "      <td>0.0</td>\n",
       "      <td>0.0</td>\n",
       "      <td>0.0</td>\n",
       "    </tr>\n",
       "    <tr>\n",
       "      <th>1</th>\n",
       "      <td>0.0</td>\n",
       "      <td>0.597285</td>\n",
       "      <td>0.327869</td>\n",
       "      <td>0.323529</td>\n",
       "      <td>0.0</td>\n",
       "      <td>0.0</td>\n",
       "      <td>0.0</td>\n",
       "      <td>1.0</td>\n",
       "      <td>0.0</td>\n",
       "      <td>0.0</td>\n",
       "      <td>...</td>\n",
       "      <td>0.0</td>\n",
       "      <td>0.0</td>\n",
       "      <td>0.0</td>\n",
       "      <td>0.0</td>\n",
       "      <td>0.0</td>\n",
       "      <td>0.0</td>\n",
       "      <td>0.0</td>\n",
       "      <td>0.0</td>\n",
       "      <td>0.0</td>\n",
       "      <td>0.0</td>\n",
       "    </tr>\n",
       "    <tr>\n",
       "      <th>2</th>\n",
       "      <td>1.0</td>\n",
       "      <td>0.588235</td>\n",
       "      <td>0.043716</td>\n",
       "      <td>0.029412</td>\n",
       "      <td>1.0</td>\n",
       "      <td>0.0</td>\n",
       "      <td>0.0</td>\n",
       "      <td>0.0</td>\n",
       "      <td>0.0</td>\n",
       "      <td>0.0</td>\n",
       "      <td>...</td>\n",
       "      <td>0.0</td>\n",
       "      <td>0.0</td>\n",
       "      <td>0.0</td>\n",
       "      <td>0.0</td>\n",
       "      <td>0.0</td>\n",
       "      <td>0.0</td>\n",
       "      <td>0.0</td>\n",
       "      <td>0.0</td>\n",
       "      <td>0.0</td>\n",
       "      <td>0.0</td>\n",
       "    </tr>\n",
       "    <tr>\n",
       "      <th>3</th>\n",
       "      <td>0.0</td>\n",
       "      <td>0.619910</td>\n",
       "      <td>0.240437</td>\n",
       "      <td>0.235294</td>\n",
       "      <td>0.0</td>\n",
       "      <td>0.0</td>\n",
       "      <td>0.0</td>\n",
       "      <td>0.0</td>\n",
       "      <td>0.0</td>\n",
       "      <td>0.0</td>\n",
       "      <td>...</td>\n",
       "      <td>0.0</td>\n",
       "      <td>0.0</td>\n",
       "      <td>0.0</td>\n",
       "      <td>0.0</td>\n",
       "      <td>0.0</td>\n",
       "      <td>0.0</td>\n",
       "      <td>0.0</td>\n",
       "      <td>0.0</td>\n",
       "      <td>0.0</td>\n",
       "      <td>0.0</td>\n",
       "    </tr>\n",
       "    <tr>\n",
       "      <th>4</th>\n",
       "      <td>0.0</td>\n",
       "      <td>0.583710</td>\n",
       "      <td>0.355191</td>\n",
       "      <td>0.352941</td>\n",
       "      <td>0.0</td>\n",
       "      <td>0.0</td>\n",
       "      <td>0.0</td>\n",
       "      <td>0.0</td>\n",
       "      <td>0.0</td>\n",
       "      <td>0.0</td>\n",
       "      <td>...</td>\n",
       "      <td>1.0</td>\n",
       "      <td>0.0</td>\n",
       "      <td>0.0</td>\n",
       "      <td>0.0</td>\n",
       "      <td>0.0</td>\n",
       "      <td>0.0</td>\n",
       "      <td>0.0</td>\n",
       "      <td>0.0</td>\n",
       "      <td>0.0</td>\n",
       "      <td>0.0</td>\n",
       "    </tr>\n",
       "  </tbody>\n",
       "</table>\n",
       "<p>5 rows × 44 columns</p>\n",
       "</div>"
      ],
      "text/plain": [
       "   series    rating  length_of_title  num_words_in_title  top_authors  \\\n",
       "0     0.0  0.624434         0.295082            0.235294          0.0   \n",
       "1     0.0  0.597285         0.327869            0.323529          0.0   \n",
       "2     1.0  0.588235         0.043716            0.029412          1.0   \n",
       "3     0.0  0.619910         0.240437            0.235294          0.0   \n",
       "4     0.0  0.583710         0.355191            0.352941          0.0   \n",
       "\n",
       "   publish_month_August  publish_month_December  publish_month_February  \\\n",
       "0                   0.0                     0.0                     0.0   \n",
       "1                   0.0                     0.0                     1.0   \n",
       "2                   0.0                     0.0                     0.0   \n",
       "3                   0.0                     0.0                     0.0   \n",
       "4                   0.0                     0.0                     0.0   \n",
       "\n",
       "   publish_month_January  publish_month_July  ...  genre_non-fiction  \\\n",
       "0                    0.0                 0.0  ...                0.0   \n",
       "1                    0.0                 0.0  ...                0.0   \n",
       "2                    0.0                 0.0  ...                0.0   \n",
       "3                    0.0                 0.0  ...                0.0   \n",
       "4                    0.0                 0.0  ...                1.0   \n",
       "\n",
       "   genre_poetry  genre_politics  genre_romance  genre_science-fiction  \\\n",
       "0           0.0             0.0            0.0                    0.0   \n",
       "1           0.0             0.0            0.0                    0.0   \n",
       "2           0.0             0.0            0.0                    0.0   \n",
       "3           0.0             0.0            0.0                    0.0   \n",
       "4           0.0             0.0            0.0                    0.0   \n",
       "\n",
       "   genre_sequential-art  genre_short-stories  genre_sports-and-games  \\\n",
       "0                   0.0                  0.0                     0.0   \n",
       "1                   0.0                  0.0                     0.0   \n",
       "2                   0.0                  0.0                     0.0   \n",
       "3                   0.0                  0.0                     0.0   \n",
       "4                   0.0                  0.0                     0.0   \n",
       "\n",
       "   genre_thriller  genre_young-adult  \n",
       "0             0.0                0.0  \n",
       "1             0.0                0.0  \n",
       "2             0.0                0.0  \n",
       "3             0.0                0.0  \n",
       "4             0.0                0.0  \n",
       "\n",
       "[5 rows x 44 columns]"
      ]
     },
     "execution_count": 109,
     "metadata": {},
     "output_type": "execute_result"
    }
   ],
   "source": [
    "# normalize the features\n",
    "\n",
    "for col in X.columns:\n",
    "    X[col] = (X[col]-min(X[col]))/ (max(X[col]) - min(X[col])) \n",
    "\n",
    "#We subtract the minimum and divide by the range forcing a scale of 0 to 1 for each feature\n",
    "\n",
    "X.head()"
   ]
  },
  {
   "cell_type": "code",
   "execution_count": 110,
   "metadata": {},
   "outputs": [],
   "source": [
    "X_train, X_test, y_train, y_test = train_test_split(X, Y, test_size = 0.2)"
   ]
  },
  {
   "cell_type": "markdown",
   "metadata": {},
   "source": [
    "# Baseline: "
   ]
  },
  {
   "cell_type": "code",
   "execution_count": 116,
   "metadata": {},
   "outputs": [
    {
     "data": {
      "text/plain": [
       "0.0    0.665249\n",
       "1.0    0.334751\n",
       "Name: NYT_bestseller, dtype: float64"
      ]
     },
     "execution_count": 116,
     "metadata": {},
     "output_type": "execute_result"
    }
   ],
   "source": [
    "df['NYT_bestseller'].value_counts(normalize=True)"
   ]
  },
  {
   "cell_type": "code",
   "execution_count": null,
   "metadata": {},
   "outputs": [],
   "source": [
    "# i need my model to perform better than guessing not best seller every time! (aka 67%)"
   ]
  },
  {
   "cell_type": "markdown",
   "metadata": {},
   "source": [
    "# Model 1: Logistic Regression"
   ]
  },
  {
   "cell_type": "code",
   "execution_count": 78,
   "metadata": {},
   "outputs": [],
   "source": [
    "from sklearn.linear_model import LogisticRegression"
   ]
  },
  {
   "cell_type": "code",
   "execution_count": 123,
   "metadata": {},
   "outputs": [
    {
     "data": {
      "text/plain": [
       "LogisticRegression(C=1, class_weight=None, dual=False, fit_intercept=False,\n",
       "          intercept_scaling=1, max_iter=100, multi_class='warn',\n",
       "          n_jobs=None, penalty='l2', random_state=None, solver='liblinear',\n",
       "          tol=0.0001, verbose=0, warm_start=False)"
      ]
     },
     "execution_count": 123,
     "metadata": {},
     "output_type": "execute_result"
    }
   ],
   "source": [
    "logreg = LogisticRegression(fit_intercept = False, C = 1, solver='liblinear')\n",
    "model_log = logreg.fit(X_train, y_train)\n",
    "model_log"
   ]
  },
  {
   "cell_type": "code",
   "execution_count": null,
   "metadata": {},
   "outputs": [],
   "source": [
    "# Inverse regularization parameter - A control variable that retains strength \n",
    "# modification of Regularization by being inversely positioned to the Lambda regulator.\n",
    "\n",
    "# high C = overfit, low C= underfit\n",
    "# want a C value that minimizes the difference b/w train and test accuracy\n",
    "\n",
    "\n",
    "# C = 1/λ"
   ]
  },
  {
   "cell_type": "code",
   "execution_count": 124,
   "metadata": {},
   "outputs": [],
   "source": [
    "# y_hat predicted values\n",
    "y_hat_test = logreg.predict(X_test)\n",
    "y_hat_train = logreg.predict(X_train)"
   ]
  },
  {
   "cell_type": "markdown",
   "metadata": {},
   "source": [
    "### Evaluate"
   ]
  },
  {
   "cell_type": "code",
   "execution_count": 140,
   "metadata": {},
   "outputs": [
    {
     "name": "stdout",
     "output_type": "stream",
     "text": [
      "0.0    976\n",
      "1.0    340\n",
      "Name: NYT_bestseller, dtype: int64\n",
      "0.0    0.741641\n",
      "1.0    0.258359\n",
      "Name: NYT_bestseller, dtype: float64\n"
     ]
    }
   ],
   "source": [
    "import numpy as np\n",
    "#We could subtract the two columns. If values or equal, difference will be zero. Then count number of zeros.\n",
    "residuals = np.abs(y_train - y_hat_train)\n",
    "print(pd.Series(residuals).value_counts())\n",
    "\n",
    "# higher error for non-bestsellers \n",
    "\n",
    "print(pd.Series(residuals).value_counts(normalize=True))"
   ]
  },
  {
   "cell_type": "code",
   "execution_count": 126,
   "metadata": {},
   "outputs": [
    {
     "name": "stdout",
     "output_type": "stream",
     "text": [
      "0.0    236\n",
      "1.0     94\n",
      "Name: NYT_bestseller, dtype: int64\n",
      "0.0    0.715152\n",
      "1.0    0.284848\n",
      "Name: NYT_bestseller, dtype: float64\n"
     ]
    }
   ],
   "source": [
    "# diff in error seems to be about 3% b/w train and test - lets play with C parameter to improve this\n",
    "residuals = np.abs(y_test - y_hat_test)\n",
    "print(pd.Series(residuals).value_counts())\n",
    "print(pd.Series(residuals).value_counts(normalize=True))"
   ]
  },
  {
   "cell_type": "code",
   "execution_count": 127,
   "metadata": {},
   "outputs": [],
   "source": [
    "# model was ~ 74% accurate for training data, and about 72% for our test data"
   ]
  },
  {
   "cell_type": "code",
   "execution_count": 128,
   "metadata": {},
   "outputs": [],
   "source": [
    "# run a confusion matrix\n",
    "from sklearn.metrics import confusion_matrix\n",
    "cnf_matrix = confusion_matrix(y_test, y_hat_test)"
   ]
  },
  {
   "cell_type": "code",
   "execution_count": 129,
   "metadata": {},
   "outputs": [
    {
     "name": "stdout",
     "output_type": "stream",
     "text": [
      "[[201  28]\n",
      " [ 66  35]]\n"
     ]
    }
   ],
   "source": [
    "print(cnf_matrix)"
   ]
  },
  {
   "cell_type": "code",
   "execution_count": 130,
   "metadata": {},
   "outputs": [],
   "source": [
    "def plot_confusion_matrix(cm, classes,\n",
    "                          normalize=False,\n",
    "                          title='Confusion matrix',\n",
    "                          cmap=plt.cm.Blues):\n",
    "    #Add Normalization Option\n",
    "    if normalize:\n",
    "        cm = cm.astype('float') / cm.sum(axis=1)[:, np.newaxis]\n",
    "        print(\"Normalized confusion matrix\")\n",
    "    else:\n",
    "        print('Confusion matrix, without normalization')\n",
    "\n",
    "    print(cm)\n",
    "\n",
    "    plt.imshow(cm, interpolation='nearest', cmap=cmap)\n",
    "    plt.title(title)\n",
    "    plt.colorbar()\n",
    "    tick_marks = np.arange(len(classes))\n",
    "    plt.xticks(tick_marks, classes, rotation=45)\n",
    "    plt.yticks(tick_marks, classes)\n",
    "\n",
    "    fmt = '.2f' if normalize else 'd'\n",
    "    thresh = cm.max() / 2.\n",
    "    for i, j in itertools.product(range(cm.shape[0]), range(cm.shape[1])):\n",
    "        plt.text(j, i, format(cm[i, j], fmt),\n",
    "                 horizontalalignment=\"center\",\n",
    "                 color=\"white\" if cm[i, j] > thresh else \"black\")\n",
    "\n",
    "    plt.tight_layout()\n",
    "    plt.ylabel('True label')\n",
    "    plt.xlabel('Predicted label')"
   ]
  },
  {
   "cell_type": "code",
   "execution_count": 131,
   "metadata": {},
   "outputs": [
    {
     "name": "stdout",
     "output_type": "stream",
     "text": [
      "Normalized confusion matrix\n",
      "[[0.87772926 0.12227074]\n",
      " [0.65346535 0.34653465]]\n"
     ]
    },
    {
     "data": {
      "image/png": "[encoded data removed]",
      "text/plain": [
       "<Figure size 432x288 with 2 Axes>"
      ]
     },
     "metadata": {},
     "output_type": "display_data"
    }
   ],
   "source": [
    "plt.figure()\n",
    "plot_confusion_matrix(cnf_matrix, classes=class_names, normalize=True,\n",
    "                      title='Normalized confusion matrix')\n",
    "\n",
    "plt.show()"
   ]
  },
  {
   "cell_type": "code",
   "execution_count": null,
   "metadata": {},
   "outputs": [],
   "source": [
    "# 'TP', 'TN', 'FP', 'FN'\n",
    "# TP = 35%\n",
    "# TN = 88%\n",
    "# FP = 12%\n",
    "# FN = 65%"
   ]
  },
  {
   "cell_type": "markdown",
   "metadata": {},
   "source": [
    "\n",
    "$Precision = \\frac{\\text{Number of True Positives}}{\\text{Number of Predicted Positives}}$    \n",
    "  \n",
    "\n",
    "$Recall = \\frac{\\text{Number of True Positives}}{\\text{Number of Actual Total Positives}}$  \n",
    "  \n",
    "$Accuracy = \\frac{\\text{Number of True Positives + True Negatives}}{\\text{Total Observations}}$\n",
    "\n",
    "$\\text{F1-Score} = 2\\ \\frac{Precision\\ x\\ Recall}{Precision + Recall}$\n"
   ]
  },
  {
   "cell_type": "code",
   "execution_count": 95,
   "metadata": {},
   "outputs": [],
   "source": [
    "from sklearn.metrics import precision_score, recall_score, accuracy_score, f1_score"
   ]
  },
  {
   "cell_type": "code",
   "execution_count": 141,
   "metadata": {},
   "outputs": [
    {
     "name": "stdout",
     "output_type": "stream",
     "text": [
      "0.4533333333333333\n",
      "0.3465346534653465\n"
     ]
    }
   ],
   "source": [
    "# number of books the model correctly classified as bestsellers divided by\n",
    "# total number of books the model classified as best sellers\n",
    "\n",
    "print(precision_score(y_hat_train, y_train))\n",
    "print(precision_score(y_hat_test, y_test))"
   ]
  },
  {
   "cell_type": "code",
   "execution_count": 142,
   "metadata": {},
   "outputs": [
    {
     "name": "stdout",
     "output_type": "stream",
     "text": [
      "0.6845637583892618\n",
      "0.5555555555555556\n"
     ]
    }
   ],
   "source": [
    "# number of books the model correctly classified as bestsellers divided by\n",
    "# the actual number of bestsellers in the data set\n",
    "\n",
    "print(recall_score(y_hat_train, y_train))\n",
    "print(recall_score(y_hat_test, y_test))"
   ]
  },
  {
   "cell_type": "code",
   "execution_count": 134,
   "metadata": {},
   "outputs": [
    {
     "name": "stdout",
     "output_type": "stream",
     "text": [
      "0.7416413373860182\n",
      "0.7151515151515152\n"
     ]
    }
   ],
   "source": [
    "# things the model classified correctly - this means we are about 9% better than just guessing the \n",
    "# negative class for all observations!\n",
    "print(accuracy_score(y_hat_train, y_train))\n",
    "print(accuracy_score(y_hat_test, y_test))"
   ]
  },
  {
   "cell_type": "code",
   "execution_count": 135,
   "metadata": {},
   "outputs": [
    {
     "name": "stdout",
     "output_type": "stream",
     "text": [
      "0.5454545454545455\n",
      "0.4268292682926829\n"
     ]
    }
   ],
   "source": [
    "# hybrid\n",
    "print(f1_score(y_hat_train, y_train))\n",
    "print(f1_score(y_hat_test, y_test))"
   ]
  },
  {
   "cell_type": "code",
   "execution_count": 111,
   "metadata": {},
   "outputs": [],
   "source": [
    "## ROC and AUC\n",
    "from sklearn.metrics import roc_curve, auc"
   ]
  },
  {
   "cell_type": "code",
   "execution_count": 136,
   "metadata": {},
   "outputs": [],
   "source": [
    "y_score = logreg.fit(X_train, y_train).decision_function(X_test)\n",
    "\n",
    "fpr, tpr, thresholds = roc_curve(y_test, y_score)"
   ]
  },
  {
   "cell_type": "code",
   "execution_count": 137,
   "metadata": {},
   "outputs": [
    {
     "name": "stdout",
     "output_type": "stream",
     "text": [
      "AUC: 0.7376886160231744\n"
     ]
    },
    {
     "data": {
      "image/png": "[encoded data removed]",
      "text/plain": [
       "<Figure size 720x576 with 1 Axes>"
      ]
     },
     "metadata": {},
     "output_type": "display_data"
    }
   ],
   "source": [
    "import matplotlib.pyplot as plt\n",
    "import seaborn as sns\n",
    "%matplotlib inline\n",
    "\n",
    "#Seaborns Beautiful Styling\n",
    "sns.set_style(\"darkgrid\", {\"axes.facecolor\": \".9\"})\n",
    "\n",
    "print('AUC: {}'.format(auc(fpr, tpr)))\n",
    "plt.figure(figsize=(10,8))\n",
    "lw = 2\n",
    "plt.plot(fpr, tpr, color='darkorange',\n",
    "         lw=lw, label='ROC curve')\n",
    "plt.plot([0, 1], [0, 1], color='navy', lw=lw, linestyle='--')\n",
    "plt.xlim([0.0, 1.0])\n",
    "plt.ylim([0.0, 1.05])\n",
    "plt.yticks([i/20.0 for i in range(21)])\n",
    "plt.xticks([i/20.0 for i in range(21)])\n",
    "plt.xlabel('False Positive Rate')\n",
    "plt.ylabel('True Positive Rate')\n",
    "plt.title('Receiver operating characteristic (ROC) Curve')\n",
    "plt.legend(loc=\"lower right\")\n",
    "plt.show()"
   ]
  },
  {
   "cell_type": "code",
   "execution_count": null,
   "metadata": {},
   "outputs": [],
   "source": [
    "# The Receiver Operator Characteristic curve (ROC curve) which \n",
    "# illustrates the true positive rate against false positive rate of our classifier."
   ]
  },
  {
   "cell_type": "markdown",
   "metadata": {},
   "source": [
    "# Model 2: KNN"
   ]
  },
  {
   "cell_type": "code",
   "execution_count": 149,
   "metadata": {},
   "outputs": [],
   "source": [
    "from sklearn.neighbors import KNeighborsClassifier\n",
    "clf1 = KNeighborsClassifier()\n",
    "clf1.fit(X_train, y_train)\n",
    "y_hat_test = clf1.predict(X_test)\n",
    "y_hat_train = logreg.predict(X_train)"
   ]
  },
  {
   "cell_type": "code",
   "execution_count": 151,
   "metadata": {},
   "outputs": [
    {
     "name": "stdout",
     "output_type": "stream",
     "text": [
      "Precision Score: 0.5211267605633803\n",
      "Recall Score: 0.36633663366336633\n",
      "Accuracy Score: 0.703030303030303\n",
      "F1 Score: 0.4302325581395348\n"
     ]
    }
   ],
   "source": [
    "def print_metrics(labels, preds):\n",
    "    print(\"Precision Score: {}\".format(precision_score(labels, preds)))\n",
    "    print(\"Recall Score: {}\".format(recall_score(labels, preds)))\n",
    "    print(\"Accuracy Score: {}\".format(accuracy_score(labels, preds)))\n",
    "    print(\"F1 Score: {}\".format(f1_score(labels, preds)))\n",
    "    \n",
    "print_metrics(y_test, y_hat_test)"
   ]
  },
  {
   "cell_type": "code",
   "execution_count": null,
   "metadata": {},
   "outputs": [],
   "source": [
    "# this model was better in :\n",
    "    # precision score (log reg was 34%)\n",
    "    # f1 (log reg was 42%)\n",
    "\n",
    "# this model was worse in :\n",
    "    # recall score (log reg was 55%)\n",
    "    # accuracy score (log reg was 72%)"
   ]
  },
  {
   "cell_type": "code",
   "execution_count": 152,
   "metadata": {},
   "outputs": [],
   "source": [
    "from sklearn.model_selection import GridSearchCV"
   ]
  },
  {
   "cell_type": "code",
   "execution_count": 164,
   "metadata": {},
   "outputs": [
    {
     "name": "stdout",
     "output_type": "stream",
     "text": [
      "Fitting 3 folds for each of 28 candidates, totalling 84 fits\n"
     ]
    },
    {
     "name": "stderr",
     "output_type": "stream",
     "text": [
      "[Parallel(n_jobs=-1)]: Using backend LokyBackend with 4 concurrent workers.\n",
      "[Parallel(n_jobs=-1)]: Done  84 out of  84 | elapsed:    3.4s finished\n"
     ]
    }
   ],
   "source": [
    "params = {'n_neighbors': [1,3,5,7,9,11,13],\n",
    "          'weights':['uniform','distance'],\n",
    "          'metric':['euclidean','manhattan']}\n",
    "gs=GridSearchCV(clf1,params,n_jobs=-1, verbose=1, cv=3)\n",
    "gs_results= gs.fit(X_train,y_train)"
   ]
  },
  {
   "cell_type": "code",
   "execution_count": 165,
   "metadata": {},
   "outputs": [
    {
     "data": {
      "text/plain": [
       "{'metric': 'manhattan', 'n_neighbors': 13, 'weights': 'uniform'}"
      ]
     },
     "execution_count": 165,
     "metadata": {},
     "output_type": "execute_result"
    }
   ],
   "source": [
    "gs_results.best_params_"
   ]
  },
  {
   "cell_type": "code",
   "execution_count": 166,
   "metadata": {},
   "outputs": [
    {
     "data": {
      "text/plain": [
       "0.7127659574468085"
      ]
     },
     "execution_count": 166,
     "metadata": {},
     "output_type": "execute_result"
    }
   ],
   "source": [
    "gs_results.best_score_"
   ]
  },
  {
   "cell_type": "code",
   "execution_count": 167,
   "metadata": {},
   "outputs": [
    {
     "data": {
      "text/plain": [
       "KNeighborsClassifier(algorithm='auto', leaf_size=30, metric='manhattan',\n",
       "           metric_params=None, n_jobs=None, n_neighbors=13, p=2,\n",
       "           weights='uniform')"
      ]
     },
     "execution_count": 167,
     "metadata": {},
     "output_type": "execute_result"
    }
   ],
   "source": [
    "gs_results.best_estimator_"
   ]
  },
  {
   "cell_type": "code",
   "execution_count": null,
   "metadata": {},
   "outputs": [],
   "source": [
    "# - weights which can be set to either ‘uniform’, where each neighbor \n",
    "# within the boundary carries the same weight or ‘distance’ where closer \n",
    "# points will be more heavily weighted toward the decision. \n",
    "# Note that when weights = 'distance' the class with the highest number in the boundary may not “win the vote”"
   ]
  }
 ],
 "metadata": {
  "kernelspec": {
   "display_name": "Python 3",
   "language": "python",
   "name": "python3"
  },
  "language_info": {
   "codemirror_mode": {
    "name": "ipython",
    "version": 3
   },
   "file_extension": ".py",
   "mimetype": "text/x-python",
   "name": "python",
   "nbconvert_exporter": "python",
   "pygments_lexer": "ipython3",
   "version": "3.7.3"
  }
 },
 "nbformat": 4,
 "nbformat_minor": 2
}

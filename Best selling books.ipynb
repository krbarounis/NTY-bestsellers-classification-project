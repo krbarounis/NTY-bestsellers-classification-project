{
 "cells": [
  {
   "cell_type": "code",
   "execution_count": 3,
   "metadata": {},
   "outputs": [],
   "source": [
    "# Gather data to classify things as NYT bestseller or not\n",
    "# Need to use NYT API - get best seller lists from 2017 until present\n",
    "# gather books published after 2017 for non-bestsellers"
   ]
  },
  {
   "cell_type": "code",
   "execution_count": null,
   "metadata": {},
   "outputs": [],
   "source": [
    "# concerns:\n",
    "# how much data - equal across classes\n",
    "# time component - just make this a date range and say it wasn't on list during this time period\n",
    "# where to get best sellers\n",
    "# what does data look like - columns include:\n",
    "    # author, publisher, rating, number of pages, genre, date published, is it a series, format (?), price (?)"
   ]
  },
  {
   "cell_type": "code",
   "execution_count": 32,
   "metadata": {},
   "outputs": [],
   "source": [
    "import requests\n",
    "import time"
   ]
  },
  {
   "cell_type": "code",
   "execution_count": 18,
   "metadata": {},
   "outputs": [],
   "source": [
    "\n",
    "# yes, there are two rate limits per API: 4,000 requests per day and 10 requests per minute. \n",
    "    # You should sleep 6 seconds between calls to avoid hitting the per minute rate limit. "
   ]
  },
  {
   "cell_type": "code",
   "execution_count": null,
   "metadata": {},
   "outputs": [],
   "source": []
  },
  {
   "cell_type": "code",
   "execution_count": 91,
   "metadata": {},
   "outputs": [],
   "source": [
    "def get_books():\n",
    "    all_best_sellers = []\n",
    "    \n",
    "    # offset the pages by multiples of 20\n",
    "    for i in range(0, 32326, 20):\n",
    "        \n",
    "        params = {'api-key': 'lHZHKOeMyFyDv5m9irwUUIPa4GznOcOp',\n",
    "                 'offset': i}\n",
    "        url = 'https://api.nytimes.com/svc/books/v3/lists/best-sellers/history.json'\n",
    "        response = requests.get(url, params = params)\n",
    "        data = response.json()\n",
    "        \n",
    "        # create dict to hold data each time\n",
    "        all_best_sellers_dict = {}\n",
    "        \n",
    "        for book in data['results']:\n",
    "            \n",
    "            all_best_sellers_dict['title'] = book['title']\n",
    "            all_best_sellers_dict['author'] = book['author']\n",
    "            all_best_sellers_dict['publisher'] = book['publisher']\n",
    "            all_best_sellers_dict['ISBN'] = book['isbns']\n",
    "        \n",
    "            # add the dictionary to master list\n",
    "            all_best_sellers.append(all_best_sellers_dict)\n",
    "       \n",
    "        # print what page we are on\n",
    "        print(i)\n",
    "        \n",
    "        # wait so we don't hit per minute call limit\n",
    "        # print which page we are on\n",
    "        time.sleep(6)\n",
    "            \n",
    "    return all_best_sellers"
   ]
  },
  {
   "cell_type": "code",
   "execution_count": null,
   "metadata": {},
   "outputs": [],
   "source": [
    "books = get_books()"
   ]
  },
  {
   "cell_type": "code",
   "execution_count": null,
   "metadata": {},
   "outputs": [],
   "source": [
    "# persist our data to disk!\n",
    "import json\n",
    "with open('books.json','w') as book_file:\n",
    "    json.dump(books, book_file)"
   ]
  },
  {
   "cell_type": "code",
   "execution_count": null,
   "metadata": {},
   "outputs": [],
   "source": [
    "# author, publisher, title, isbn, list name, published date"
   ]
  },
  {
   "cell_type": "code",
   "execution_count": null,
   "metadata": {},
   "outputs": [],
   "source": [
    "\n",
    "\n",
    "# 2. rating\n",
    "# 3. pages\n",
    "# 4. genre\n",
    "# 6. format\n",
    "\n",
    "# 8. part of series\n",
    "# 9. price?\n",
    "# 10."
   ]
  }
 ],
 "metadata": {
  "kernelspec": {
   "display_name": "Python 3",
   "language": "python",
   "name": "python3"
  },
  "language_info": {
   "codemirror_mode": {
    "name": "ipython",
    "version": 3
   },
   "file_extension": ".py",
   "mimetype": "text/x-python",
   "name": "python",
   "nbconvert_exporter": "python",
   "pygments_lexer": "ipython3",
   "version": "3.7.3"
  }
 },
 "nbformat": 4,
 "nbformat_minor": 2
}
